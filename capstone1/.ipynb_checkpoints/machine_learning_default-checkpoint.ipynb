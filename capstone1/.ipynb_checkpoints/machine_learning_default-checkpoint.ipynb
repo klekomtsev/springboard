{
 "cells": [
  {
   "cell_type": "code",
   "execution_count": 1,
   "metadata": {
    "collapsed": true
   },
   "outputs": [],
   "source": [
    "import pandas as pd\n",
    "import numpy as np\n",
    "import matplotlib.pyplot as plt\n",
    "import seaborn as sns\n",
    "import scipy.stats as stats\n",
    "import math\n",
    "from scipy.stats import norm\n",
    "from sklearn.preprocessing import StandardScaler\n",
    "from sklearn.preprocessing import MinMaxScaler\n",
    "from sklearn.model_selection import train_test_split\n",
    "from sklearn.linear_model import LogisticRegression\n",
    "from sklearn.neighbors import KNeighborsClassifier\n",
    "from sklearn.metrics import accuracy_score\n",
    "from sklearn.model_selection import StratifiedKFold\n",
    "from sklearn.model_selection import learning_curve\n",
    "from sklearn.model_selection import GridSearchCV\n",
    "from sklearn.metrics import confusion_matrix\n",
    "from sklearn.metrics import precision_score, recall_score, f1_score\n",
    "from sklearn.model_selection import validation_curve\n",
    "from sklearn.ensemble import RandomForestClassifier\n",
    "from sklearn.naive_bayes import ComplementNB\n",
    "from sklearn.naive_bayes import GaussianNB\n",
    "from imblearn.over_sampling import RandomOverSampler\n",
    "from sklearn.metrics import roc_auc_score\n",
    "%matplotlib inline\n",
    "\n",
    "\n",
    "df = pd.read_csv(\"defaults.csv\", header = 1, index_col = 'ID')\n",
    "df.columns = [x.lower() for x in list(df.columns)]\n",
    "df.columns = ['credit_amount', 'sex', 'education', 'marital_status', 'age', 'pay_sept', 'pay_aug',\n",
    "       'pay_jul', 'pay_jun', 'pay_may', 'pay_apr', 'bill_amt_sept', 'bill_amt_aug',\n",
    "       'bill_amt_jul', 'bill_amt_jun', 'bill_amt_may', 'bill_amt_apr', 'pay_amt_sept',\n",
    "       'pay_amt_aug', 'pay_amt_jul', 'pay_amt_jun', 'pay_amt_may', 'pay_amt_apr',\n",
    "       'default']\n",
    "\n",
    "for column in ['credit_amount', 'bill_amt_sept', 'bill_amt_aug',\n",
    "       'bill_amt_jul', 'bill_amt_jun', 'bill_amt_may', 'bill_amt_apr', 'pay_amt_sept',\n",
    "       'pay_amt_aug', 'pay_amt_jul', 'pay_amt_jun', 'pay_amt_may', 'pay_amt_apr']:\n",
    "    df[column] = df[column]/1000\n",
    "    \n",
    "gender_remapping = {1: 'male', 2: 'female'}\n",
    "df.sex = df.sex.map(gender_remapping)\n",
    "\n",
    "df.education = df.education.astype(str)\n",
    "education_remapping = {'1': 'grad_school', '2': 'bachelors', '3': 'high_school', '4': 'other', \n",
    "                       '5': 'other', '6': 'other', '0': 'other'}\n",
    "df.education = df.education.map(education_remapping)\n",
    "\n",
    "df.marital_status = df.marital_status.astype(str)\n",
    "marital_status_remapping = {'1': 'married', '2': 'single', '3': 'divorced', '0': 'other'}\n",
    "df.marital_status = df.marital_status.map(marital_status_remapping)"
   ]
  },
  {
   "cell_type": "markdown",
   "metadata": {},
   "source": [
    "# Original dataset"
   ]
  },
  {
   "cell_type": "code",
   "execution_count": 2,
   "metadata": {},
   "outputs": [
    {
     "name": "stdout",
     "output_type": "stream",
     "text": [
      "<class 'pandas.core.frame.DataFrame'>\n",
      "Int64Index: 30000 entries, 1 to 30000\n",
      "Data columns (total 24 columns):\n",
      "credit_amount     30000 non-null float64\n",
      "sex               30000 non-null object\n",
      "education         30000 non-null object\n",
      "marital_status    30000 non-null object\n",
      "age               30000 non-null int64\n",
      "pay_sept          30000 non-null int64\n",
      "pay_aug           30000 non-null int64\n",
      "pay_jul           30000 non-null int64\n",
      "pay_jun           30000 non-null int64\n",
      "pay_may           30000 non-null int64\n",
      "pay_apr           30000 non-null int64\n",
      "bill_amt_sept     30000 non-null float64\n",
      "bill_amt_aug      30000 non-null float64\n",
      "bill_amt_jul      30000 non-null float64\n",
      "bill_amt_jun      30000 non-null float64\n",
      "bill_amt_may      30000 non-null float64\n",
      "bill_amt_apr      30000 non-null float64\n",
      "pay_amt_sept      30000 non-null float64\n",
      "pay_amt_aug       30000 non-null float64\n",
      "pay_amt_jul       30000 non-null float64\n",
      "pay_amt_jun       30000 non-null float64\n",
      "pay_amt_may       30000 non-null float64\n",
      "pay_amt_apr       30000 non-null float64\n",
      "default           30000 non-null int64\n",
      "dtypes: float64(13), int64(8), object(3)\n",
      "memory usage: 5.7+ MB\n"
     ]
    }
   ],
   "source": [
    "df.info()"
   ]
  },
  {
   "cell_type": "code",
   "execution_count": 3,
   "metadata": {},
   "outputs": [
    {
     "data": {
      "text/plain": [
       "Index(['credit_amount', 'sex', 'education', 'marital_status', 'age',\n",
       "       'pay_sept', 'pay_aug', 'pay_jul', 'pay_jun', 'pay_may', 'pay_apr',\n",
       "       'bill_amt_sept', 'bill_amt_aug', 'bill_amt_jul', 'bill_amt_jun',\n",
       "       'bill_amt_may', 'bill_amt_apr', 'pay_amt_sept', 'pay_amt_aug',\n",
       "       'pay_amt_jul', 'pay_amt_jun', 'pay_amt_may', 'pay_amt_apr', 'default'],\n",
       "      dtype='object')"
      ]
     },
     "execution_count": 3,
     "metadata": {},
     "output_type": "execute_result"
    }
   ],
   "source": [
    "df.columns"
   ]
  },
  {
   "cell_type": "markdown",
   "metadata": {},
   "source": [
    "# Feature engineering."
   ]
  },
  {
   "cell_type": "markdown",
   "metadata": {},
   "source": [
    "** Credit utilization columns for each month. **"
   ]
  },
  {
   "cell_type": "code",
   "execution_count": 4,
   "metadata": {
    "collapsed": true
   },
   "outputs": [],
   "source": [
    "for column in ['bill_amt_sept', 'bill_amt_aug', 'bill_amt_jul', 'bill_amt_jun',\n",
    "               'bill_amt_may', 'bill_amt_apr']:\n",
    "    df['credit_util_' + column.split('_')[2]] = df.loc[:, column] / df.loc[:, 'credit_amount']"
   ]
  },
  {
   "cell_type": "code",
   "execution_count": 5,
   "metadata": {},
   "outputs": [
    {
     "data": {
      "text/html": [
       "<div>\n",
       "<style>\n",
       "    .dataframe thead tr:only-child th {\n",
       "        text-align: right;\n",
       "    }\n",
       "\n",
       "    .dataframe thead th {\n",
       "        text-align: left;\n",
       "    }\n",
       "\n",
       "    .dataframe tbody tr th {\n",
       "        vertical-align: top;\n",
       "    }\n",
       "</style>\n",
       "<table border=\"1\" class=\"dataframe\">\n",
       "  <thead>\n",
       "    <tr style=\"text-align: right;\">\n",
       "      <th></th>\n",
       "      <th>credit_amount</th>\n",
       "      <th>bill_amt_sept</th>\n",
       "      <th>credit_util_sept</th>\n",
       "    </tr>\n",
       "    <tr>\n",
       "      <th>ID</th>\n",
       "      <th></th>\n",
       "      <th></th>\n",
       "      <th></th>\n",
       "    </tr>\n",
       "  </thead>\n",
       "  <tbody>\n",
       "    <tr>\n",
       "      <th>1</th>\n",
       "      <td>20.0</td>\n",
       "      <td>3.913</td>\n",
       "      <td>0.195650</td>\n",
       "    </tr>\n",
       "    <tr>\n",
       "      <th>2</th>\n",
       "      <td>120.0</td>\n",
       "      <td>2.682</td>\n",
       "      <td>0.022350</td>\n",
       "    </tr>\n",
       "    <tr>\n",
       "      <th>3</th>\n",
       "      <td>90.0</td>\n",
       "      <td>29.239</td>\n",
       "      <td>0.324878</td>\n",
       "    </tr>\n",
       "    <tr>\n",
       "      <th>4</th>\n",
       "      <td>50.0</td>\n",
       "      <td>46.990</td>\n",
       "      <td>0.939800</td>\n",
       "    </tr>\n",
       "    <tr>\n",
       "      <th>5</th>\n",
       "      <td>50.0</td>\n",
       "      <td>8.617</td>\n",
       "      <td>0.172340</td>\n",
       "    </tr>\n",
       "  </tbody>\n",
       "</table>\n",
       "</div>"
      ],
      "text/plain": [
       "    credit_amount  bill_amt_sept  credit_util_sept\n",
       "ID                                                \n",
       "1            20.0          3.913          0.195650\n",
       "2           120.0          2.682          0.022350\n",
       "3            90.0         29.239          0.324878\n",
       "4            50.0         46.990          0.939800\n",
       "5            50.0          8.617          0.172340"
      ]
     },
     "execution_count": 5,
     "metadata": {},
     "output_type": "execute_result"
    }
   ],
   "source": [
    "df.loc[:5, ['credit_amount', 'bill_amt_sept', 'credit_util_sept']]"
   ]
  },
  {
   "cell_type": "markdown",
   "metadata": {},
   "source": [
    "** Cashflow for each month. **"
   ]
  },
  {
   "cell_type": "code",
   "execution_count": 6,
   "metadata": {
    "collapsed": true
   },
   "outputs": [],
   "source": [
    "bills = ['bill_amt_sept', 'bill_amt_aug', 'bill_amt_jul', 'bill_amt_jun', 'bill_amt_may', 'bill_amt_apr']\n",
    "payms = ['pay_amt_sept', 'pay_amt_aug', 'pay_amt_jul', 'pay_amt_jun', 'pay_amt_may', 'pay_amt_apr']\n",
    "\n",
    "for bill, paym in zip(bills, payms):\n",
    "    df['cash_flow_' + bill.split('_')[2]] = df.loc[:, paym] - df.loc[:, bill] "
   ]
  },
  {
   "cell_type": "code",
   "execution_count": 7,
   "metadata": {},
   "outputs": [
    {
     "data": {
      "text/html": [
       "<div>\n",
       "<style>\n",
       "    .dataframe thead tr:only-child th {\n",
       "        text-align: right;\n",
       "    }\n",
       "\n",
       "    .dataframe thead th {\n",
       "        text-align: left;\n",
       "    }\n",
       "\n",
       "    .dataframe tbody tr th {\n",
       "        vertical-align: top;\n",
       "    }\n",
       "</style>\n",
       "<table border=\"1\" class=\"dataframe\">\n",
       "  <thead>\n",
       "    <tr style=\"text-align: right;\">\n",
       "      <th></th>\n",
       "      <th>credit_amount</th>\n",
       "      <th>sex</th>\n",
       "      <th>education</th>\n",
       "      <th>marital_status</th>\n",
       "      <th>age</th>\n",
       "      <th>pay_sept</th>\n",
       "      <th>pay_aug</th>\n",
       "      <th>pay_jul</th>\n",
       "      <th>pay_jun</th>\n",
       "      <th>pay_may</th>\n",
       "      <th>...</th>\n",
       "      <th>credit_util_jul</th>\n",
       "      <th>credit_util_jun</th>\n",
       "      <th>credit_util_may</th>\n",
       "      <th>credit_util_apr</th>\n",
       "      <th>cash_flow_sept</th>\n",
       "      <th>cash_flow_aug</th>\n",
       "      <th>cash_flow_jul</th>\n",
       "      <th>cash_flow_jun</th>\n",
       "      <th>cash_flow_may</th>\n",
       "      <th>cash_flow_apr</th>\n",
       "    </tr>\n",
       "    <tr>\n",
       "      <th>ID</th>\n",
       "      <th></th>\n",
       "      <th></th>\n",
       "      <th></th>\n",
       "      <th></th>\n",
       "      <th></th>\n",
       "      <th></th>\n",
       "      <th></th>\n",
       "      <th></th>\n",
       "      <th></th>\n",
       "      <th></th>\n",
       "      <th></th>\n",
       "      <th></th>\n",
       "      <th></th>\n",
       "      <th></th>\n",
       "      <th></th>\n",
       "      <th></th>\n",
       "      <th></th>\n",
       "      <th></th>\n",
       "      <th></th>\n",
       "      <th></th>\n",
       "      <th></th>\n",
       "    </tr>\n",
       "  </thead>\n",
       "  <tbody>\n",
       "    <tr>\n",
       "      <th>1</th>\n",
       "      <td>20.0</td>\n",
       "      <td>female</td>\n",
       "      <td>bachelors</td>\n",
       "      <td>married</td>\n",
       "      <td>24</td>\n",
       "      <td>2</td>\n",
       "      <td>2</td>\n",
       "      <td>-1</td>\n",
       "      <td>-1</td>\n",
       "      <td>-2</td>\n",
       "      <td>...</td>\n",
       "      <td>0.034450</td>\n",
       "      <td>0.000000</td>\n",
       "      <td>0.000000</td>\n",
       "      <td>0.000000</td>\n",
       "      <td>-3.913</td>\n",
       "      <td>-2.413</td>\n",
       "      <td>-0.689</td>\n",
       "      <td>0.000</td>\n",
       "      <td>0.000</td>\n",
       "      <td>0.000</td>\n",
       "    </tr>\n",
       "    <tr>\n",
       "      <th>2</th>\n",
       "      <td>120.0</td>\n",
       "      <td>female</td>\n",
       "      <td>bachelors</td>\n",
       "      <td>single</td>\n",
       "      <td>26</td>\n",
       "      <td>-1</td>\n",
       "      <td>2</td>\n",
       "      <td>0</td>\n",
       "      <td>0</td>\n",
       "      <td>0</td>\n",
       "      <td>...</td>\n",
       "      <td>0.022350</td>\n",
       "      <td>0.027267</td>\n",
       "      <td>0.028792</td>\n",
       "      <td>0.027175</td>\n",
       "      <td>-2.682</td>\n",
       "      <td>-0.725</td>\n",
       "      <td>-1.682</td>\n",
       "      <td>-2.272</td>\n",
       "      <td>-3.455</td>\n",
       "      <td>-1.261</td>\n",
       "    </tr>\n",
       "    <tr>\n",
       "      <th>3</th>\n",
       "      <td>90.0</td>\n",
       "      <td>female</td>\n",
       "      <td>bachelors</td>\n",
       "      <td>single</td>\n",
       "      <td>34</td>\n",
       "      <td>0</td>\n",
       "      <td>0</td>\n",
       "      <td>0</td>\n",
       "      <td>0</td>\n",
       "      <td>0</td>\n",
       "      <td>...</td>\n",
       "      <td>0.150656</td>\n",
       "      <td>0.159233</td>\n",
       "      <td>0.166089</td>\n",
       "      <td>0.172767</td>\n",
       "      <td>-27.721</td>\n",
       "      <td>-12.527</td>\n",
       "      <td>-12.559</td>\n",
       "      <td>-13.331</td>\n",
       "      <td>-13.948</td>\n",
       "      <td>-10.549</td>\n",
       "    </tr>\n",
       "    <tr>\n",
       "      <th>4</th>\n",
       "      <td>50.0</td>\n",
       "      <td>female</td>\n",
       "      <td>bachelors</td>\n",
       "      <td>married</td>\n",
       "      <td>37</td>\n",
       "      <td>0</td>\n",
       "      <td>0</td>\n",
       "      <td>0</td>\n",
       "      <td>0</td>\n",
       "      <td>0</td>\n",
       "      <td>...</td>\n",
       "      <td>0.985820</td>\n",
       "      <td>0.566280</td>\n",
       "      <td>0.579180</td>\n",
       "      <td>0.590940</td>\n",
       "      <td>-44.990</td>\n",
       "      <td>-46.214</td>\n",
       "      <td>-48.091</td>\n",
       "      <td>-27.214</td>\n",
       "      <td>-27.890</td>\n",
       "      <td>-28.547</td>\n",
       "    </tr>\n",
       "    <tr>\n",
       "      <th>5</th>\n",
       "      <td>50.0</td>\n",
       "      <td>male</td>\n",
       "      <td>bachelors</td>\n",
       "      <td>married</td>\n",
       "      <td>57</td>\n",
       "      <td>-1</td>\n",
       "      <td>0</td>\n",
       "      <td>-1</td>\n",
       "      <td>0</td>\n",
       "      <td>0</td>\n",
       "      <td>...</td>\n",
       "      <td>0.716700</td>\n",
       "      <td>0.418800</td>\n",
       "      <td>0.382920</td>\n",
       "      <td>0.382620</td>\n",
       "      <td>-6.617</td>\n",
       "      <td>31.011</td>\n",
       "      <td>-25.835</td>\n",
       "      <td>-11.940</td>\n",
       "      <td>-18.457</td>\n",
       "      <td>-18.452</td>\n",
       "    </tr>\n",
       "  </tbody>\n",
       "</table>\n",
       "<p>5 rows × 36 columns</p>\n",
       "</div>"
      ],
      "text/plain": [
       "    credit_amount     sex  education marital_status  age  pay_sept  pay_aug  \\\n",
       "ID                                                                            \n",
       "1            20.0  female  bachelors        married   24         2        2   \n",
       "2           120.0  female  bachelors         single   26        -1        2   \n",
       "3            90.0  female  bachelors         single   34         0        0   \n",
       "4            50.0  female  bachelors        married   37         0        0   \n",
       "5            50.0    male  bachelors        married   57        -1        0   \n",
       "\n",
       "    pay_jul  pay_jun  pay_may      ...        credit_util_jul  \\\n",
       "ID                                 ...                          \n",
       "1        -1       -1       -2      ...               0.034450   \n",
       "2         0        0        0      ...               0.022350   \n",
       "3         0        0        0      ...               0.150656   \n",
       "4         0        0        0      ...               0.985820   \n",
       "5        -1        0        0      ...               0.716700   \n",
       "\n",
       "    credit_util_jun  credit_util_may  credit_util_apr  cash_flow_sept  \\\n",
       "ID                                                                      \n",
       "1          0.000000         0.000000         0.000000          -3.913   \n",
       "2          0.027267         0.028792         0.027175          -2.682   \n",
       "3          0.159233         0.166089         0.172767         -27.721   \n",
       "4          0.566280         0.579180         0.590940         -44.990   \n",
       "5          0.418800         0.382920         0.382620          -6.617   \n",
       "\n",
       "    cash_flow_aug  cash_flow_jul  cash_flow_jun  cash_flow_may  cash_flow_apr  \n",
       "ID                                                                             \n",
       "1          -2.413         -0.689          0.000          0.000          0.000  \n",
       "2          -0.725         -1.682         -2.272         -3.455         -1.261  \n",
       "3         -12.527        -12.559        -13.331        -13.948        -10.549  \n",
       "4         -46.214        -48.091        -27.214        -27.890        -28.547  \n",
       "5          31.011        -25.835        -11.940        -18.457        -18.452  \n",
       "\n",
       "[5 rows x 36 columns]"
      ]
     },
     "execution_count": 7,
     "metadata": {},
     "output_type": "execute_result"
    }
   ],
   "source": [
    "df.head()"
   ]
  },
  {
   "cell_type": "markdown",
   "metadata": {},
   "source": [
    "# Train - test split."
   ]
  },
  {
   "cell_type": "code",
   "execution_count": 8,
   "metadata": {
    "collapsed": true
   },
   "outputs": [],
   "source": [
    "X_columns = df.drop(['default'], axis = 1).columns\n",
    "X = df.drop(['default'], axis = 1).values\n",
    "y = df[['default']].values.ravel()"
   ]
  },
  {
   "cell_type": "code",
   "execution_count": 9,
   "metadata": {},
   "outputs": [
    {
     "name": "stdout",
     "output_type": "stream",
     "text": [
      "[(0, 23364), (1, 6636)]\n"
     ]
    }
   ],
   "source": [
    "from collections import Counter\n",
    "print(sorted(Counter(y).items()))"
   ]
  },
  {
   "cell_type": "code",
   "execution_count": 10,
   "metadata": {
    "collapsed": true
   },
   "outputs": [],
   "source": [
    "X_train, X_test, y_train, y_test = \\\n",
    "        train_test_split(X, y, stratify = y, test_size=0.3, random_state=1)"
   ]
  },
  {
   "cell_type": "code",
   "execution_count": 11,
   "metadata": {},
   "outputs": [
    {
     "name": "stdout",
     "output_type": "stream",
     "text": [
      "[(0, 16355), (1, 4645)]\n"
     ]
    }
   ],
   "source": [
    "print(sorted(Counter(y_train).items()))"
   ]
  },
  {
   "cell_type": "code",
   "execution_count": 12,
   "metadata": {},
   "outputs": [
    {
     "name": "stdout",
     "output_type": "stream",
     "text": [
      "[(0, 7009), (1, 1991)]\n"
     ]
    }
   ],
   "source": [
    "print(sorted(Counter(y_test).items()))"
   ]
  },
  {
   "cell_type": "code",
   "execution_count": 13,
   "metadata": {
    "collapsed": true
   },
   "outputs": [],
   "source": [
    "X_train = pd.DataFrame(X_train, columns = X_columns)\n",
    "X_test = pd.DataFrame(X_test, columns = X_columns)"
   ]
  },
  {
   "cell_type": "code",
   "execution_count": 14,
   "metadata": {
    "collapsed": true
   },
   "outputs": [],
   "source": [
    "X_train['credit_amount'] = X_train['credit_amount'].astype('float64')\n",
    "X_train.loc[:, 'age':'pay_apr'] = X_train.loc[:, 'age':'pay_apr'].astype('int64')\n",
    "X_train.loc[:, 'bill_amt_sept':'pay_amt_apr'] = X_train.loc[:, 'bill_amt_sept':'pay_amt_apr'].astype('float64')\n",
    "X_train.loc[:, 'credit_util_sept':'cash_flow_apr'] = X_train.loc[:, 'credit_util_sept':'cash_flow_apr'].astype('float64')\n",
    "\n",
    "X_test['credit_amount'] = X_test['credit_amount'].astype('float64')\n",
    "X_test.loc[:, 'age':'pay_apr'] = X_test.loc[:, 'age':'pay_apr'].astype('int64')\n",
    "X_test.loc[:, 'bill_amt_sept':'pay_amt_apr'] = X_test.loc[:, 'bill_amt_sept':'pay_amt_apr'].astype('float64')\n",
    "X_test.loc[:, 'credit_util_sept':'cash_flow_apr'] = X_test.loc[:, 'credit_util_sept':'cash_flow_apr'].astype('float64')"
   ]
  },
  {
   "cell_type": "code",
   "execution_count": 15,
   "metadata": {},
   "outputs": [
    {
     "name": "stdout",
     "output_type": "stream",
     "text": [
      "<class 'pandas.core.frame.DataFrame'>\n",
      "RangeIndex: 21000 entries, 0 to 20999\n",
      "Data columns (total 35 columns):\n",
      "credit_amount       21000 non-null float64\n",
      "sex                 21000 non-null object\n",
      "education           21000 non-null object\n",
      "marital_status      21000 non-null object\n",
      "age                 21000 non-null int64\n",
      "pay_sept            21000 non-null int64\n",
      "pay_aug             21000 non-null int64\n",
      "pay_jul             21000 non-null int64\n",
      "pay_jun             21000 non-null int64\n",
      "pay_may             21000 non-null int64\n",
      "pay_apr             21000 non-null int64\n",
      "bill_amt_sept       21000 non-null float64\n",
      "bill_amt_aug        21000 non-null float64\n",
      "bill_amt_jul        21000 non-null float64\n",
      "bill_amt_jun        21000 non-null float64\n",
      "bill_amt_may        21000 non-null float64\n",
      "bill_amt_apr        21000 non-null float64\n",
      "pay_amt_sept        21000 non-null float64\n",
      "pay_amt_aug         21000 non-null float64\n",
      "pay_amt_jul         21000 non-null float64\n",
      "pay_amt_jun         21000 non-null float64\n",
      "pay_amt_may         21000 non-null float64\n",
      "pay_amt_apr         21000 non-null float64\n",
      "credit_util_sept    21000 non-null float64\n",
      "credit_util_aug     21000 non-null float64\n",
      "credit_util_jul     21000 non-null float64\n",
      "credit_util_jun     21000 non-null float64\n",
      "credit_util_may     21000 non-null float64\n",
      "credit_util_apr     21000 non-null float64\n",
      "cash_flow_sept      21000 non-null float64\n",
      "cash_flow_aug       21000 non-null float64\n",
      "cash_flow_jul       21000 non-null float64\n",
      "cash_flow_jun       21000 non-null float64\n",
      "cash_flow_may       21000 non-null float64\n",
      "cash_flow_apr       21000 non-null float64\n",
      "dtypes: float64(25), int64(7), object(3)\n",
      "memory usage: 5.6+ MB\n"
     ]
    }
   ],
   "source": [
    "X_train.info()"
   ]
  },
  {
   "cell_type": "code",
   "execution_count": 16,
   "metadata": {},
   "outputs": [
    {
     "data": {
      "image/png": "[encoded data removed]",
      "text/plain": [
       "<Figure size 432x288 with 1 Axes>"
      ]
     },
     "metadata": {},
     "output_type": "display_data"
    }
   ],
   "source": [
    "_ = sns.boxplot(X_train['pay_amt_apr'])  \n",
    "plt.show()"
   ]
  },
  {
   "cell_type": "code",
   "execution_count": 17,
   "metadata": {
    "collapsed": true
   },
   "outputs": [],
   "source": [
    "float_columns = X_train.select_dtypes(include=['float64']).columns\n",
    "int_columns=X_train.select_dtypes(include=['int64']).columns\n",
    "\n",
    "numeric_columns=float_columns.union(int_columns)\n",
    "\n",
    "categorical_columns = X_train.select_dtypes(include=['object']).columns"
   ]
  },
  {
   "cell_type": "code",
   "execution_count": 18,
   "metadata": {},
   "outputs": [
    {
     "data": {
      "text/plain": [
       "Index(['sex', 'education', 'marital_status'], dtype='object')"
      ]
     },
     "execution_count": 18,
     "metadata": {},
     "output_type": "execute_result"
    }
   ],
   "source": [
    "categorical_columns"
   ]
  },
  {
   "cell_type": "code",
   "execution_count": 19,
   "metadata": {},
   "outputs": [
    {
     "data": {
      "text/plain": [
       "Index(['age', 'bill_amt_apr', 'bill_amt_aug', 'bill_amt_jul', 'bill_amt_jun',\n",
       "       'bill_amt_may', 'bill_amt_sept', 'cash_flow_apr', 'cash_flow_aug',\n",
       "       'cash_flow_jul', 'cash_flow_jun', 'cash_flow_may', 'cash_flow_sept',\n",
       "       'credit_amount', 'credit_util_apr', 'credit_util_aug',\n",
       "       'credit_util_jul', 'credit_util_jun', 'credit_util_may',\n",
       "       'credit_util_sept', 'pay_amt_apr', 'pay_amt_aug', 'pay_amt_jul',\n",
       "       'pay_amt_jun', 'pay_amt_may', 'pay_amt_sept', 'pay_apr', 'pay_aug',\n",
       "       'pay_jul', 'pay_jun', 'pay_may', 'pay_sept'],\n",
       "      dtype='object')"
      ]
     },
     "execution_count": 19,
     "metadata": {},
     "output_type": "execute_result"
    }
   ],
   "source": [
    "numeric_columns"
   ]
  },
  {
   "cell_type": "markdown",
   "metadata": {},
   "source": [
    "# Replacing outliers, imputing missing numerical and categorical values."
   ]
  },
  {
   "cell_type": "code",
   "execution_count": 20,
   "metadata": {
    "collapsed": true
   },
   "outputs": [],
   "source": [
    "def outlier_replace(data,train,column):\n",
    "    quartile_1, quartile_3 = np.percentile(train[column], [25, 75])\n",
    "    iqr = quartile_3 - quartile_1\n",
    "    lower_bound = quartile_1 - (float(iqr) * 1.5)\n",
    "    upper_bound = quartile_3 + (float(iqr) * 1.5)\n",
    "    data.loc[(data[column]<lower_bound) | (data[column] > upper_bound),[column]] = train[column].median()\n",
    "    return data[column]"
   ]
  },
  {
   "cell_type": "code",
   "execution_count": 21,
   "metadata": {
    "collapsed": true
   },
   "outputs": [],
   "source": [
    "def imputation_missing_numerical(data,train,column):\n",
    "    data[column] = data[column].fillna(train[column].median())\n",
    "    return data[column]"
   ]
  },
  {
   "cell_type": "code",
   "execution_count": 22,
   "metadata": {
    "collapsed": true
   },
   "outputs": [],
   "source": [
    "def imputation_missing_categorical(data,column):\n",
    "    data[column] = data[column].fillna('other')\n",
    "    return data[column]   "
   ]
  },
  {
   "cell_type": "code",
   "execution_count": 23,
   "metadata": {
    "collapsed": true
   },
   "outputs": [],
   "source": [
    "for numeric in numeric_columns:\n",
    "    X_train[numeric] = outlier_replace(X_train,X_train,numeric)\n",
    "    #X_train[numeric] = imputation_missing_numerical(train_x,train_x,numeric)\n",
    "    \n",
    "    X_test[numeric] = outlier_replace(X_test,X_train,numeric)\n",
    "    #X_test[numeric] = imputation_missing_numerical(X_test,X_train,numeric)   \n",
    "    \n",
    "#for categorical in categorical_columns:\n",
    "#    X_train[categorical] = imputation_missing_categorical(X_train,categorical)\n",
    "#    X_test[categorical] = imputation_missing_categorical(X_test,categorical)   "
   ]
  },
  {
   "cell_type": "code",
   "execution_count": 24,
   "metadata": {
    "collapsed": true
   },
   "outputs": [],
   "source": [
    "def dummies(data,col):\n",
    "    y = pd.get_dummies(data[col],prefix=col)\n",
    "    data.drop([col],axis=1,inplace=True)\n",
    "    return y   "
   ]
  },
  {
   "cell_type": "code",
   "execution_count": 25,
   "metadata": {
    "collapsed": true
   },
   "outputs": [],
   "source": [
    "X_train_dummies  = pd.concat([dummies(X_train,col) for col in categorical_columns], axis=1)\n",
    "X_test_dummies  = pd.concat([dummies(X_test,col) for col in categorical_columns], axis=1) "
   ]
  },
  {
   "cell_type": "code",
   "execution_count": 26,
   "metadata": {},
   "outputs": [
    {
     "name": "stdout",
     "output_type": "stream",
     "text": [
      "set()\n"
     ]
    }
   ],
   "source": [
    "# Get missing columns in the training vs test set\n",
    "missing_cols = set(X_train_dummies.columns) - set(X_test_dummies.columns )\n",
    "print(missing_cols)\n",
    "\n",
    "# Add a missing column in the test set with default values equal to 0\n",
    "for col in missing_cols:\n",
    "    X_test_dummies[col] = 0\n",
    "\n",
    "X_test_dummies=X_test_dummies[X_train_dummies.columns]"
   ]
  },
  {
   "cell_type": "code",
   "execution_count": 27,
   "metadata": {
    "collapsed": true
   },
   "outputs": [],
   "source": [
    "scaler = StandardScaler()\n",
    "X_train[numeric_columns] = scaler.fit_transform(X_train[numeric_columns])\n",
    "X_test[numeric_columns] = scaler.transform(X_test[numeric_columns])"
   ]
  },
  {
   "cell_type": "code",
   "execution_count": 28,
   "metadata": {
    "collapsed": true
   },
   "outputs": [],
   "source": [
    "X_train = pd.concat([X_train[numeric_columns],X_train_dummies],axis=1)\n",
    "X_test = pd.concat([X_test[numeric_columns],X_test_dummies],axis=1)"
   ]
  },
  {
   "cell_type": "code",
   "execution_count": 29,
   "metadata": {},
   "outputs": [
    {
     "name": "stdout",
     "output_type": "stream",
     "text": [
      "<class 'pandas.core.frame.DataFrame'>\n",
      "RangeIndex: 21000 entries, 0 to 20999\n",
      "Data columns (total 42 columns):\n",
      "age                        21000 non-null float64\n",
      "bill_amt_apr               21000 non-null float64\n",
      "bill_amt_aug               21000 non-null float64\n",
      "bill_amt_jul               21000 non-null float64\n",
      "bill_amt_jun               21000 non-null float64\n",
      "bill_amt_may               21000 non-null float64\n",
      "bill_amt_sept              21000 non-null float64\n",
      "cash_flow_apr              21000 non-null float64\n",
      "cash_flow_aug              21000 non-null float64\n",
      "cash_flow_jul              21000 non-null float64\n",
      "cash_flow_jun              21000 non-null float64\n",
      "cash_flow_may              21000 non-null float64\n",
      "cash_flow_sept             21000 non-null float64\n",
      "credit_amount              21000 non-null float64\n",
      "credit_util_apr            21000 non-null float64\n",
      "credit_util_aug            21000 non-null float64\n",
      "credit_util_jul            21000 non-null float64\n",
      "credit_util_jun            21000 non-null float64\n",
      "credit_util_may            21000 non-null float64\n",
      "credit_util_sept           21000 non-null float64\n",
      "pay_amt_apr                21000 non-null float64\n",
      "pay_amt_aug                21000 non-null float64\n",
      "pay_amt_jul                21000 non-null float64\n",
      "pay_amt_jun                21000 non-null float64\n",
      "pay_amt_may                21000 non-null float64\n",
      "pay_amt_sept               21000 non-null float64\n",
      "pay_apr                    21000 non-null float64\n",
      "pay_aug                    21000 non-null float64\n",
      "pay_jul                    21000 non-null float64\n",
      "pay_jun                    21000 non-null float64\n",
      "pay_may                    21000 non-null float64\n",
      "pay_sept                   21000 non-null float64\n",
      "sex_female                 21000 non-null uint8\n",
      "sex_male                   21000 non-null uint8\n",
      "education_bachelors        21000 non-null uint8\n",
      "education_grad_school      21000 non-null uint8\n",
      "education_high_school      21000 non-null uint8\n",
      "education_other            21000 non-null uint8\n",
      "marital_status_divorced    21000 non-null uint8\n",
      "marital_status_married     21000 non-null uint8\n",
      "marital_status_other       21000 non-null uint8\n",
      "marital_status_single      21000 non-null uint8\n",
      "dtypes: float64(32), uint8(10)\n",
      "memory usage: 5.3 MB\n"
     ]
    }
   ],
   "source": [
    "X_train.info()"
   ]
  },
  {
   "cell_type": "code",
   "execution_count": 30,
   "metadata": {},
   "outputs": [
    {
     "data": {
      "text/plain": [
       "((21000, 42), (9000, 42))"
      ]
     },
     "execution_count": 30,
     "metadata": {},
     "output_type": "execute_result"
    }
   ],
   "source": [
    "X_train.shape, X_test.shape"
   ]
  },
  {
   "cell_type": "markdown",
   "metadata": {},
   "source": [
    "# Learning curve plotting function"
   ]
  },
  {
   "cell_type": "markdown",
   "metadata": {},
   "source": [
    "** AUC scorer function. **"
   ]
  },
  {
   "cell_type": "code",
   "execution_count": 31,
   "metadata": {
    "collapsed": true
   },
   "outputs": [],
   "source": [
    "from sklearn.metrics import make_scorer\n",
    "\n",
    "scorer = make_scorer(roc_auc_score, greater_is_better=True, needs_proba = True)"
   ]
  },
  {
   "cell_type": "code",
   "execution_count": 32,
   "metadata": {
    "collapsed": true
   },
   "outputs": [],
   "source": [
    "def learning_curve_plot(X_train, y_train, clf, clf_name):\n",
    "    train_sizes, train_scores, test_scores =\\\n",
    "                    learning_curve(estimator=clf, \n",
    "                    X=X_train, \n",
    "                    y=y_train,\n",
    "                    train_sizes=np.linspace(0.1, 1.0, 5),\n",
    "                    cv=5,\n",
    "                    scoring = scorer,\n",
    "                    n_jobs=-1)\n",
    "\n",
    "    train_mean = np.mean(train_scores, axis=1)\n",
    "    train_std = np.std(train_scores, axis=1)\n",
    "    test_mean = np.mean(test_scores, axis=1)\n",
    "    test_std = np.std(test_scores, axis=1)\n",
    "\n",
    "    plt.plot(train_sizes, train_mean, \n",
    "             color='blue', marker='o', \n",
    "             markersize=5, label='training AUC')\n",
    "\n",
    "    plt.fill_between(train_sizes, \n",
    "                     train_mean + train_std,\n",
    "                     train_mean - train_std, \n",
    "                     alpha=0.15, color='blue')\n",
    "\n",
    "    plt.plot(train_sizes, test_mean, \n",
    "             color='green', linestyle='--', \n",
    "             marker='s', markersize=5, \n",
    "             label='validation AUC')\n",
    "\n",
    "    plt.fill_between(train_sizes, \n",
    "                     test_mean + test_std,\n",
    "                     test_mean - test_std, \n",
    "                     alpha=0.15, color='green')\n",
    "\n",
    "    plt.grid()\n",
    "    plt.title('Learning curve for ' + str(clf_name))\n",
    "    plt.xlabel('Number of training samples')\n",
    "    plt.ylabel('AUC score')\n",
    "    plt.legend(loc='lower right')\n",
    "    plt.ylim([min(test_mean) - 0.025, max(train_mean) + 0.025])\n",
    "    plt.tight_layout()\n",
    "    return plt"
   ]
  },
  {
   "cell_type": "markdown",
   "metadata": {},
   "source": [
    "# Validation curves plotting function"
   ]
  },
  {
   "cell_type": "code",
   "execution_count": 33,
   "metadata": {
    "collapsed": true
   },
   "outputs": [],
   "source": [
    "def validation_curve_plot(X_train, y_train, clf, param_range, param_name, clf_name):\n",
    "\n",
    "    train_scores, test_scores = validation_curve(\n",
    "                    estimator=clf, \n",
    "                    X=X_train, \n",
    "                    y=y_train, \n",
    "                    param_name=param_name, \n",
    "                    param_range=param_range,\n",
    "                    cv=5,\n",
    "                    scoring = scorer,\n",
    "                    n_jobs = -1)\n",
    "\n",
    "    train_mean = np.mean(train_scores, axis=1)\n",
    "    train_std = np.std(train_scores, axis=1)\n",
    "    test_mean = np.mean(test_scores, axis=1)\n",
    "    test_std = np.std(test_scores, axis=1)\n",
    "\n",
    "    plt.plot(param_range, train_mean, \n",
    "             color='blue', marker='o', \n",
    "             markersize=5, label='training AUC')\n",
    "\n",
    "    plt.fill_between(param_range, train_mean + train_std,\n",
    "                     train_mean - train_std, alpha=0.15,\n",
    "                     color='blue')\n",
    "\n",
    "    plt.plot(param_range, test_mean, \n",
    "             color='green', linestyle='--', \n",
    "             marker='s', markersize=5, \n",
    "             label='validation AUC')\n",
    "\n",
    "    plt.fill_between(param_range, \n",
    "                     test_mean + test_std,\n",
    "                     test_mean - test_std, \n",
    "                     alpha=0.15, color='green')\n",
    "\n",
    "    plt.grid()\n",
    "    plt.xscale('log')\n",
    "    plt.legend(loc='lower right')\n",
    "    plt.xlabel('Parameter ' + str(param_name))\n",
    "    plt.ylabel('AUC score')\n",
    "    plt.title('Validation curve for ' + str(clf_name) + ':' + str(param_name))\n",
    "    plt.ylim([min(test_mean) - 0.025, max(train_mean) + 0.025])\n",
    "    plt.tight_layout()\n",
    "    return plt"
   ]
  },
  {
   "cell_type": "markdown",
   "metadata": {},
   "source": [
    "# Logistic regression"
   ]
  },
  {
   "cell_type": "code",
   "execution_count": 34,
   "metadata": {},
   "outputs": [
    {
     "name": "stdout",
     "output_type": "stream",
     "text": [
      "AUC score for the training data: 0.683380320716\n",
      "AUC score for the test data: 0.677897807934\n"
     ]
    }
   ],
   "source": [
    "clf = LogisticRegression(solver = 'lbfgs', penalty = 'l2', n_jobs = -1, max_iter = 150)\n",
    "\n",
    "# Fit the model on the trainng data.\n",
    "clf.fit(X_train, y_train)\n",
    "\n",
    "y_pred_train = clf.predict(X_train)\n",
    "y_pred_test = clf.predict(X_test)\n",
    "\n",
    "print('AUC score for the training data:', \n",
    "      roc_auc_score(y_true = y_train, y_score = clf.predict_proba(X_train)[:,1]))\n",
    "print('AUC score for the test data:', \n",
    "      roc_auc_score(y_true = y_test, y_score = clf.predict_proba(X_test)[:,1]))\n",
    "\n",
    "#print('Training accuracy:', accuracy_score(y_true = y_train, y_pred = y_pred_train))\n",
    "#print('Test accuracy:', accuracy_score(y_true = y_test, y_pred = y_pred_test))"
   ]
  },
  {
   "cell_type": "markdown",
   "metadata": {},
   "source": [
    "# Validation curve (logistic regression)"
   ]
  },
  {
   "cell_type": "code",
   "execution_count": 35,
   "metadata": {},
   "outputs": [
    {
     "data": {
      "image/png": "[encoded data removed]",
      "text/plain": [
       "<Figure size 432x288 with 1 Axes>"
      ]
     },
     "metadata": {},
     "output_type": "display_data"
    }
   ],
   "source": [
    "clf_param_range = [0.001, 0.01, 0.1, 1.0, 10.0, 100.0]\n",
    "\n",
    "validation_curve_plot(X_train.values, y_train, clf, clf_param_range, 'C', 'logistic regression').show()"
   ]
  },
  {
   "cell_type": "markdown",
   "metadata": {},
   "source": [
    "# Hyperparameter tuning using grid search (logistic regression)"
   ]
  },
  {
   "cell_type": "code",
   "execution_count": 36,
   "metadata": {},
   "outputs": [
    {
     "name": "stdout",
     "output_type": "stream",
     "text": [
      "Best AUC score on training data: 0.679098441173\n",
      "Best parameters: {'C': 1.0, 'solver': 'lbfgs'}\n"
     ]
    }
   ],
   "source": [
    "C_range = [0.0001, 0.001, 0.01, 0.1, 1.0, 10.0, 100.0, 1000.0]\n",
    "solvers = ['newton-cg', 'lbfgs', 'liblinear', 'sag', 'saga']\n",
    "\n",
    "param_grid = [{'C': C_range, 'solver': solvers}]\n",
    "\n",
    "gs = GridSearchCV(estimator=clf, \n",
    "                  param_grid=param_grid, \n",
    "                  scoring=scorer, \n",
    "                  cv=5,\n",
    "                  n_jobs=-1)\n",
    "\n",
    "gs = gs.fit(X_train, y_train)\n",
    "print('Best AUC score on training data: ' + str(gs.best_score_))\n",
    "print('Best parameters: ' + str(gs.best_params_))"
   ]
  },
  {
   "cell_type": "code",
   "execution_count": 37,
   "metadata": {},
   "outputs": [
    {
     "name": "stdout",
     "output_type": "stream",
     "text": [
      "AUC score on test data: 0.678\n"
     ]
    }
   ],
   "source": [
    "best_clf = gs.best_estimator_\n",
    "best_clf.fit(X_train, y_train)\n",
    "print('AUC score on test data: %.3f' %roc_auc_score(y_true = y_test, y_score = best_clf.predict_proba(X_test)[:,1]))"
   ]
  },
  {
   "cell_type": "markdown",
   "metadata": {},
   "source": [
    "# Stratified K-fold cross-validation (logistic regression)."
   ]
  },
  {
   "cell_type": "code",
   "execution_count": 38,
   "metadata": {},
   "outputs": [
    {
     "name": "stdout",
     "output_type": "stream",
     "text": [
      "Fold: 1, Class dist.: [13084  3716], Train AUC score: 0.679\n",
      "Fold: 2, Class dist.: [13084  3716], Train AUC score: 0.689\n",
      "Fold: 3, Class dist.: [13084  3716], Train AUC score: 0.679\n",
      "Fold: 4, Class dist.: [13084  3716], Train AUC score: 0.677\n",
      "Fold: 5, Class dist.: [13084  3716], Train AUC score: 0.669\n",
      "\n",
      " CV AUC score: 0.678 +/- 0.006\n"
     ]
    }
   ],
   "source": [
    "kfold = StratifiedKFold(n_splits=5, shuffle=True, random_state=1)\n",
    "\n",
    "scores = []\n",
    "for k, (train_fold, test_fold) in enumerate(kfold.split(X_train.values, y_train)):\n",
    "    best_clf.fit(X_train.values[train_fold], y_train[train_fold])\n",
    "    score = roc_auc_score(y_true = y_train[test_fold], \n",
    "                          y_score = best_clf.predict_proba(X_train.values[test_fold])[:,1])\n",
    "    scores.append(score)\n",
    "    print('Fold: %s, Class dist.: %s, Train AUC score: %.3f' % (k+1, np.bincount(y_train[train_fold]), score))\n",
    "    \n",
    "print('\\n CV AUC score: %.3f +/- %.3f' % (np.mean(scores), np.std(scores)))"
   ]
  },
  {
   "cell_type": "markdown",
   "metadata": {},
   "source": [
    "# Learning curve (logistic regression)"
   ]
  },
  {
   "cell_type": "code",
   "execution_count": 39,
   "metadata": {},
   "outputs": [
    {
     "data": {
      "image/png": "[encoded data removed]",
      "text/plain": [
       "<Figure size 432x288 with 1 Axes>"
      ]
     },
     "metadata": {},
     "output_type": "display_data"
    }
   ],
   "source": [
    "learning_curve_plot(X_train.values, y_train, best_clf, 'logistic regression').show()"
   ]
  },
  {
   "cell_type": "markdown",
   "metadata": {},
   "source": [
    "# Confusion matrix (logistic regression)"
   ]
  },
  {
   "cell_type": "code",
   "execution_count": 40,
   "metadata": {},
   "outputs": [
    {
     "name": "stdout",
     "output_type": "stream",
     "text": [
      "[[6934   75]\n",
      " [1915   76]]\n"
     ]
    }
   ],
   "source": [
    "y_pred = best_clf.predict(X_test)\n",
    "confmat = confusion_matrix(y_true=y_test, y_pred=y_pred)\n",
    "print(confmat)"
   ]
  },
  {
   "cell_type": "code",
   "execution_count": 41,
   "metadata": {},
   "outputs": [
    {
     "data": {
      "image/png": "[encoded data removed]",
      "text/plain": [
       "<Figure size 180x180 with 1 Axes>"
      ]
     },
     "metadata": {},
     "output_type": "display_data"
    }
   ],
   "source": [
    "fig, ax = plt.subplots(figsize=(2.5, 2.5))\n",
    "ax.matshow(confmat, cmap=plt.cm.Blues, alpha=0.3)\n",
    "for i in range(confmat.shape[0]):\n",
    "    for j in range(confmat.shape[1]):\n",
    "        ax.text(x=j, y=i, s=confmat[i, j], va='center', ha='center')\n",
    "\n",
    "plt.xlabel('predicted label')\n",
    "plt.ylabel('true label')\n",
    "\n",
    "plt.tight_layout()\n",
    "# plt.savefig('./figures/confusion_matrix.png', dpi=300)\n",
    "plt.show()"
   ]
  },
  {
   "cell_type": "markdown",
   "metadata": {},
   "source": [
    "**We want to have 1 as a positive class in the confusion matric in the top left corner, therefore we need to swap labels in the confusion matrix.**\n",
    "\n",
    "**1 - default**\n",
    "**0 - no default**"
   ]
  },
  {
   "cell_type": "code",
   "execution_count": 42,
   "metadata": {},
   "outputs": [
    {
     "name": "stdout",
     "output_type": "stream",
     "text": [
      "[[  76 1915]\n",
      " [  75 6934]]\n"
     ]
    }
   ],
   "source": [
    "y_pred = best_clf.predict(X_test)\n",
    "confmat = confusion_matrix(y_true=y_test, y_pred=y_pred, labels = [1,0])\n",
    "print(confmat)"
   ]
  },
  {
   "cell_type": "code",
   "execution_count": 43,
   "metadata": {},
   "outputs": [
    {
     "name": "stdout",
     "output_type": "stream",
     "text": [
      "Precisoin from the above matrix = 0.503311258278\n"
     ]
    }
   ],
   "source": [
    "print('Precisoin from the above matrix = ' + str(confmat[0][0]/(confmat[0][0] + confmat[1][0])))"
   ]
  },
  {
   "cell_type": "markdown",
   "metadata": {},
   "source": [
    "# Classification report for test data."
   ]
  },
  {
   "cell_type": "code",
   "execution_count": 44,
   "metadata": {},
   "outputs": [
    {
     "name": "stdout",
     "output_type": "stream",
     "text": [
      "AUC score for the test data: 0.676948680247\n"
     ]
    }
   ],
   "source": [
    "print('AUC score for the test data:', roc_auc_score(y_true = y_test, y_score = best_clf.predict_proba(X_test)[:,1]))"
   ]
  },
  {
   "cell_type": "code",
   "execution_count": 45,
   "metadata": {},
   "outputs": [
    {
     "name": "stdout",
     "output_type": "stream",
     "text": [
      "               precision    recall  f1-score   support\n",
      "\n",
      "not defaulted       0.78      0.99      0.87      7009\n",
      "    defaulted       0.50      0.04      0.07      1991\n",
      "\n",
      "     accuracy                           0.78      9000\n",
      "    macro avg       0.64      0.51      0.47      9000\n",
      " weighted avg       0.72      0.78      0.70      9000\n",
      "\n"
     ]
    }
   ],
   "source": [
    "from sklearn.metrics import classification_report\n",
    "print(classification_report(y_test, y_pred, target_names=['not defaulted', 'defaulted']))"
   ]
  },
  {
   "cell_type": "code",
   "execution_count": 46,
   "metadata": {},
   "outputs": [
    {
     "name": "stdout",
     "output_type": "stream",
     "text": [
      "Optimization terminated successfully.\n",
      "         Current function value: 0.492926\n",
      "         Iterations 6\n",
      "                           Logit Regression Results                           \n",
      "==============================================================================\n",
      "Dep. Variable:                      y   No. Observations:                21000\n",
      "Model:                          Logit   Df Residuals:                    20960\n",
      "Method:                           MLE   Df Model:                           39\n",
      "Date:                Thu, 05 Dec 2019   Pseudo R-squ.:                 0.06715\n",
      "Time:                        12:14:45   Log-Likelihood:                -10351.\n",
      "converged:                       True   LL-Null:                       -11097.\n",
      "Covariance Type:            nonrobust   LLR p-value:                1.195e-287\n",
      "===========================================================================================\n",
      "                              coef    std err          z      P>|z|      [0.025      0.975]\n",
      "-------------------------------------------------------------------------------------------\n",
      "age                         0.0463      0.020      2.363      0.018       0.008       0.085\n",
      "bill_amt_apr                0.0356      0.066      0.543      0.587      -0.093       0.164\n",
      "bill_amt_aug               -0.2954      0.083     -3.579      0.000      -0.457      -0.134\n",
      "bill_amt_jul               -0.3679      0.084     -4.382      0.000      -0.532      -0.203\n",
      "bill_amt_jun               -0.0337      0.066     -0.508      0.612      -0.164       0.096\n",
      "bill_amt_may               -0.1119      0.076     -1.476      0.140      -0.261       0.037\n",
      "bill_amt_sept              -0.2729      0.081     -3.362      0.001      -0.432      -0.114\n",
      "cash_flow_apr               0.0173      0.056      0.309      0.758      -0.092       0.127\n",
      "cash_flow_aug              -0.2176      0.070     -3.101      0.002      -0.355      -0.080\n",
      "cash_flow_jul              -0.3935      0.077     -5.116      0.000      -0.544      -0.243\n",
      "cash_flow_jun              -0.0007      0.057     -0.012      0.991      -0.113       0.112\n",
      "cash_flow_may              -0.1223      0.062     -1.958      0.050      -0.245    9.52e-05\n",
      "cash_flow_sept             -0.2880      0.071     -4.054      0.000      -0.427      -0.149\n",
      "credit_amount              -0.1337      0.024     -5.596      0.000      -0.181      -0.087\n",
      "credit_util_apr             0.1839      0.049      3.763      0.000       0.088       0.280\n",
      "credit_util_aug             0.2176      0.067      3.238      0.001       0.086       0.349\n",
      "credit_util_jul            -0.0262      0.064     -0.411      0.681      -0.151       0.099\n",
      "credit_util_jun             0.1870      0.060      3.142      0.002       0.070       0.304\n",
      "credit_util_may             0.0048      0.061      0.079      0.937      -0.116       0.125\n",
      "credit_util_sept           -0.2475      0.056     -4.415      0.000      -0.357      -0.138\n",
      "pay_amt_apr                -0.0134      0.024     -0.568      0.570      -0.060       0.033\n",
      "pay_amt_aug                -0.1077      0.025     -4.305      0.000      -0.157      -0.059\n",
      "pay_amt_jul                -0.0938      0.025     -3.716      0.000      -0.143      -0.044\n",
      "pay_amt_jun                -0.0751      0.025     -3.032      0.002      -0.124      -0.027\n",
      "pay_amt_may                -0.0204      0.024     -0.845      0.398      -0.068       0.027\n",
      "pay_amt_sept               -0.2400      0.025     -9.453      0.000      -0.290      -0.190\n",
      "pay_apr                    -0.1016      0.038     -2.707      0.007      -0.175      -0.028\n",
      "pay_aug                     0.0243      0.038      0.636      0.525      -0.051       0.099\n",
      "pay_jul                     0.0918      0.047      1.959      0.050   -2.98e-05       0.184\n",
      "pay_jun                    -0.0092      0.047     -0.195      0.845      -0.102       0.083\n",
      "pay_may                     0.0217      0.047      0.466      0.641      -0.069       0.113\n",
      "pay_sept                    0.1736      0.020      8.478      0.000       0.133       0.214\n",
      "sex_female                 -1.0132   1.19e+06  -8.53e-07      1.000   -2.33e+06    2.33e+06\n",
      "sex_male                   -0.8860   1.19e+06  -7.46e-07      1.000   -2.33e+06    2.33e+06\n",
      "education_bachelors        -0.2220    1.3e+06  -1.71e-07      1.000   -2.54e+06    2.54e+06\n",
      "education_grad_school      -0.1664    1.3e+06  -1.28e-07      1.000   -2.54e+06    2.54e+06\n",
      "education_high_school      -0.2459    1.3e+06   -1.9e-07      1.000   -2.54e+06    2.54e+06\n",
      "education_other            -1.2648    1.3e+06  -9.76e-07      1.000   -2.54e+06    2.54e+06\n",
      "marital_status_divorced    -0.2207   1.07e+06  -2.05e-07      1.000   -2.11e+06    2.11e+06\n",
      "marital_status_married     -0.1027   1.07e+06  -9.56e-08      1.000   -2.11e+06    2.11e+06\n",
      "marital_status_other       -1.2887   1.07e+06   -1.2e-06      1.000   -2.11e+06    2.11e+06\n",
      "marital_status_single      -0.2870   1.07e+06  -2.67e-07      1.000   -2.11e+06    2.11e+06\n",
      "===========================================================================================\n"
     ]
    }
   ],
   "source": [
    "import statsmodels.api as sm\n",
    "\n",
    "# define the model\n",
    "logit = sm.Logit(y_train, X_train)\n",
    "\n",
    "# fit the model\n",
    "result = logit.fit()\n",
    "\n",
    "print(result.summary())"
   ]
  },
  {
   "cell_type": "markdown",
   "metadata": {
    "collapsed": true
   },
   "source": [
    "# Random Forest classifier"
   ]
  },
  {
   "cell_type": "code",
   "execution_count": 47,
   "metadata": {},
   "outputs": [
    {
     "name": "stderr",
     "output_type": "stream",
     "text": [
      "//anaconda/envs/python3/lib/python3.6/site-packages/sklearn/ensemble/forest.py:245: FutureWarning: The default value of n_estimators will change from 10 in version 0.20 to 100 in 0.22.\n",
      "  \"10 in version 0.20 to 100 in 0.22.\", FutureWarning)\n"
     ]
    },
    {
     "name": "stdout",
     "output_type": "stream",
     "text": [
      "Training accuracy (default random forest): 0.978761904762\n",
      "Test accuracy (default random forest): 0.778111111111\n",
      "AUC score for the training data (default random forest): 0.999137838835\n",
      "AUC score for the test data (default random forest): 0.672072872655\n"
     ]
    }
   ],
   "source": [
    "rand_forest = RandomForestClassifier(n_jobs = -1)\n",
    "\n",
    "# Fit the model on the trainng data.\n",
    "rand_forest.fit(X_train, y_train)\n",
    "\n",
    "print('Training accuracy (default random forest):', \n",
    "      accuracy_score(rand_forest.predict(X_train), y_train))\n",
    "print('Test accuracy (default random forest):', \n",
    "      accuracy_score(rand_forest.predict(X_test), y_test))\n",
    "\n",
    "print('AUC score for the training data (default random forest):', \n",
    "      roc_auc_score(y_true = y_train, y_score = rand_forest.predict_proba(X_train)[:,1]))\n",
    "print('AUC score for the test data (default random forest):', \n",
    "      roc_auc_score(y_true = y_test, y_score = rand_forest.predict_proba(X_test)[:,1]))"
   ]
  },
  {
   "cell_type": "markdown",
   "metadata": {},
   "source": [
    "# Validation curve (random forest)"
   ]
  },
  {
   "cell_type": "code",
   "execution_count": 48,
   "metadata": {},
   "outputs": [
    {
     "data": {
      "image/png": "[encoded data removed]",
      "text/plain": [
       "<Figure size 432x288 with 1 Axes>"
      ]
     },
     "metadata": {},
     "output_type": "display_data"
    }
   ],
   "source": [
    "max_depth = [4, 6, 10, 14, 18, 22, 26]\n",
    "\n",
    "validation_curve_plot(X_train.values, y_train, rand_forest, max_depth, \n",
    "                      'max_depth', 'Random Forest').show()"
   ]
  },
  {
   "cell_type": "code",
   "execution_count": 49,
   "metadata": {},
   "outputs": [
    {
     "data": {
      "image/png": "[encoded data removed]",
      "text/plain": [
       "<Figure size 432x288 with 1 Axes>"
      ]
     },
     "metadata": {},
     "output_type": "display_data"
    }
   ],
   "source": [
    "n_estimators = [3, 5, 7, 9, 11, 13, 15, 20]\n",
    "\n",
    "rand_forest_upd = RandomForestClassifier(n_jobs = -1, max_depth = 6)\n",
    "\n",
    "validation_curve_plot(X_train.values, y_train, rand_forest_upd, n_estimators, \n",
    "                      'n_estimators', 'Random Forest').show()"
   ]
  },
  {
   "cell_type": "markdown",
   "metadata": {},
   "source": [
    "# Hyperparameter tuning using grid search (random forest)."
   ]
  },
  {
   "cell_type": "code",
   "execution_count": 50,
   "metadata": {},
   "outputs": [
    {
     "name": "stdout",
     "output_type": "stream",
     "text": [
      "Best AUC score on training data: 0.72477616685\n",
      "Best parameters: {'max_depth': 6, 'n_estimators': 35}\n"
     ]
    }
   ],
   "source": [
    "max_depth_optimized = [3, 4, 5, 6]\n",
    "n_estimators_optimized = [7, 9, 11, 13, 15, 20, 25, 30, 35]\n",
    "\n",
    "param_grid = [{'n_estimators': n_estimators_optimized, 'max_depth': max_depth_optimized}]\n",
    "\n",
    "gs_rf = GridSearchCV(estimator=rand_forest, \n",
    "                  param_grid=param_grid, \n",
    "                  scoring=scorer, \n",
    "                  cv=5,\n",
    "                  n_jobs=-1)\n",
    "\n",
    "gs_rf = gs_rf.fit(X_train, y_train)\n",
    "print('Best AUC score on training data: ' + str(gs_rf.best_score_))\n",
    "print('Best parameters: ' + str(gs_rf.best_params_))"
   ]
  },
  {
   "cell_type": "code",
   "execution_count": 51,
   "metadata": {},
   "outputs": [
    {
     "name": "stdout",
     "output_type": "stream",
     "text": [
      "AUC score on test data: 0.728\n"
     ]
    }
   ],
   "source": [
    "best_rand_forest = gs_rf.best_estimator_\n",
    "best_rand_forest.fit(X_train, y_train)\n",
    "print('AUC score on test data: %.3f' \n",
    "      %roc_auc_score(y_true = y_test, y_score = best_rand_forest.predict_proba(X_test)[:,1]))"
   ]
  },
  {
   "cell_type": "markdown",
   "metadata": {},
   "source": [
    "# Stratified K-fold cross-validation (random forest)."
   ]
  },
  {
   "cell_type": "code",
   "execution_count": 52,
   "metadata": {},
   "outputs": [
    {
     "name": "stdout",
     "output_type": "stream",
     "text": [
      "Fold: 1, Class dist.: [13084  3716], Train AUC score: 0.723\n",
      "Fold: 2, Class dist.: [13084  3716], Train AUC score: 0.731\n",
      "Fold: 3, Class dist.: [13084  3716], Train AUC score: 0.727\n",
      "Fold: 4, Class dist.: [13084  3716], Train AUC score: 0.726\n",
      "Fold: 5, Class dist.: [13084  3716], Train AUC score: 0.721\n",
      "\n",
      " CV AUC score: 0.725 +/- 0.003\n"
     ]
    }
   ],
   "source": [
    "scores_rf = []\n",
    "for k, (train_fold, test_fold) in enumerate(kfold.split(X_train.values, y_train)):\n",
    "    best_rand_forest.fit(X_train.values[train_fold], y_train[train_fold])\n",
    "    score = roc_auc_score(y_true = y_train[test_fold], \n",
    "                          y_score = best_rand_forest.predict_proba(X_train.values[test_fold])[:,1])\n",
    "    scores_rf.append(score)\n",
    "    print('Fold: %s, Class dist.: %s, Train AUC score: %.3f' % (k+1, np.bincount(y_train[train_fold]), score))\n",
    "    \n",
    "print('\\n CV AUC score: %.3f +/- %.3f' % (np.mean(scores_rf), np.std(scores_rf)))"
   ]
  },
  {
   "cell_type": "markdown",
   "metadata": {},
   "source": [
    "# Confusion matrix (optimized random forest)"
   ]
  },
  {
   "cell_type": "code",
   "execution_count": 53,
   "metadata": {},
   "outputs": [
    {
     "name": "stdout",
     "output_type": "stream",
     "text": [
      "[[ 122 1869]\n",
      " [  48 6961]]\n"
     ]
    }
   ],
   "source": [
    "y_pred_rf = best_rand_forest.predict(X_test)\n",
    "confmat_rf = confusion_matrix(y_true=y_test, y_pred=y_pred_rf, labels = [1,0])\n",
    "print(confmat_rf)"
   ]
  },
  {
   "cell_type": "markdown",
   "metadata": {},
   "source": [
    "# Classification report for test data"
   ]
  },
  {
   "cell_type": "code",
   "execution_count": 54,
   "metadata": {},
   "outputs": [
    {
     "name": "stdout",
     "output_type": "stream",
     "text": [
      "               precision    recall  f1-score   support\n",
      "\n",
      "not defaulted       0.79      0.99      0.88      7009\n",
      "    defaulted       0.72      0.06      0.11      1991\n",
      "\n",
      "     accuracy                           0.79      9000\n",
      "    macro avg       0.75      0.53      0.50      9000\n",
      " weighted avg       0.77      0.79      0.71      9000\n",
      "\n"
     ]
    }
   ],
   "source": [
    "print(classification_report(y_test, y_pred_rf, target_names=['not defaulted', 'defaulted']))"
   ]
  },
  {
   "cell_type": "code",
   "execution_count": 55,
   "metadata": {},
   "outputs": [
    {
     "data": {
      "image/png": "[encoded data removed]",
      "text/plain": [
       "<Figure size 720x576 with 1 Axes>"
      ]
     },
     "metadata": {},
     "output_type": "display_data"
    }
   ],
   "source": [
    "def plot_feature_importances(model):\n",
    "    n_features = X_train.shape[1]\n",
    "    _ = plt.figure(figsize=(10,8))\n",
    "    _ = plt.barh(np.arange(n_features), model.feature_importances_, align='center')\n",
    "    _ = plt.yticks(np.arange(n_features), X_train.columns)\n",
    "    _ = plt.xlabel(\"Feature importance\")\n",
    "    _ = plt.ylabel(\"Feature\")\n",
    "    _ = plt.ylim(-1, n_features)\n",
    "    return plt\n",
    "\n",
    "plot_feature_importances(best_rand_forest).show()"
   ]
  },
  {
   "cell_type": "code",
   "execution_count": null,
   "metadata": {
    "collapsed": true
   },
   "outputs": [],
   "source": []
  }
 ],
 "metadata": {
  "kernelspec": {
   "display_name": "Python 3",
   "language": "python",
   "name": "python3"
  },
  "language_info": {
   "codemirror_mode": {
    "name": "ipython",
    "version": 3
   },
   "file_extension": ".py",
   "mimetype": "text/x-python",
   "name": "python",
   "nbconvert_exporter": "python",
   "pygments_lexer": "ipython3",
   "version": "3.6.8"
  }
 },
 "nbformat": 4,
 "nbformat_minor": 2
}
