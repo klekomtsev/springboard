{
 "cells": [
  {
   "cell_type": "markdown",
   "metadata": {},
   "source": [
    "# Classification of the defaulted vs not-defaulted clients and selection of the most meaningful features in the dataset.\n",
    "\n",
    "In this notebook a variety of concepts were applied to the dataset. First of all we are dealing with imbalanced dataset, 28% of records are for the clients who defaulted in October 2005. To tackle this problem we have used imblearn module to produce oversampled dataset with equal number of records for each class by bootstrapping.\n",
    "\n",
    "The dataset contains records of bill amounts, payment amounts, repayment statuses for 6 months, April, 2005 to September, 2005. The 'default' column shows whether a client defaulted or not in October, 2005. After applying RandomForest feature selection it became clear that these data would play important role for classification algorithms, in particular repayment status in September, 2005 is the most important factor whether a client defaults or not in the following month. These observations are also confirmed by fitting the training data with Logit function of statsmodels.api, which shows that the bill amount, payment amount and repayment status for September are indeed statistically significant features, with corresponding p-values = 0.000 This observation is also intuitive, showing that the financial health of a client one month before default or not-default is very important factor.\n",
    "\n",
    "Based on the available financial data additional features were introduced in the dataset. The first set of features is credit utilization for each month, calculated as bill amount / credit amount. The second set of features is cash flow for each month, calculated as payment amount - bill amount. The cashflow values are negative when a client pays less than the bill amount for a given month, zero when the bill is fully repaid, and positive when a client pays more than the bill amount.\n",
    "\n",
    "The following pre-processing steps were taken before the classification models were applied: The outliers of the numerical columns defined as lower_bound = quartile_1 - (float(iqr) * 1.5), upper_bound = quartile_3 + (float(iqr) * 1.5) were replaced with median values. For this dataset there were no missing categorical or numerical values, but as part of pre-processing workflow the functions imputing missing categorical and numerical features were included in the code. To prepare the dataset for machine learning models, the categorical features were converted to dummy variables, the numeric columns were standardized using StandardScaler, which was first used to fit and transform training data and then transform test data. \n",
    "\n",
    "The dataset was split into training and test sets, validation set was introduced in the training set as a part of stratified K fold cross validation.\n",
    "\n",
    "Three classification models were applied: logistic regression, random forest classifier and RBF kernel support vector machine (SVM). For all models the hyperparameters were tuned, first using validation curve and then using grid search cross validation based on AUC scoring. For logistic regression regularization strength C was tuned, for random forest max depth of trees and number of estimators were tuned, for SVM regularization strength C and kernel parameter gamma were tuned. Performance of the optimized models on training data was assessed using stratified cross validation and AUC score as a scoring metric. Performance on test data was assessed using AUC score, as well as precision and recall metrics.\n",
    "\n",
    "Classification accuracy results are the following:\n",
    "\n",
    "| **Logistic reg** |precision | recall  | f1-score |\n",
    "|------------------|----------|---------|----------|\n",
    "|not defaulted     |   0.67   |  0.70   |  0.68    |\n",
    "|   defaulted      |   0.68   |  0.65   |  0.67    |\n",
    "|   accuracy       |          |         |  0.67    |\n",
    "\n",
    "\n",
    "| **Random forest** |precision | recall  | f1-score |\n",
    "|-------------------|----------|---------|----------|\n",
    "|not defaulted      |   0.86   |  0.85   |  0.85    |\n",
    "|   defaulted       |   0.85   |  0.86   |  0.85    |\n",
    "|   accuracy        |          |         |  0.85    |\n",
    "\n",
    "\n",
    "| **RBF kernel SVM** |precision | recall  | f1-score |\n",
    "|--------------------|----------|---------|----------|\n",
    "|not defaulted       |   0.70   |  0.77   |  0.74    |\n",
    "|   defaulted        |   0.75   |  0.67   |  0.71    |\n",
    "|   accuracy         |          |         |  0.72    |\n",
    "\n",
    "|                 |logistic regression | Random forest | RBF kernel SVM |\n",
    "|-----------------|--------------------|---------------|----------------|\n",
    "|AUC on test data |        0.7         |     0.92      |     0.78       |\n"
   ]
  },
  {
   "cell_type": "code",
   "execution_count": 1,
   "metadata": {
    "collapsed": true
   },
   "outputs": [],
   "source": [
    "import pandas as pd\n",
    "import numpy as np\n",
    "import matplotlib.pyplot as plt\n",
    "import seaborn as sns\n",
    "import scipy.stats as stats\n",
    "import math\n",
    "from scipy.stats import norm\n",
    "from sklearn.preprocessing import StandardScaler\n",
    "from sklearn.preprocessing import MinMaxScaler\n",
    "from sklearn.model_selection import train_test_split\n",
    "from sklearn.linear_model import LogisticRegression\n",
    "from sklearn.neighbors import KNeighborsClassifier\n",
    "from sklearn.metrics import accuracy_score\n",
    "from sklearn.model_selection import StratifiedKFold\n",
    "from sklearn.model_selection import learning_curve\n",
    "from sklearn.model_selection import GridSearchCV\n",
    "from sklearn.metrics import confusion_matrix\n",
    "from sklearn.metrics import precision_score, recall_score, f1_score\n",
    "from sklearn.model_selection import validation_curve\n",
    "from sklearn.ensemble import RandomForestClassifier\n",
    "from sklearn.naive_bayes import ComplementNB\n",
    "from sklearn.naive_bayes import GaussianNB\n",
    "from imblearn.over_sampling import RandomOverSampler\n",
    "from sklearn.metrics import roc_auc_score\n",
    "from sklearn.metrics import classification_report\n",
    "%matplotlib inline\n",
    "\n",
    "\n",
    "df = pd.read_csv(\"defaults.csv\", header = 1, index_col = 'ID')\n",
    "df.columns = [x.lower() for x in list(df.columns)]\n",
    "df.columns = ['credit_amount', 'sex', 'education', 'marital_status', 'age', 'pay_sept', 'pay_aug',\n",
    "       'pay_jul', 'pay_jun', 'pay_may', 'pay_apr', 'bill_amt_sept', 'bill_amt_aug',\n",
    "       'bill_amt_jul', 'bill_amt_jun', 'bill_amt_may', 'bill_amt_apr', 'pay_amt_sept',\n",
    "       'pay_amt_aug', 'pay_amt_jul', 'pay_amt_jun', 'pay_amt_may', 'pay_amt_apr',\n",
    "       'default']\n",
    "\n",
    "for column in ['credit_amount', 'bill_amt_sept', 'bill_amt_aug',\n",
    "       'bill_amt_jul', 'bill_amt_jun', 'bill_amt_may', 'bill_amt_apr', 'pay_amt_sept',\n",
    "       'pay_amt_aug', 'pay_amt_jul', 'pay_amt_jun', 'pay_amt_may', 'pay_amt_apr']:\n",
    "    df[column] = df[column]/1000\n",
    "    \n",
    "gender_remapping = {1: 'male', 2: 'female'}\n",
    "df.sex = df.sex.map(gender_remapping)\n",
    "\n",
    "df.education = df.education.astype(str)\n",
    "education_remapping = {'1': 'grad_school', '2': 'bachelors', '3': 'high_school', '4': 'other', \n",
    "                       '5': 'other', '6': 'other', '0': 'other'}\n",
    "df.education = df.education.map(education_remapping)\n",
    "\n",
    "df.marital_status = df.marital_status.astype(str)\n",
    "marital_status_remapping = {'1': 'married', '2': 'single', '3': 'divorced', '0': 'other'}\n",
    "df.marital_status = df.marital_status.map(marital_status_remapping)"
   ]
  },
  {
   "cell_type": "markdown",
   "metadata": {},
   "source": [
    "# Original dataset"
   ]
  },
  {
   "cell_type": "code",
   "execution_count": 2,
   "metadata": {},
   "outputs": [
    {
     "name": "stdout",
     "output_type": "stream",
     "text": [
      "<class 'pandas.core.frame.DataFrame'>\n",
      "Int64Index: 30000 entries, 1 to 30000\n",
      "Data columns (total 24 columns):\n",
      "credit_amount     30000 non-null float64\n",
      "sex               30000 non-null object\n",
      "education         30000 non-null object\n",
      "marital_status    30000 non-null object\n",
      "age               30000 non-null int64\n",
      "pay_sept          30000 non-null int64\n",
      "pay_aug           30000 non-null int64\n",
      "pay_jul           30000 non-null int64\n",
      "pay_jun           30000 non-null int64\n",
      "pay_may           30000 non-null int64\n",
      "pay_apr           30000 non-null int64\n",
      "bill_amt_sept     30000 non-null float64\n",
      "bill_amt_aug      30000 non-null float64\n",
      "bill_amt_jul      30000 non-null float64\n",
      "bill_amt_jun      30000 non-null float64\n",
      "bill_amt_may      30000 non-null float64\n",
      "bill_amt_apr      30000 non-null float64\n",
      "pay_amt_sept      30000 non-null float64\n",
      "pay_amt_aug       30000 non-null float64\n",
      "pay_amt_jul       30000 non-null float64\n",
      "pay_amt_jun       30000 non-null float64\n",
      "pay_amt_may       30000 non-null float64\n",
      "pay_amt_apr       30000 non-null float64\n",
      "default           30000 non-null int64\n",
      "dtypes: float64(13), int64(8), object(3)\n",
      "memory usage: 5.7+ MB\n"
     ]
    }
   ],
   "source": [
    "df.info()"
   ]
  },
  {
   "cell_type": "code",
   "execution_count": 3,
   "metadata": {},
   "outputs": [
    {
     "data": {
      "text/plain": [
       "Index(['credit_amount', 'sex', 'education', 'marital_status', 'age',\n",
       "       'pay_sept', 'pay_aug', 'pay_jul', 'pay_jun', 'pay_may', 'pay_apr',\n",
       "       'bill_amt_sept', 'bill_amt_aug', 'bill_amt_jul', 'bill_amt_jun',\n",
       "       'bill_amt_may', 'bill_amt_apr', 'pay_amt_sept', 'pay_amt_aug',\n",
       "       'pay_amt_jul', 'pay_amt_jun', 'pay_amt_may', 'pay_amt_apr', 'default'],\n",
       "      dtype='object')"
      ]
     },
     "execution_count": 3,
     "metadata": {},
     "output_type": "execute_result"
    }
   ],
   "source": [
    "df.columns"
   ]
  },
  {
   "cell_type": "markdown",
   "metadata": {},
   "source": [
    "# Feature engineering."
   ]
  },
  {
   "cell_type": "markdown",
   "metadata": {},
   "source": [
    "** Credit utilization columns for each month. **"
   ]
  },
  {
   "cell_type": "code",
   "execution_count": 4,
   "metadata": {},
   "outputs": [],
   "source": [
    "for column in ['bill_amt_sept', 'bill_amt_aug', 'bill_amt_jul', 'bill_amt_jun',\n",
    "               'bill_amt_may', 'bill_amt_apr']:\n",
    "    df['credit_util_' + column.split('_')[2]] = df.loc[:, column] / df.loc[:, 'credit_amount']"
   ]
  },
  {
   "cell_type": "code",
   "execution_count": 5,
   "metadata": {},
   "outputs": [
    {
     "data": {
      "text/html": [
       "<div>\n",
       "<style>\n",
       "    .dataframe thead tr:only-child th {\n",
       "        text-align: right;\n",
       "    }\n",
       "\n",
       "    .dataframe thead th {\n",
       "        text-align: left;\n",
       "    }\n",
       "\n",
       "    .dataframe tbody tr th {\n",
       "        vertical-align: top;\n",
       "    }\n",
       "</style>\n",
       "<table border=\"1\" class=\"dataframe\">\n",
       "  <thead>\n",
       "    <tr style=\"text-align: right;\">\n",
       "      <th></th>\n",
       "      <th>credit_amount</th>\n",
       "      <th>bill_amt_sept</th>\n",
       "      <th>credit_util_sept</th>\n",
       "    </tr>\n",
       "    <tr>\n",
       "      <th>ID</th>\n",
       "      <th></th>\n",
       "      <th></th>\n",
       "      <th></th>\n",
       "    </tr>\n",
       "  </thead>\n",
       "  <tbody>\n",
       "    <tr>\n",
       "      <th>1</th>\n",
       "      <td>20.0</td>\n",
       "      <td>3.913</td>\n",
       "      <td>0.195650</td>\n",
       "    </tr>\n",
       "    <tr>\n",
       "      <th>2</th>\n",
       "      <td>120.0</td>\n",
       "      <td>2.682</td>\n",
       "      <td>0.022350</td>\n",
       "    </tr>\n",
       "    <tr>\n",
       "      <th>3</th>\n",
       "      <td>90.0</td>\n",
       "      <td>29.239</td>\n",
       "      <td>0.324878</td>\n",
       "    </tr>\n",
       "    <tr>\n",
       "      <th>4</th>\n",
       "      <td>50.0</td>\n",
       "      <td>46.990</td>\n",
       "      <td>0.939800</td>\n",
       "    </tr>\n",
       "    <tr>\n",
       "      <th>5</th>\n",
       "      <td>50.0</td>\n",
       "      <td>8.617</td>\n",
       "      <td>0.172340</td>\n",
       "    </tr>\n",
       "  </tbody>\n",
       "</table>\n",
       "</div>"
      ],
      "text/plain": [
       "    credit_amount  bill_amt_sept  credit_util_sept\n",
       "ID                                                \n",
       "1            20.0          3.913          0.195650\n",
       "2           120.0          2.682          0.022350\n",
       "3            90.0         29.239          0.324878\n",
       "4            50.0         46.990          0.939800\n",
       "5            50.0          8.617          0.172340"
      ]
     },
     "execution_count": 5,
     "metadata": {},
     "output_type": "execute_result"
    }
   ],
   "source": [
    "df.loc[:5, ['credit_amount', 'bill_amt_sept', 'credit_util_sept']]"
   ]
  },
  {
   "cell_type": "markdown",
   "metadata": {},
   "source": [
    "** Cashflow for each month. **"
   ]
  },
  {
   "cell_type": "code",
   "execution_count": 6,
   "metadata": {},
   "outputs": [],
   "source": [
    "bills = ['bill_amt_sept', 'bill_amt_aug', 'bill_amt_jul', 'bill_amt_jun', 'bill_amt_may', 'bill_amt_apr']\n",
    "payms = ['pay_amt_sept', 'pay_amt_aug', 'pay_amt_jul', 'pay_amt_jun', 'pay_amt_may', 'pay_amt_apr']\n",
    "\n",
    "for bill, paym in zip(bills, payms):\n",
    "    df['cash_flow_' + bill.split('_')[2]] = df.loc[:, paym] - df.loc[:, bill] "
   ]
  },
  {
   "cell_type": "code",
   "execution_count": 7,
   "metadata": {},
   "outputs": [
    {
     "data": {
      "text/html": [
       "<div>\n",
       "<style>\n",
       "    .dataframe thead tr:only-child th {\n",
       "        text-align: right;\n",
       "    }\n",
       "\n",
       "    .dataframe thead th {\n",
       "        text-align: left;\n",
       "    }\n",
       "\n",
       "    .dataframe tbody tr th {\n",
       "        vertical-align: top;\n",
       "    }\n",
       "</style>\n",
       "<table border=\"1\" class=\"dataframe\">\n",
       "  <thead>\n",
       "    <tr style=\"text-align: right;\">\n",
       "      <th></th>\n",
       "      <th>credit_amount</th>\n",
       "      <th>sex</th>\n",
       "      <th>education</th>\n",
       "      <th>marital_status</th>\n",
       "      <th>age</th>\n",
       "      <th>pay_sept</th>\n",
       "      <th>pay_aug</th>\n",
       "      <th>pay_jul</th>\n",
       "      <th>pay_jun</th>\n",
       "      <th>pay_may</th>\n",
       "      <th>...</th>\n",
       "      <th>credit_util_jul</th>\n",
       "      <th>credit_util_jun</th>\n",
       "      <th>credit_util_may</th>\n",
       "      <th>credit_util_apr</th>\n",
       "      <th>cash_flow_sept</th>\n",
       "      <th>cash_flow_aug</th>\n",
       "      <th>cash_flow_jul</th>\n",
       "      <th>cash_flow_jun</th>\n",
       "      <th>cash_flow_may</th>\n",
       "      <th>cash_flow_apr</th>\n",
       "    </tr>\n",
       "    <tr>\n",
       "      <th>ID</th>\n",
       "      <th></th>\n",
       "      <th></th>\n",
       "      <th></th>\n",
       "      <th></th>\n",
       "      <th></th>\n",
       "      <th></th>\n",
       "      <th></th>\n",
       "      <th></th>\n",
       "      <th></th>\n",
       "      <th></th>\n",
       "      <th></th>\n",
       "      <th></th>\n",
       "      <th></th>\n",
       "      <th></th>\n",
       "      <th></th>\n",
       "      <th></th>\n",
       "      <th></th>\n",
       "      <th></th>\n",
       "      <th></th>\n",
       "      <th></th>\n",
       "      <th></th>\n",
       "    </tr>\n",
       "  </thead>\n",
       "  <tbody>\n",
       "    <tr>\n",
       "      <th>1</th>\n",
       "      <td>20.0</td>\n",
       "      <td>female</td>\n",
       "      <td>bachelors</td>\n",
       "      <td>married</td>\n",
       "      <td>24</td>\n",
       "      <td>2</td>\n",
       "      <td>2</td>\n",
       "      <td>-1</td>\n",
       "      <td>-1</td>\n",
       "      <td>-2</td>\n",
       "      <td>...</td>\n",
       "      <td>0.034450</td>\n",
       "      <td>0.000000</td>\n",
       "      <td>0.000000</td>\n",
       "      <td>0.000000</td>\n",
       "      <td>-3.913</td>\n",
       "      <td>-2.413</td>\n",
       "      <td>-0.689</td>\n",
       "      <td>0.000</td>\n",
       "      <td>0.000</td>\n",
       "      <td>0.000</td>\n",
       "    </tr>\n",
       "    <tr>\n",
       "      <th>2</th>\n",
       "      <td>120.0</td>\n",
       "      <td>female</td>\n",
       "      <td>bachelors</td>\n",
       "      <td>single</td>\n",
       "      <td>26</td>\n",
       "      <td>-1</td>\n",
       "      <td>2</td>\n",
       "      <td>0</td>\n",
       "      <td>0</td>\n",
       "      <td>0</td>\n",
       "      <td>...</td>\n",
       "      <td>0.022350</td>\n",
       "      <td>0.027267</td>\n",
       "      <td>0.028792</td>\n",
       "      <td>0.027175</td>\n",
       "      <td>-2.682</td>\n",
       "      <td>-0.725</td>\n",
       "      <td>-1.682</td>\n",
       "      <td>-2.272</td>\n",
       "      <td>-3.455</td>\n",
       "      <td>-1.261</td>\n",
       "    </tr>\n",
       "    <tr>\n",
       "      <th>3</th>\n",
       "      <td>90.0</td>\n",
       "      <td>female</td>\n",
       "      <td>bachelors</td>\n",
       "      <td>single</td>\n",
       "      <td>34</td>\n",
       "      <td>0</td>\n",
       "      <td>0</td>\n",
       "      <td>0</td>\n",
       "      <td>0</td>\n",
       "      <td>0</td>\n",
       "      <td>...</td>\n",
       "      <td>0.150656</td>\n",
       "      <td>0.159233</td>\n",
       "      <td>0.166089</td>\n",
       "      <td>0.172767</td>\n",
       "      <td>-27.721</td>\n",
       "      <td>-12.527</td>\n",
       "      <td>-12.559</td>\n",
       "      <td>-13.331</td>\n",
       "      <td>-13.948</td>\n",
       "      <td>-10.549</td>\n",
       "    </tr>\n",
       "    <tr>\n",
       "      <th>4</th>\n",
       "      <td>50.0</td>\n",
       "      <td>female</td>\n",
       "      <td>bachelors</td>\n",
       "      <td>married</td>\n",
       "      <td>37</td>\n",
       "      <td>0</td>\n",
       "      <td>0</td>\n",
       "      <td>0</td>\n",
       "      <td>0</td>\n",
       "      <td>0</td>\n",
       "      <td>...</td>\n",
       "      <td>0.985820</td>\n",
       "      <td>0.566280</td>\n",
       "      <td>0.579180</td>\n",
       "      <td>0.590940</td>\n",
       "      <td>-44.990</td>\n",
       "      <td>-46.214</td>\n",
       "      <td>-48.091</td>\n",
       "      <td>-27.214</td>\n",
       "      <td>-27.890</td>\n",
       "      <td>-28.547</td>\n",
       "    </tr>\n",
       "    <tr>\n",
       "      <th>5</th>\n",
       "      <td>50.0</td>\n",
       "      <td>male</td>\n",
       "      <td>bachelors</td>\n",
       "      <td>married</td>\n",
       "      <td>57</td>\n",
       "      <td>-1</td>\n",
       "      <td>0</td>\n",
       "      <td>-1</td>\n",
       "      <td>0</td>\n",
       "      <td>0</td>\n",
       "      <td>...</td>\n",
       "      <td>0.716700</td>\n",
       "      <td>0.418800</td>\n",
       "      <td>0.382920</td>\n",
       "      <td>0.382620</td>\n",
       "      <td>-6.617</td>\n",
       "      <td>31.011</td>\n",
       "      <td>-25.835</td>\n",
       "      <td>-11.940</td>\n",
       "      <td>-18.457</td>\n",
       "      <td>-18.452</td>\n",
       "    </tr>\n",
       "  </tbody>\n",
       "</table>\n",
       "<p>5 rows × 36 columns</p>\n",
       "</div>"
      ],
      "text/plain": [
       "    credit_amount     sex  education marital_status  age  pay_sept  pay_aug  \\\n",
       "ID                                                                            \n",
       "1            20.0  female  bachelors        married   24         2        2   \n",
       "2           120.0  female  bachelors         single   26        -1        2   \n",
       "3            90.0  female  bachelors         single   34         0        0   \n",
       "4            50.0  female  bachelors        married   37         0        0   \n",
       "5            50.0    male  bachelors        married   57        -1        0   \n",
       "\n",
       "    pay_jul  pay_jun  pay_may      ...        credit_util_jul  \\\n",
       "ID                                 ...                          \n",
       "1        -1       -1       -2      ...               0.034450   \n",
       "2         0        0        0      ...               0.022350   \n",
       "3         0        0        0      ...               0.150656   \n",
       "4         0        0        0      ...               0.985820   \n",
       "5        -1        0        0      ...               0.716700   \n",
       "\n",
       "    credit_util_jun  credit_util_may  credit_util_apr  cash_flow_sept  \\\n",
       "ID                                                                      \n",
       "1          0.000000         0.000000         0.000000          -3.913   \n",
       "2          0.027267         0.028792         0.027175          -2.682   \n",
       "3          0.159233         0.166089         0.172767         -27.721   \n",
       "4          0.566280         0.579180         0.590940         -44.990   \n",
       "5          0.418800         0.382920         0.382620          -6.617   \n",
       "\n",
       "    cash_flow_aug  cash_flow_jul  cash_flow_jun  cash_flow_may  cash_flow_apr  \n",
       "ID                                                                             \n",
       "1          -2.413         -0.689          0.000          0.000          0.000  \n",
       "2          -0.725         -1.682         -2.272         -3.455         -1.261  \n",
       "3         -12.527        -12.559        -13.331        -13.948        -10.549  \n",
       "4         -46.214        -48.091        -27.214        -27.890        -28.547  \n",
       "5          31.011        -25.835        -11.940        -18.457        -18.452  \n",
       "\n",
       "[5 rows x 36 columns]"
      ]
     },
     "execution_count": 7,
     "metadata": {},
     "output_type": "execute_result"
    }
   ],
   "source": [
    "df.head()"
   ]
  },
  {
   "cell_type": "markdown",
   "metadata": {},
   "source": [
    "# Applying random oversampling, as we are dealing with imbalanced dataset."
   ]
  },
  {
   "cell_type": "code",
   "execution_count": 8,
   "metadata": {
    "collapsed": true
   },
   "outputs": [],
   "source": [
    "ros = RandomOverSampler(random_state=0)"
   ]
  },
  {
   "cell_type": "code",
   "execution_count": 9,
   "metadata": {
    "collapsed": true
   },
   "outputs": [],
   "source": [
    "X_columns = df.drop(['default'], axis = 1).columns\n",
    "X = df.drop(['default'], axis = 1).values\n",
    "y = df[['default']].values.ravel()\n",
    "\n",
    "X_resampled, y_resampled = ros.fit_resample(X, y)"
   ]
  },
  {
   "cell_type": "code",
   "execution_count": 10,
   "metadata": {},
   "outputs": [
    {
     "name": "stdout",
     "output_type": "stream",
     "text": [
      "[(0, 23364), (1, 23364)]\n"
     ]
    }
   ],
   "source": [
    "from collections import Counter\n",
    "print(sorted(Counter(y_resampled).items()))"
   ]
  },
  {
   "cell_type": "markdown",
   "metadata": {},
   "source": [
    "# Train - test split."
   ]
  },
  {
   "cell_type": "code",
   "execution_count": 11,
   "metadata": {
    "collapsed": true
   },
   "outputs": [],
   "source": [
    "X_train, X_test, y_train, y_test = \\\n",
    "        train_test_split(X_resampled, y_resampled, stratify = y_resampled, test_size=0.3, random_state=1)"
   ]
  },
  {
   "cell_type": "code",
   "execution_count": 12,
   "metadata": {},
   "outputs": [
    {
     "name": "stdout",
     "output_type": "stream",
     "text": [
      "[(0, 16355), (1, 16354)]\n"
     ]
    }
   ],
   "source": [
    "print(sorted(Counter(y_train).items()))"
   ]
  },
  {
   "cell_type": "code",
   "execution_count": 13,
   "metadata": {},
   "outputs": [
    {
     "name": "stdout",
     "output_type": "stream",
     "text": [
      "[(0, 7009), (1, 7010)]\n"
     ]
    }
   ],
   "source": [
    "print(sorted(Counter(y_test).items()))"
   ]
  },
  {
   "cell_type": "code",
   "execution_count": 14,
   "metadata": {
    "collapsed": true
   },
   "outputs": [],
   "source": [
    "X_train = pd.DataFrame(X_train, columns = X_columns)\n",
    "X_test = pd.DataFrame(X_test, columns = X_columns)"
   ]
  },
  {
   "cell_type": "code",
   "execution_count": 15,
   "metadata": {
    "collapsed": true
   },
   "outputs": [],
   "source": [
    "X_train['credit_amount'] = X_train['credit_amount'].astype('int64')\n",
    "X_train.loc[:, 'age':'pay_apr'] = X_train.loc[:, 'age':'pay_apr'].astype('int64')\n",
    "X_train.loc[:, 'bill_amt_sept':'pay_amt_apr'] = X_train.loc[:, 'bill_amt_sept':'pay_amt_apr'].astype('float64')\n",
    "X_train.loc[:, 'credit_util_sept':'cash_flow_apr'] = X_train.loc[:, 'credit_util_sept':'cash_flow_apr'].astype('float64')\n",
    "\n",
    "X_test['credit_amount'] = X_test['credit_amount'].astype('int64')\n",
    "X_test.loc[:, 'age':'pay_apr'] = X_test.loc[:, 'age':'pay_apr'].astype('int64')\n",
    "X_test.loc[:, 'bill_amt_sept':'pay_amt_apr'] = X_test.loc[:, 'bill_amt_sept':'pay_amt_apr'].astype('float64')\n",
    "X_test.loc[:, 'credit_util_sept':'cash_flow_apr'] = X_test.loc[:, 'credit_util_sept':'cash_flow_apr'].astype('float64')"
   ]
  },
  {
   "cell_type": "code",
   "execution_count": 16,
   "metadata": {},
   "outputs": [
    {
     "name": "stdout",
     "output_type": "stream",
     "text": [
      "<class 'pandas.core.frame.DataFrame'>\n",
      "RangeIndex: 32709 entries, 0 to 32708\n",
      "Data columns (total 35 columns):\n",
      "credit_amount       32709 non-null int64\n",
      "sex                 32709 non-null object\n",
      "education           32709 non-null object\n",
      "marital_status      32709 non-null object\n",
      "age                 32709 non-null int64\n",
      "pay_sept            32709 non-null int64\n",
      "pay_aug             32709 non-null int64\n",
      "pay_jul             32709 non-null int64\n",
      "pay_jun             32709 non-null int64\n",
      "pay_may             32709 non-null int64\n",
      "pay_apr             32709 non-null int64\n",
      "bill_amt_sept       32709 non-null float64\n",
      "bill_amt_aug        32709 non-null float64\n",
      "bill_amt_jul        32709 non-null float64\n",
      "bill_amt_jun        32709 non-null float64\n",
      "bill_amt_may        32709 non-null float64\n",
      "bill_amt_apr        32709 non-null float64\n",
      "pay_amt_sept        32709 non-null float64\n",
      "pay_amt_aug         32709 non-null float64\n",
      "pay_amt_jul         32709 non-null float64\n",
      "pay_amt_jun         32709 non-null float64\n",
      "pay_amt_may         32709 non-null float64\n",
      "pay_amt_apr         32709 non-null float64\n",
      "credit_util_sept    32709 non-null float64\n",
      "credit_util_aug     32709 non-null float64\n",
      "credit_util_jul     32709 non-null float64\n",
      "credit_util_jun     32709 non-null float64\n",
      "credit_util_may     32709 non-null float64\n",
      "credit_util_apr     32709 non-null float64\n",
      "cash_flow_sept      32709 non-null float64\n",
      "cash_flow_aug       32709 non-null float64\n",
      "cash_flow_jul       32709 non-null float64\n",
      "cash_flow_jun       32709 non-null float64\n",
      "cash_flow_may       32709 non-null float64\n",
      "cash_flow_apr       32709 non-null float64\n",
      "dtypes: float64(24), int64(8), object(3)\n",
      "memory usage: 8.7+ MB\n"
     ]
    }
   ],
   "source": [
    "X_train.info()"
   ]
  },
  {
   "cell_type": "code",
   "execution_count": 17,
   "metadata": {},
   "outputs": [
    {
     "data": {
      "image/png": "[encoded data removed]",
      "text/plain": [
       "<Figure size 432x288 with 1 Axes>"
      ]
     },
     "metadata": {},
     "output_type": "display_data"
    }
   ],
   "source": [
    "_ = sns.boxplot(X_train['pay_amt_apr'])  \n",
    "plt.show()"
   ]
  },
  {
   "cell_type": "code",
   "execution_count": 18,
   "metadata": {
    "collapsed": true
   },
   "outputs": [],
   "source": [
    "float_columns = X_train.select_dtypes(include=['float64']).columns\n",
    "int_columns=X_train.select_dtypes(include=['int64']).columns\n",
    "\n",
    "numeric_columns=float_columns.union(int_columns)\n",
    "\n",
    "categorical_columns = X_train.select_dtypes(include=['object']).columns"
   ]
  },
  {
   "cell_type": "code",
   "execution_count": 19,
   "metadata": {},
   "outputs": [
    {
     "data": {
      "text/plain": [
       "Index(['sex', 'education', 'marital_status'], dtype='object')"
      ]
     },
     "execution_count": 19,
     "metadata": {},
     "output_type": "execute_result"
    }
   ],
   "source": [
    "categorical_columns"
   ]
  },
  {
   "cell_type": "code",
   "execution_count": 20,
   "metadata": {},
   "outputs": [
    {
     "data": {
      "text/plain": [
       "Index(['age', 'bill_amt_apr', 'bill_amt_aug', 'bill_amt_jul', 'bill_amt_jun',\n",
       "       'bill_amt_may', 'bill_amt_sept', 'cash_flow_apr', 'cash_flow_aug',\n",
       "       'cash_flow_jul', 'cash_flow_jun', 'cash_flow_may', 'cash_flow_sept',\n",
       "       'credit_amount', 'credit_util_apr', 'credit_util_aug',\n",
       "       'credit_util_jul', 'credit_util_jun', 'credit_util_may',\n",
       "       'credit_util_sept', 'pay_amt_apr', 'pay_amt_aug', 'pay_amt_jul',\n",
       "       'pay_amt_jun', 'pay_amt_may', 'pay_amt_sept', 'pay_apr', 'pay_aug',\n",
       "       'pay_jul', 'pay_jun', 'pay_may', 'pay_sept'],\n",
       "      dtype='object')"
      ]
     },
     "execution_count": 20,
     "metadata": {},
     "output_type": "execute_result"
    }
   ],
   "source": [
    "numeric_columns"
   ]
  },
  {
   "cell_type": "markdown",
   "metadata": {},
   "source": [
    "# Replacing outliers, imputing missing numerical and categorical values."
   ]
  },
  {
   "cell_type": "code",
   "execution_count": 21,
   "metadata": {
    "collapsed": true
   },
   "outputs": [],
   "source": [
    "def outlier_replace(data,train,column):\n",
    "    quartile_1, quartile_3 = np.percentile(train[column], [25, 75])\n",
    "    iqr = quartile_3 - quartile_1\n",
    "    lower_bound = quartile_1 - (float(iqr) * 1.5)\n",
    "    upper_bound = quartile_3 + (float(iqr) * 1.5)\n",
    "    data.loc[(data[column]<lower_bound) | (data[column] > upper_bound),[column]] = train[column].median()\n",
    "    return data[column]"
   ]
  },
  {
   "cell_type": "code",
   "execution_count": 22,
   "metadata": {
    "collapsed": true
   },
   "outputs": [],
   "source": [
    "def imputation_missing_numerical(data,train,column):\n",
    "    data[column] = data[column].fillna(train[column].median())\n",
    "    return data[column]"
   ]
  },
  {
   "cell_type": "code",
   "execution_count": 23,
   "metadata": {
    "collapsed": true
   },
   "outputs": [],
   "source": [
    "def imputation_missing_categorical(data,column):\n",
    "    data[column] = data[column].fillna('other')\n",
    "    return data[column]   "
   ]
  },
  {
   "cell_type": "code",
   "execution_count": 24,
   "metadata": {
    "collapsed": true
   },
   "outputs": [],
   "source": [
    "for numeric in numeric_columns:\n",
    "    X_train[numeric] = outlier_replace(X_train,X_train,numeric)\n",
    "    #X_train[numeric] = imputation_missing_numerical(train_x,train_x,numeric)\n",
    "    \n",
    "    X_test[numeric] = outlier_replace(X_test,X_train,numeric)\n",
    "    #X_test[numeric] = imputation_missing_numerical(X_test,X_train,numeric)   \n",
    "    \n",
    "#for categorical in categorical_columns:\n",
    "#    X_train[categorical] = imputation_missing_categorical(X_train,categorical)\n",
    "#    X_test[categorical] = imputation_missing_categorical(X_test,categorical)   "
   ]
  },
  {
   "cell_type": "code",
   "execution_count": 25,
   "metadata": {
    "collapsed": true
   },
   "outputs": [],
   "source": [
    "def dummies(data,col):\n",
    "    y = pd.get_dummies(data[col],prefix=col)\n",
    "    data.drop([col],axis=1,inplace=True)\n",
    "    return y   "
   ]
  },
  {
   "cell_type": "code",
   "execution_count": 26,
   "metadata": {
    "collapsed": true
   },
   "outputs": [],
   "source": [
    "X_train_dummies  = pd.concat([dummies(X_train,col) for col in categorical_columns], axis=1)\n",
    "X_test_dummies  = pd.concat([dummies(X_test,col) for col in categorical_columns], axis=1) "
   ]
  },
  {
   "cell_type": "code",
   "execution_count": 27,
   "metadata": {},
   "outputs": [
    {
     "name": "stdout",
     "output_type": "stream",
     "text": [
      "set()\n"
     ]
    }
   ],
   "source": [
    "# Get missing columns in the training vs test set\n",
    "missing_cols = set(X_train_dummies.columns) - set(X_test_dummies.columns )\n",
    "print(missing_cols)\n",
    "\n",
    "# Add a missing column in the test set with default values equal to 0\n",
    "for col in missing_cols:\n",
    "    X_test_dummies[col] = 0\n",
    "\n",
    "X_test_dummies=X_test_dummies[X_train_dummies.columns]"
   ]
  },
  {
   "cell_type": "code",
   "execution_count": 28,
   "metadata": {
    "collapsed": true
   },
   "outputs": [],
   "source": [
    "scaler = StandardScaler()\n",
    "X_train[numeric_columns] = scaler.fit_transform(X_train[numeric_columns])\n",
    "X_test[numeric_columns] = scaler.transform(X_test[numeric_columns])"
   ]
  },
  {
   "cell_type": "code",
   "execution_count": 29,
   "metadata": {
    "collapsed": true
   },
   "outputs": [],
   "source": [
    "X_train = pd.concat([X_train[numeric_columns],X_train_dummies],axis=1)\n",
    "X_test = pd.concat([X_test[numeric_columns],X_test_dummies],axis=1)"
   ]
  },
  {
   "cell_type": "code",
   "execution_count": 30,
   "metadata": {},
   "outputs": [
    {
     "name": "stdout",
     "output_type": "stream",
     "text": [
      "<class 'pandas.core.frame.DataFrame'>\n",
      "RangeIndex: 32709 entries, 0 to 32708\n",
      "Data columns (total 42 columns):\n",
      "age                        32709 non-null float64\n",
      "bill_amt_apr               32709 non-null float64\n",
      "bill_amt_aug               32709 non-null float64\n",
      "bill_amt_jul               32709 non-null float64\n",
      "bill_amt_jun               32709 non-null float64\n",
      "bill_amt_may               32709 non-null float64\n",
      "bill_amt_sept              32709 non-null float64\n",
      "cash_flow_apr              32709 non-null float64\n",
      "cash_flow_aug              32709 non-null float64\n",
      "cash_flow_jul              32709 non-null float64\n",
      "cash_flow_jun              32709 non-null float64\n",
      "cash_flow_may              32709 non-null float64\n",
      "cash_flow_sept             32709 non-null float64\n",
      "credit_amount              32709 non-null float64\n",
      "credit_util_apr            32709 non-null float64\n",
      "credit_util_aug            32709 non-null float64\n",
      "credit_util_jul            32709 non-null float64\n",
      "credit_util_jun            32709 non-null float64\n",
      "credit_util_may            32709 non-null float64\n",
      "credit_util_sept           32709 non-null float64\n",
      "pay_amt_apr                32709 non-null float64\n",
      "pay_amt_aug                32709 non-null float64\n",
      "pay_amt_jul                32709 non-null float64\n",
      "pay_amt_jun                32709 non-null float64\n",
      "pay_amt_may                32709 non-null float64\n",
      "pay_amt_sept               32709 non-null float64\n",
      "pay_apr                    32709 non-null float64\n",
      "pay_aug                    32709 non-null float64\n",
      "pay_jul                    32709 non-null float64\n",
      "pay_jun                    32709 non-null float64\n",
      "pay_may                    32709 non-null float64\n",
      "pay_sept                   32709 non-null float64\n",
      "sex_female                 32709 non-null uint8\n",
      "sex_male                   32709 non-null uint8\n",
      "education_bachelors        32709 non-null uint8\n",
      "education_grad_school      32709 non-null uint8\n",
      "education_high_school      32709 non-null uint8\n",
      "education_other            32709 non-null uint8\n",
      "marital_status_divorced    32709 non-null uint8\n",
      "marital_status_married     32709 non-null uint8\n",
      "marital_status_other       32709 non-null uint8\n",
      "marital_status_single      32709 non-null uint8\n",
      "dtypes: float64(32), uint8(10)\n",
      "memory usage: 8.3 MB\n"
     ]
    }
   ],
   "source": [
    "X_train.info()"
   ]
  },
  {
   "cell_type": "code",
   "execution_count": 31,
   "metadata": {},
   "outputs": [
    {
     "data": {
      "text/plain": [
       "((32709, 42), (14019, 42))"
      ]
     },
     "execution_count": 31,
     "metadata": {},
     "output_type": "execute_result"
    }
   ],
   "source": [
    "X_train.shape, X_test.shape"
   ]
  },
  {
   "cell_type": "markdown",
   "metadata": {},
   "source": [
    "# Learning curve plotting function"
   ]
  },
  {
   "cell_type": "markdown",
   "metadata": {},
   "source": [
    "** AUC scorer function. **"
   ]
  },
  {
   "cell_type": "code",
   "execution_count": 32,
   "metadata": {
    "collapsed": true
   },
   "outputs": [],
   "source": [
    "from sklearn.metrics import make_scorer\n",
    "\n",
    "scorer = make_scorer(roc_auc_score, greater_is_better=True, needs_proba = True)"
   ]
  },
  {
   "cell_type": "code",
   "execution_count": 33,
   "metadata": {
    "collapsed": true
   },
   "outputs": [],
   "source": [
    "def learning_curve_plot(X_train, y_train, clf, clf_name):\n",
    "    train_sizes, train_scores, test_scores =\\\n",
    "                    learning_curve(estimator=clf, \n",
    "                    X=X_train, \n",
    "                    y=y_train,\n",
    "                    train_sizes=np.linspace(0.1, 1.0, 5),\n",
    "                    cv=5,\n",
    "                    scoring = scorer,\n",
    "                    n_jobs=-1)\n",
    "\n",
    "    train_mean = np.mean(train_scores, axis=1)\n",
    "    train_std = np.std(train_scores, axis=1)\n",
    "    test_mean = np.mean(test_scores, axis=1)\n",
    "    test_std = np.std(test_scores, axis=1)\n",
    "\n",
    "    plt.plot(train_sizes, train_mean, \n",
    "             color='blue', marker='o', \n",
    "             markersize=5, label='training AUC')\n",
    "\n",
    "    plt.fill_between(train_sizes, \n",
    "                     train_mean + train_std,\n",
    "                     train_mean - train_std, \n",
    "                     alpha=0.15, color='blue')\n",
    "\n",
    "    plt.plot(train_sizes, test_mean, \n",
    "             color='green', linestyle='--', \n",
    "             marker='s', markersize=5, \n",
    "             label='validation AUC')\n",
    "\n",
    "    plt.fill_between(train_sizes, \n",
    "                     test_mean + test_std,\n",
    "                     test_mean - test_std, \n",
    "                     alpha=0.15, color='green')\n",
    "\n",
    "    plt.grid()\n",
    "    plt.title('Learning curve for ' + str(clf_name))\n",
    "    plt.xlabel('Number of training samples')\n",
    "    plt.ylabel('AUC score')\n",
    "    plt.legend(loc='lower right')\n",
    "    plt.ylim([min(test_mean) - 0.025, max(train_mean) + 0.025])\n",
    "    plt.tight_layout()\n",
    "    return plt"
   ]
  },
  {
   "cell_type": "markdown",
   "metadata": {},
   "source": [
    "# Validation curves plotting function"
   ]
  },
  {
   "cell_type": "code",
   "execution_count": 34,
   "metadata": {
    "collapsed": true
   },
   "outputs": [],
   "source": [
    "def validation_curve_plot(X_train, y_train, clf, param_range, param_name, clf_name):\n",
    "\n",
    "    train_scores, test_scores = validation_curve(\n",
    "                    estimator=clf, \n",
    "                    X=X_train, \n",
    "                    y=y_train, \n",
    "                    param_name=param_name, \n",
    "                    param_range=param_range,\n",
    "                    cv=5,\n",
    "                    scoring = scorer,\n",
    "                    n_jobs = -1)\n",
    "\n",
    "    train_mean = np.mean(train_scores, axis=1)\n",
    "    train_std = np.std(train_scores, axis=1)\n",
    "    test_mean = np.mean(test_scores, axis=1)\n",
    "    test_std = np.std(test_scores, axis=1)\n",
    "\n",
    "    plt.plot(param_range, train_mean, \n",
    "             color='blue', marker='o', \n",
    "             markersize=5, label='training AUC')\n",
    "\n",
    "    plt.fill_between(param_range, train_mean + train_std,\n",
    "                     train_mean - train_std, alpha=0.15,\n",
    "                     color='blue')\n",
    "\n",
    "    plt.plot(param_range, test_mean, \n",
    "             color='green', linestyle='--', \n",
    "             marker='s', markersize=5, \n",
    "             label='validation AUC')\n",
    "\n",
    "    plt.fill_between(param_range, \n",
    "                     test_mean + test_std,\n",
    "                     test_mean - test_std, \n",
    "                     alpha=0.15, color='green')\n",
    "\n",
    "    plt.grid()\n",
    "    plt.xscale('log')\n",
    "    plt.legend(loc='lower right')\n",
    "    plt.xlabel('Parameter ' + str(param_name))\n",
    "    plt.ylabel('AUC score')\n",
    "    plt.title('Validation curve for ' + str(clf_name) + ':' + str(param_name))\n",
    "    plt.ylim([min(test_mean) - 0.025, max(train_mean) + 0.025])\n",
    "    plt.tight_layout()\n",
    "    return plt"
   ]
  },
  {
   "cell_type": "markdown",
   "metadata": {},
   "source": [
    "# Logistic regression"
   ]
  },
  {
   "cell_type": "code",
   "execution_count": 37,
   "metadata": {},
   "outputs": [
    {
     "name": "stdout",
     "output_type": "stream",
     "text": [
      "Training accuracy: 0.677061359259\n",
      "Test accuracy: 0.675155146587\n",
      "AUC score for the test data: 0.733773969844\n"
     ]
    }
   ],
   "source": [
    "clf = LogisticRegression(solver = 'lbfgs', penalty = 'l2', n_jobs = -1, max_iter = 150)\n",
    "\n",
    "# Fit the model on the trainng data.\n",
    "clf.fit(X_train, y_train)\n",
    "\n",
    "y_pred_train = clf.predict(X_train)\n",
    "y_pred_test = clf.predict(X_test)\n",
    "\n",
    "print('Training accuracy:', accuracy_score(y_true = y_train, y_pred = y_pred_train))\n",
    "print('Test accuracy:', accuracy_score(y_true = y_test, y_pred = y_pred_test))\n",
    "print('AUC score for the test data:', roc_auc_score(y_true = y_test, y_score = clf.predict_proba(X_test)[:,1]))"
   ]
  },
  {
   "cell_type": "markdown",
   "metadata": {},
   "source": [
    "# Validation curve (logistic regression)"
   ]
  },
  {
   "cell_type": "code",
   "execution_count": 38,
   "metadata": {},
   "outputs": [
    {
     "data": {
      "image/png": "[encoded data removed]",
      "text/plain": [
       "<Figure size 432x288 with 1 Axes>"
      ]
     },
     "metadata": {},
     "output_type": "display_data"
    }
   ],
   "source": [
    "clf_param_range = [0.001, 0.01, 0.1, 1.0, 10.0, 100.0]\n",
    "\n",
    "validation_curve_plot(X_train.values, y_train, clf, clf_param_range, 'C', 'logistic regression').show()"
   ]
  },
  {
   "cell_type": "markdown",
   "metadata": {},
   "source": [
    "# Hyperparameter tuning using grid search (logistic regression)"
   ]
  },
  {
   "cell_type": "code",
   "execution_count": 39,
   "metadata": {},
   "outputs": [
    {
     "name": "stdout",
     "output_type": "stream",
     "text": [
      "Best AUC score on training data: 0.735957824416\n",
      "Best parameters: {'C': 1000.0, 'solver': 'sag'}\n"
     ]
    }
   ],
   "source": [
    "C_range = [0.0001, 0.001, 0.01, 0.1, 1.0, 10.0, 100.0, 1000.0]\n",
    "solvers = ['newton-cg', 'lbfgs', 'liblinear', 'sag', 'saga']\n",
    "\n",
    "param_grid = [{'C': C_range, 'solver': solvers}]\n",
    "\n",
    "gs = GridSearchCV(estimator=clf, \n",
    "                  param_grid=param_grid, \n",
    "                  scoring=scorer, \n",
    "                  cv=5,\n",
    "                  n_jobs=-1)\n",
    "\n",
    "gs = gs.fit(X_train, y_train)\n",
    "print('Best AUC score on training data: ' + str(gs.best_score_))\n",
    "print('Best parameters: ' + str(gs.best_params_))"
   ]
  },
  {
   "cell_type": "code",
   "execution_count": 40,
   "metadata": {},
   "outputs": [
    {
     "name": "stdout",
     "output_type": "stream",
     "text": [
      "AUC score on test data: 0.734\n"
     ]
    }
   ],
   "source": [
    "best_clf = gs.best_estimator_\n",
    "best_clf.fit(X_train, y_train)\n",
    "print('AUC score on test data: %.3f' %roc_auc_score(y_true = y_test, y_score = best_clf.predict_proba(X_test)[:,1]))"
   ]
  },
  {
   "cell_type": "markdown",
   "metadata": {},
   "source": [
    "# Stratified K-fold cross-validation (logistic regression)."
   ]
  },
  {
   "cell_type": "code",
   "execution_count": 41,
   "metadata": {},
   "outputs": [
    {
     "name": "stdout",
     "output_type": "stream",
     "text": [
      "Fold: 1, Class dist.: [13084 13083], Train AUC score: 0.731\n",
      "Fold: 2, Class dist.: [13084 13083], Train AUC score: 0.731\n",
      "Fold: 3, Class dist.: [13084 13083], Train AUC score: 0.736\n",
      "Fold: 4, Class dist.: [13084 13083], Train AUC score: 0.736\n",
      "Fold: 5, Class dist.: [13084 13084], Train AUC score: 0.745\n",
      "\n",
      " CV AUC score: 0.736 +/- 0.005\n"
     ]
    }
   ],
   "source": [
    "kfold = StratifiedKFold(n_splits=5, shuffle=True, random_state=1)\n",
    "\n",
    "scores = []\n",
    "for k, (train_fold, test_fold) in enumerate(kfold.split(X_train.values, y_train)):\n",
    "    best_clf.fit(X_train.values[train_fold], y_train[train_fold])\n",
    "    score = roc_auc_score(y_true = y_train[test_fold], \n",
    "                          y_score = best_clf.predict_proba(X_train.values[test_fold])[:,1])\n",
    "    scores.append(score)\n",
    "    print('Fold: %s, Class dist.: %s, Train AUC score: %.3f' % (k+1, np.bincount(y_train[train_fold]), score))\n",
    "    \n",
    "print('\\n CV AUC score: %.3f +/- %.3f' % (np.mean(scores), np.std(scores)))"
   ]
  },
  {
   "cell_type": "markdown",
   "metadata": {},
   "source": [
    "# Learning curve (logistic regression)"
   ]
  },
  {
   "cell_type": "code",
   "execution_count": 42,
   "metadata": {},
   "outputs": [
    {
     "data": {
      "image/png": "[encoded data removed]",
      "text/plain": [
       "<Figure size 432x288 with 1 Axes>"
      ]
     },
     "metadata": {},
     "output_type": "display_data"
    }
   ],
   "source": [
    "learning_curve_plot(X_train.values, y_train, best_clf, 'logistic regression').show()"
   ]
  },
  {
   "cell_type": "markdown",
   "metadata": {},
   "source": [
    "# Confusion matrix (logistic regression)"
   ]
  },
  {
   "cell_type": "code",
   "execution_count": 43,
   "metadata": {},
   "outputs": [
    {
     "name": "stdout",
     "output_type": "stream",
     "text": [
      "[[4901 2108]\n",
      " [2461 4549]]\n"
     ]
    }
   ],
   "source": [
    "y_pred = best_clf.predict(X_test)\n",
    "confmat = confusion_matrix(y_true=y_test, y_pred=y_pred)\n",
    "print(confmat)"
   ]
  },
  {
   "cell_type": "code",
   "execution_count": 44,
   "metadata": {},
   "outputs": [
    {
     "data": {
      "image/png": "[encoded data removed]",
      "text/plain": [
       "<Figure size 180x180 with 1 Axes>"
      ]
     },
     "metadata": {},
     "output_type": "display_data"
    }
   ],
   "source": [
    "fig, ax = plt.subplots(figsize=(2.5, 2.5))\n",
    "ax.matshow(confmat, cmap=plt.cm.Blues, alpha=0.3)\n",
    "for i in range(confmat.shape[0]):\n",
    "    for j in range(confmat.shape[1]):\n",
    "        ax.text(x=j, y=i, s=confmat[i, j], va='center', ha='center')\n",
    "\n",
    "plt.xlabel('predicted label')\n",
    "plt.ylabel('true label')\n",
    "\n",
    "plt.tight_layout()\n",
    "# plt.savefig('./figures/confusion_matrix.png', dpi=300)\n",
    "plt.show()"
   ]
  },
  {
   "cell_type": "markdown",
   "metadata": {},
   "source": [
    "**We want to have 1 as a positive class in the confusion matric in the top left corner, therefore we need to swap labels in the confusion matrix.**\n",
    "\n",
    "**1 - default**\n",
    "**0 - no default**"
   ]
  },
  {
   "cell_type": "code",
   "execution_count": 45,
   "metadata": {},
   "outputs": [
    {
     "name": "stdout",
     "output_type": "stream",
     "text": [
      "[[4549 2461]\n",
      " [2108 4901]]\n"
     ]
    }
   ],
   "source": [
    "y_pred = best_clf.predict(X_test)\n",
    "confmat = confusion_matrix(y_true=y_test, y_pred=y_pred, labels = [1,0])\n",
    "print(confmat)"
   ]
  },
  {
   "cell_type": "code",
   "execution_count": 46,
   "metadata": {},
   "outputs": [
    {
     "name": "stdout",
     "output_type": "stream",
     "text": [
      "Precisoin from the above matrix = 0.683340844224\n"
     ]
    }
   ],
   "source": [
    "print('Precisoin from the above matrix = ' + str(confmat[0][0]/(confmat[0][0] + confmat[1][0])))"
   ]
  },
  {
   "cell_type": "markdown",
   "metadata": {},
   "source": [
    "# Classification report for test data (logistic regression)."
   ]
  },
  {
   "cell_type": "code",
   "execution_count": 60,
   "metadata": {},
   "outputs": [
    {
     "name": "stdout",
     "output_type": "stream",
     "text": [
      "AUC score for the test data: 0.733791676852\n"
     ]
    }
   ],
   "source": [
    "print('AUC score for the test data:', roc_auc_score(y_true = y_test, y_score = best_clf.predict_proba(X_test)[:,1]))"
   ]
  },
  {
   "cell_type": "code",
   "execution_count": 61,
   "metadata": {},
   "outputs": [
    {
     "name": "stdout",
     "output_type": "stream",
     "text": [
      "               precision    recall  f1-score   support\n",
      "\n",
      "not defaulted       0.67      0.70      0.68      7009\n",
      "    defaulted       0.68      0.65      0.67      7010\n",
      "\n",
      "     accuracy                           0.67     14019\n",
      "    macro avg       0.67      0.67      0.67     14019\n",
      " weighted avg       0.67      0.67      0.67     14019\n",
      "\n"
     ]
    }
   ],
   "source": [
    "print(classification_report(y_test, y_pred, target_names=['not defaulted', 'defaulted']))"
   ]
  },
  {
   "cell_type": "code",
   "execution_count": 49,
   "metadata": {},
   "outputs": [
    {
     "name": "stdout",
     "output_type": "stream",
     "text": [
      "Optimization terminated successfully.\n",
      "         Current function value: 0.598592\n",
      "         Iterations 6\n",
      "                           Logit Regression Results                           \n",
      "==============================================================================\n",
      "Dep. Variable:                      y   No. Observations:                32709\n",
      "Model:                          Logit   Df Residuals:                    32669\n",
      "Method:                           MLE   Df Model:                           39\n",
      "Date:                Thu, 05 Dec 2019   Pseudo R-squ.:                  0.1364\n",
      "Time:                        10:44:13   Log-Likelihood:                -19579.\n",
      "converged:                       True   LL-Null:                       -22672.\n",
      "Covariance Type:            nonrobust   LLR p-value:                     0.000\n",
      "===========================================================================================\n",
      "                              coef    std err          z      P>|z|      [0.025      0.975]\n",
      "-------------------------------------------------------------------------------------------\n",
      "age                         0.0360      0.014      2.508      0.012       0.008       0.064\n",
      "bill_amt_apr                0.0292      0.043      0.687      0.492      -0.054       0.113\n",
      "bill_amt_aug               -0.0131      0.052     -0.254      0.800      -0.114       0.088\n",
      "bill_amt_jul               -0.2474      0.048     -5.103      0.000      -0.342      -0.152\n",
      "bill_amt_jun               -0.1051      0.047     -2.231      0.026      -0.197      -0.013\n",
      "bill_amt_may               -0.1687      0.050     -3.382      0.001      -0.266      -0.071\n",
      "bill_amt_sept              -0.3920      0.053     -7.334      0.000      -0.497      -0.287\n",
      "cash_flow_apr              -0.0182      0.038     -0.480      0.632      -0.092       0.056\n",
      "cash_flow_aug              -0.0838      0.043     -1.931      0.054      -0.169       0.001\n",
      "cash_flow_jul              -0.2400      0.043     -5.539      0.000      -0.325      -0.155\n",
      "cash_flow_jun              -0.0507      0.041     -1.226      0.220      -0.132       0.030\n",
      "cash_flow_may              -0.1418      0.041     -3.420      0.001      -0.223      -0.061\n",
      "cash_flow_sept             -0.2505      0.046     -5.493      0.000      -0.340      -0.161\n",
      "credit_amount              -0.0943      0.016     -6.058      0.000      -0.125      -0.064\n",
      "credit_util_apr             0.1252      0.037      3.388      0.001       0.053       0.198\n",
      "credit_util_aug             0.1509      0.049      3.106      0.002       0.056       0.246\n",
      "credit_util_jul             0.1119      0.044      2.541      0.011       0.026       0.198\n",
      "credit_util_jun             0.0540      0.041      1.309      0.191      -0.027       0.135\n",
      "credit_util_may             0.0432      0.046      0.946      0.344      -0.046       0.133\n",
      "credit_util_sept           -0.1743      0.040     -4.376      0.000      -0.252      -0.096\n",
      "pay_amt_apr                -0.0164      0.015     -1.063      0.288      -0.047       0.014\n",
      "pay_amt_aug                -0.0909      0.016     -5.782      0.000      -0.122      -0.060\n",
      "pay_amt_jul                -0.0414      0.016     -2.648      0.008      -0.072      -0.011\n",
      "pay_amt_jun                -0.0740      0.016     -4.698      0.000      -0.105      -0.043\n",
      "pay_amt_may                -0.0278      0.016     -1.778      0.075      -0.058       0.003\n",
      "pay_amt_sept               -0.1448      0.016     -9.331      0.000      -0.175      -0.114\n",
      "pay_apr                    -0.1312      0.026     -4.980      0.000      -0.183      -0.080\n",
      "pay_aug                    -0.1341      0.027     -4.950      0.000      -0.187      -0.081\n",
      "pay_jul                     0.0241      0.032      0.744      0.457      -0.039       0.088\n",
      "pay_jun                    -0.0780      0.032     -2.418      0.016      -0.141      -0.015\n",
      "pay_may                     0.0344      0.032      1.072      0.284      -0.028       0.097\n",
      "pay_sept                    0.7988      0.016     50.311      0.000       0.768       0.830\n",
      "sex_female                 -0.3511        nan        nan        nan         nan         nan\n",
      "sex_male                   -0.2216        nan        nan        nan         nan         nan\n",
      "education_bachelors         0.1545        nan        nan        nan         nan         nan\n",
      "education_grad_school       0.1631        nan        nan        nan         nan         nan\n",
      "education_high_school       0.0798        nan        nan        nan         nan         nan\n",
      "education_other            -0.9702        nan        nan        nan         nan         nan\n",
      "marital_status_divorced     0.1979        nan        nan        nan         nan         nan\n",
      "marital_status_married      0.2946        nan        nan        nan         nan         nan\n",
      "marital_status_other       -1.1608        nan        nan        nan         nan         nan\n",
      "marital_status_single       0.0956        nan        nan        nan         nan         nan\n",
      "===========================================================================================\n"
     ]
    },
    {
     "name": "stderr",
     "output_type": "stream",
     "text": [
      "//anaconda/envs/python3/lib/python3.6/site-packages/statsmodels/base/model.py:1286: RuntimeWarning: invalid value encountered in sqrt\n",
      "  bse_ = np.sqrt(np.diag(self.cov_params()))\n",
      "//anaconda/envs/python3/lib/python3.6/site-packages/scipy/stats/_distn_infrastructure.py:901: RuntimeWarning: invalid value encountered in greater\n",
      "  return (a < x) & (x < b)\n",
      "//anaconda/envs/python3/lib/python3.6/site-packages/scipy/stats/_distn_infrastructure.py:901: RuntimeWarning: invalid value encountered in less\n",
      "  return (a < x) & (x < b)\n",
      "//anaconda/envs/python3/lib/python3.6/site-packages/scipy/stats/_distn_infrastructure.py:1892: RuntimeWarning: invalid value encountered in less_equal\n",
      "  cond2 = cond0 & (x <= _a)\n"
     ]
    }
   ],
   "source": [
    "import statsmodels.api as sm\n",
    "\n",
    "# define the model\n",
    "logit = sm.Logit(y_train, X_train)\n",
    "\n",
    "# fit the model\n",
    "result = logit.fit()\n",
    "\n",
    "print(result.summary())"
   ]
  },
  {
   "cell_type": "markdown",
   "metadata": {
    "collapsed": true
   },
   "source": [
    "# Random Forest classifier"
   ]
  },
  {
   "cell_type": "code",
   "execution_count": 47,
   "metadata": {},
   "outputs": [
    {
     "name": "stderr",
     "output_type": "stream",
     "text": [
      "//anaconda/envs/python3/lib/python3.6/site-packages/sklearn/ensemble/forest.py:245: FutureWarning: The default value of n_estimators will change from 10 in version 0.20 to 100 in 0.22.\n",
      "  \"10 in version 0.20 to 100 in 0.22.\", FutureWarning)\n"
     ]
    },
    {
     "name": "stdout",
     "output_type": "stream",
     "text": [
      "Training accuracy (default random forest): 0.995780977713\n",
      "Test accuracy (default random forest): 0.883871888152\n",
      "AUC score for the training data (default random forest): 0.99984139697\n",
      "AUC score for the test data (default random forest): 0.940581235579\n"
     ]
    }
   ],
   "source": [
    "rand_forest = RandomForestClassifier(n_jobs = -1)\n",
    "\n",
    "# Fit the model on the trainng data.\n",
    "rand_forest.fit(X_train, y_train)\n",
    "\n",
    "print('Training accuracy (default random forest):', \n",
    "      accuracy_score(rand_forest.predict(X_train), y_train))\n",
    "print('Test accuracy (default random forest):', \n",
    "      accuracy_score(rand_forest.predict(X_test), y_test))\n",
    "\n",
    "print('AUC score for the training data (default random forest):', \n",
    "      roc_auc_score(y_true = y_train, y_score = rand_forest.predict_proba(X_train)[:,1]))\n",
    "print('AUC score for the test data (default random forest):', \n",
    "      roc_auc_score(y_true = y_test, y_score = rand_forest.predict_proba(X_test)[:,1]))"
   ]
  },
  {
   "cell_type": "markdown",
   "metadata": {},
   "source": [
    "# Validation curve (random forest)"
   ]
  },
  {
   "cell_type": "code",
   "execution_count": 48,
   "metadata": {},
   "outputs": [
    {
     "data": {
      "image/png": "[encoded data removed]",
      "text/plain": [
       "<Figure size 432x288 with 1 Axes>"
      ]
     },
     "metadata": {},
     "output_type": "display_data"
    }
   ],
   "source": [
    "max_depth = [4, 6, 10, 14, 18, 22, 26]\n",
    "\n",
    "validation_curve_plot(X_train.values, y_train, rand_forest, max_depth, \n",
    "                      'max_depth', 'Random Forest').show()"
   ]
  },
  {
   "cell_type": "code",
   "execution_count": 49,
   "metadata": {},
   "outputs": [
    {
     "data": {
      "image/png": "[encoded data removed]",
      "text/plain": [
       "<Figure size 432x288 with 1 Axes>"
      ]
     },
     "metadata": {},
     "output_type": "display_data"
    }
   ],
   "source": [
    "n_estimators = [3, 5, 7, 9, 11, 13, 15, 20]\n",
    "\n",
    "rand_forest_upd = RandomForestClassifier(n_jobs = -1, max_depth = 10)\n",
    "\n",
    "validation_curve_plot(X_train.values, y_train, rand_forest_upd, n_estimators, \n",
    "                      'n_estimators', 'Random Forest').show()"
   ]
  },
  {
   "cell_type": "markdown",
   "metadata": {},
   "source": [
    "# Hyperparameter tuning using grid search (random forest)."
   ]
  },
  {
   "cell_type": "code",
   "execution_count": 50,
   "metadata": {},
   "outputs": [
    {
     "name": "stdout",
     "output_type": "stream",
     "text": [
      "Best AUC score on training data: 0.93947814915\n",
      "Best parameters: {'max_depth': 18, 'n_estimators': 35}\n"
     ]
    }
   ],
   "source": [
    "max_depth_optimized = [4, 6, 10, 12, 14, 16, 18]\n",
    "n_estimators_optimized = [7, 9, 11, 13, 15, 20, 25, 30, 35]\n",
    "\n",
    "param_grid = [{'n_estimators': n_estimators_optimized, 'max_depth': max_depth_optimized}]\n",
    "\n",
    "gs_rf = GridSearchCV(estimator=rand_forest, \n",
    "                  param_grid=param_grid, \n",
    "                  scoring=scorer, \n",
    "                  cv=5,\n",
    "                  n_jobs=-1)\n",
    "\n",
    "gs_rf = gs_rf.fit(X_train, y_train)\n",
    "print('Best AUC score on training data: ' + str(gs_rf.best_score_))\n",
    "print('Best parameters: ' + str(gs_rf.best_params_))"
   ]
  },
  {
   "cell_type": "code",
   "execution_count": 51,
   "metadata": {},
   "outputs": [
    {
     "name": "stdout",
     "output_type": "stream",
     "text": [
      "AUC score on test data: 0.935\n"
     ]
    }
   ],
   "source": [
    "best_rand_forest = gs_rf.best_estimator_\n",
    "best_rand_forest.fit(X_train, y_train)\n",
    "print('AUC score on test data: %.3f' \n",
    "      %roc_auc_score(y_true = y_test, y_score = best_rand_forest.predict_proba(X_test)[:,1]))"
   ]
  },
  {
   "cell_type": "markdown",
   "metadata": {},
   "source": [
    "# Stratified K-fold cross-validation (random forest)."
   ]
  },
  {
   "cell_type": "code",
   "execution_count": 52,
   "metadata": {},
   "outputs": [
    {
     "name": "stdout",
     "output_type": "stream",
     "text": [
      "Fold: 1, Class dist.: [13084 13083], Train AUC score: 0.936\n",
      "Fold: 2, Class dist.: [13084 13083], Train AUC score: 0.935\n",
      "Fold: 3, Class dist.: [13084 13083], Train AUC score: 0.940\n",
      "Fold: 4, Class dist.: [13084 13083], Train AUC score: 0.942\n",
      "Fold: 5, Class dist.: [13084 13084], Train AUC score: 0.943\n",
      "\n",
      " CV AUC score: 0.939 +/- 0.003\n"
     ]
    }
   ],
   "source": [
    "scores_rf = []\n",
    "for k, (train_fold, test_fold) in enumerate(kfold.split(X_train.values, y_train)):\n",
    "    best_rand_forest.fit(X_train.values[train_fold], y_train[train_fold])\n",
    "    score = roc_auc_score(y_true = y_train[test_fold], \n",
    "                          y_score = best_rand_forest.predict_proba(X_train.values[test_fold])[:,1])\n",
    "    scores_rf.append(score)\n",
    "    print('Fold: %s, Class dist.: %s, Train AUC score: %.3f' % (k+1, np.bincount(y_train[train_fold]), score))\n",
    "    \n",
    "print('\\n CV AUC score: %.3f +/- %.3f' % (np.mean(scores_rf), np.std(scores_rf)))"
   ]
  },
  {
   "cell_type": "markdown",
   "metadata": {},
   "source": [
    "# Confusion matrix (optimized random forest)"
   ]
  },
  {
   "cell_type": "code",
   "execution_count": 53,
   "metadata": {},
   "outputs": [
    {
     "name": "stdout",
     "output_type": "stream",
     "text": [
      "[[6062  948]\n",
      " [1062 5947]]\n"
     ]
    }
   ],
   "source": [
    "y_pred_rf = best_rand_forest.predict(X_test)\n",
    "confmat_rf = confusion_matrix(y_true=y_test, y_pred=y_pred_rf, labels = [1,0])\n",
    "print(confmat_rf)"
   ]
  },
  {
   "cell_type": "markdown",
   "metadata": {},
   "source": [
    "# Classification report for test data (random forest)."
   ]
  },
  {
   "cell_type": "code",
   "execution_count": 54,
   "metadata": {},
   "outputs": [
    {
     "name": "stdout",
     "output_type": "stream",
     "text": [
      "AUC score on test data: 0.920346155717\n"
     ]
    }
   ],
   "source": [
    "print('AUC score on test data:', roc_auc_score(y_true = y_test, \n",
    "                                                    y_score = best_rand_forest.predict_proba(X_test)[:,1]))"
   ]
  },
  {
   "cell_type": "code",
   "execution_count": 55,
   "metadata": {},
   "outputs": [
    {
     "name": "stdout",
     "output_type": "stream",
     "text": [
      "               precision    recall  f1-score   support\n",
      "\n",
      "not defaulted       0.86      0.85      0.86      7009\n",
      "    defaulted       0.85      0.86      0.86      7010\n",
      "\n",
      "     accuracy                           0.86     14019\n",
      "    macro avg       0.86      0.86      0.86     14019\n",
      " weighted avg       0.86      0.86      0.86     14019\n",
      "\n"
     ]
    }
   ],
   "source": [
    "print(classification_report(y_test, y_pred_rf, target_names=['not defaulted', 'defaulted']))"
   ]
  },
  {
   "cell_type": "code",
   "execution_count": 62,
   "metadata": {},
   "outputs": [
    {
     "data": {
      "image/png": "[encoded data removed]",
      "text/plain": [
       "<Figure size 720x576 with 1 Axes>"
      ]
     },
     "metadata": {},
     "output_type": "display_data"
    }
   ],
   "source": [
    "def plot_feature_importances(model):\n",
    "    n_features = X_train.shape[1]\n",
    "    _ = plt.figure(figsize=(10,8))\n",
    "    _ = plt.barh(np.arange(n_features), model.feature_importances_, align='center')\n",
    "    _ = plt.yticks(np.arange(n_features), X_train.columns)\n",
    "    _ = plt.xlabel(\"Feature importance\")\n",
    "    _ = plt.ylabel(\"Feature\")\n",
    "    _ = plt.ylim(-1, n_features)\n",
    "    return plt\n",
    "\n",
    "plot_feature_importances(best_rand_forest).show()"
   ]
  },
  {
   "cell_type": "markdown",
   "metadata": {},
   "source": [
    "# SVM"
   ]
  },
  {
   "cell_type": "code",
   "execution_count": 35,
   "metadata": {},
   "outputs": [
    {
     "name": "stderr",
     "output_type": "stream",
     "text": [
      "//anaconda/envs/python3/lib/python3.6/site-packages/sklearn/svm/base.py:193: FutureWarning: The default value of gamma will change from 'auto' to 'scale' in version 0.22 to account better for unscaled features. Set gamma explicitly to 'auto' or 'scale' to avoid this warning.\n",
      "  \"avoid this warning.\", FutureWarning)\n"
     ]
    },
    {
     "name": "stdout",
     "output_type": "stream",
     "text": [
      "Training accuracy (default SVM): 0.739398942187\n",
      "Test accuracy (default SVM): 0.718025536772\n",
      "AUC score for the training data (default SVM): 0.818470226923\n",
      "AUC score for the test data (default SVM): 0.778289794108\n"
     ]
    }
   ],
   "source": [
    "from sklearn.svm import SVC\n",
    "\n",
    "svm = SVC(probability = True)\n",
    "\n",
    "# Fit the model on the trainng data.\n",
    "svm.fit(X_train, y_train)\n",
    "\n",
    "y_pred_svm_train = svm.predict(X_train)\n",
    "y_pred_svm_test = svm.predict(X_test)\n",
    "\n",
    "print('Training accuracy (default SVM):', accuracy_score(y_true = y_train, y_pred = y_pred_svm_train))\n",
    "print('Test accuracy (default SVM):', accuracy_score(y_true = y_test, y_pred = y_pred_svm_test))\n",
    "\n",
    "print('AUC score for the training data (default SVM):', \n",
    "      roc_auc_score(y_true = y_train, y_score = svm.predict_proba(X_train)[:,1]))\n",
    "print('AUC score for the test data (default SVM):', \n",
    "      roc_auc_score(y_true = y_test, y_score = svm.predict_proba(X_test)[:,1]))"
   ]
  },
  {
   "cell_type": "code",
   "execution_count": 36,
   "metadata": {},
   "outputs": [
    {
     "data": {
      "image/png": "[encoded data removed]",
      "text/plain": [
       "<Figure size 432x288 with 1 Axes>"
      ]
     },
     "metadata": {},
     "output_type": "display_data"
    }
   ],
   "source": [
    "C_range = [0.5, 1, 5, 10, 50, 100]\n",
    "\n",
    "validation_curve_plot(X_train.values, y_train, SVC(gamma = 'auto', probability = True), C_range, 'C', 'SVM').show()"
   ]
  },
  {
   "cell_type": "code",
   "execution_count": 37,
   "metadata": {},
   "outputs": [
    {
     "data": {
      "image/png": "[encoded data removed]",
      "text/plain": [
       "<Figure size 432x288 with 1 Axes>"
      ]
     },
     "metadata": {},
     "output_type": "display_data"
    }
   ],
   "source": [
    "gamma_range = [0.01, 0.033, 0.05, 0.25]\n",
    "\n",
    "validation_curve_plot(X_train.values, y_train, svm, gamma_range, 'gamma', 'SVM').show()"
   ]
  },
  {
   "cell_type": "markdown",
   "metadata": {},
   "source": [
    "# Hyperparameter tuning using grid search (SVM)."
   ]
  },
  {
   "cell_type": "code",
   "execution_count": 38,
   "metadata": {},
   "outputs": [
    {
     "name": "stdout",
     "output_type": "stream",
     "text": [
      "Best AUC score on training data: 0.800409637376\n",
      "Best parameters: {'C': 1, 'gamma': 0.033}\n"
     ]
    }
   ],
   "source": [
    "C_range_optimized = [0.1, 0.5, 1]\n",
    "gamma_range_optimized = [0.01, 0.02, 0.033]\n",
    "\n",
    "param_grid = [{'C': C_range_optimized, 'gamma': gamma_range_optimized}]\n",
    "\n",
    "gs_svm = GridSearchCV(estimator=svm, \n",
    "                  param_grid=param_grid, \n",
    "                  scoring=scorer, \n",
    "                  cv=5,\n",
    "                  n_jobs=-1)\n",
    "\n",
    "gs_svm = gs_svm.fit(X_train, y_train)\n",
    "print('Best AUC score on training data: ' + str(gs_svm.best_score_))\n",
    "print('Best parameters: ' + str(gs_svm.best_params_))"
   ]
  },
  {
   "cell_type": "code",
   "execution_count": 39,
   "metadata": {},
   "outputs": [
    {
     "name": "stdout",
     "output_type": "stream",
     "text": [
      "AUC score on test data: 0.784\n"
     ]
    }
   ],
   "source": [
    "best_svm = gs_svm.best_estimator_\n",
    "best_svm.fit(X_train, y_train)\n",
    "print('AUC score on test data: %.3f' \n",
    "      %roc_auc_score(y_true = y_test, y_score = best_svm.predict_proba(X_test)[:,1]))"
   ]
  },
  {
   "cell_type": "markdown",
   "metadata": {},
   "source": [
    "# Stratified K-fold cross-validation (SVM)."
   ]
  },
  {
   "cell_type": "code",
   "execution_count": 42,
   "metadata": {},
   "outputs": [
    {
     "name": "stdout",
     "output_type": "stream",
     "text": [
      "Fold: 1, Class dist.: [13084 13083], Train AUC score (optimized SVM): 0.796\n",
      "Fold: 2, Class dist.: [13084 13083], Train AUC score (optimized SVM): 0.795\n",
      "Fold: 3, Class dist.: [13084 13083], Train AUC score (optimized SVM): 0.797\n",
      "Fold: 4, Class dist.: [13084 13083], Train AUC score (optimized SVM): 0.803\n",
      "Fold: 5, Class dist.: [13084 13084], Train AUC score (optimized SVM): 0.810\n",
      "\n",
      " CV train AUC score (optimized SVM): 0.800 +/- 0.006\n"
     ]
    }
   ],
   "source": [
    "kfold = StratifiedKFold(n_splits=5, shuffle=True, random_state=1)\n",
    "\n",
    "scores_svm = []\n",
    "for k, (train_fold, test_fold) in enumerate(kfold.split(X_train.values, y_train)):\n",
    "    best_svm.fit(X_train.values[train_fold], y_train[train_fold])\n",
    "    score = roc_auc_score(y_true = y_train[test_fold], \n",
    "                          y_score = best_svm.predict_proba(X_train.values[test_fold])[:,1])\n",
    "    scores_svm.append(score)\n",
    "    print('Fold: %s, Class dist.: %s, Train AUC score (optimized SVM): %.3f' \n",
    "          %(k+1, np.bincount(y_train[train_fold]), score))\n",
    "\n",
    "print('\\n CV train AUC score (optimized SVM): %.3f +/- %.3f' % (np.mean(scores_svm), np.std(scores_svm)))"
   ]
  },
  {
   "cell_type": "markdown",
   "metadata": {
    "collapsed": true
   },
   "source": [
    "# Confusion matrix (optimized SVM)"
   ]
  },
  {
   "cell_type": "code",
   "execution_count": 44,
   "metadata": {},
   "outputs": [
    {
     "name": "stdout",
     "output_type": "stream",
     "text": [
      "[[4710 2300]\n",
      " [1591 5418]]\n"
     ]
    }
   ],
   "source": [
    "y_pred_best_svm = best_svm.predict(X_test)\n",
    "confmat_svm = confusion_matrix(y_true=y_test, y_pred=y_pred_best_svm, labels = [1,0])\n",
    "print(confmat_svm)"
   ]
  },
  {
   "cell_type": "markdown",
   "metadata": {},
   "source": [
    "# Classification report (optimized SVM)."
   ]
  },
  {
   "cell_type": "code",
   "execution_count": 56,
   "metadata": {},
   "outputs": [
    {
     "name": "stdout",
     "output_type": "stream",
     "text": [
      "AUC score on test data: 0.782073221937\n"
     ]
    }
   ],
   "source": [
    "print('AUC score on test data:', roc_auc_score(y_true = y_test, \n",
    "                                                    y_score = best_svm.predict_proba(X_test)[:,1]))"
   ]
  },
  {
   "cell_type": "code",
   "execution_count": 46,
   "metadata": {},
   "outputs": [
    {
     "name": "stdout",
     "output_type": "stream",
     "text": [
      "               precision    recall  f1-score   support\n",
      "\n",
      "not defaulted       0.70      0.77      0.74      7009\n",
      "    defaulted       0.75      0.67      0.71      7010\n",
      "\n",
      "     accuracy                           0.72     14019\n",
      "    macro avg       0.72      0.72      0.72     14019\n",
      " weighted avg       0.72      0.72      0.72     14019\n",
      "\n"
     ]
    }
   ],
   "source": [
    "from sklearn.metrics import classification_report\n",
    "print(classification_report(y_test, y_pred_best_svm, target_names=['not defaulted', 'defaulted']))"
   ]
  },
  {
   "cell_type": "code",
   "execution_count": null,
   "metadata": {
    "collapsed": true
   },
   "outputs": [],
   "source": []
  }
 ],
 "metadata": {
  "kernelspec": {
   "display_name": "Python 3",
   "language": "python",
   "name": "python3"
  },
  "language_info": {
   "codemirror_mode": {
    "name": "ipython",
    "version": 3
   },
   "file_extension": ".py",
   "mimetype": "text/x-python",
   "name": "python",
   "nbconvert_exporter": "python",
   "pygments_lexer": "ipython3",
   "version": "3.6.8"
  }
 },
 "nbformat": 4,
 "nbformat_minor": 2
}
