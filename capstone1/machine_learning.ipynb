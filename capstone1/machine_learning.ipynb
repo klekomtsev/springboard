{
 "cells": [
  {
   "cell_type": "code",
   "execution_count": 1,
   "metadata": {
    "collapsed": true
   },
   "outputs": [],
   "source": [
    "import pandas as pd\n",
    "import numpy as np\n",
    "import matplotlib.pyplot as plt\n",
    "import seaborn as sns\n",
    "import scipy.stats as stats\n",
    "import math\n",
    "from scipy.stats import norm\n",
    "from sklearn.preprocessing import StandardScaler\n",
    "from sklearn.preprocessing import MinMaxScaler\n",
    "from sklearn.model_selection import train_test_split\n",
    "from sklearn.linear_model import LogisticRegression\n",
    "from sklearn.neighbors import KNeighborsClassifier\n",
    "from sklearn.metrics import accuracy_score\n",
    "from sklearn.model_selection import StratifiedKFold\n",
    "from sklearn.model_selection import learning_curve\n",
    "from sklearn.model_selection import GridSearchCV\n",
    "from sklearn.metrics import confusion_matrix\n",
    "from sklearn.metrics import precision_score, recall_score, f1_score\n",
    "from sklearn.model_selection import validation_curve\n",
    "from sklearn.ensemble import RandomForestClassifier\n",
    "from sklearn.naive_bayes import ComplementNB\n",
    "from sklearn.naive_bayes import GaussianNB\n",
    "from imblearn.over_sampling import RandomOverSampler\n",
    "%matplotlib inline\n",
    "\n",
    "\n",
    "df = pd.read_csv(\"defaults.csv\", header = 1, index_col = 'ID')\n",
    "df.columns = [x.lower() for x in list(df.columns)]\n",
    "df.columns = ['credit_amount', 'sex', 'education', 'marital_status', 'age', 'pay_sept', 'pay_aug',\n",
    "       'pay_jul', 'pay_jun', 'pay_may', 'pay_apr', 'bill_amt_sept', 'bill_amt_aug',\n",
    "       'bill_amt_jul', 'bill_amt_jun', 'bill_amt_may', 'bill_amt_apr', 'pay_amt_sept',\n",
    "       'pay_amt_aug', 'pay_amt_jul', 'pay_amt_jun', 'pay_amt_may', 'pay_amt_apr',\n",
    "       'default']\n",
    "\n",
    "for column in ['credit_amount', 'bill_amt_sept', 'bill_amt_aug',\n",
    "       'bill_amt_jul', 'bill_amt_jun', 'bill_amt_may', 'bill_amt_apr', 'pay_amt_sept',\n",
    "       'pay_amt_aug', 'pay_amt_jul', 'pay_amt_jun', 'pay_amt_may', 'pay_amt_apr']:\n",
    "    df[column] = df[column]/1000\n",
    "    \n",
    "gender_remapping = {1: 'male', 2: 'female'}\n",
    "df.sex = df.sex.map(gender_remapping)\n",
    "\n",
    "df.education = df.education.astype(str)\n",
    "education_remapping = {'1': 'grad_school', '2': 'bachelors', '3': 'high_school', '4': 'other', \n",
    "                       '5': 'other', '6': 'other', '0': 'other'}\n",
    "df.education = df.education.map(education_remapping)\n",
    "\n",
    "df.marital_status = df.marital_status.astype(str)\n",
    "marital_status_remapping = {'1': 'married', '2': 'single', '3': 'divorced', '0': 'other'}\n",
    "df.marital_status = df.marital_status.map(marital_status_remapping)"
   ]
  },
  {
   "cell_type": "markdown",
   "metadata": {},
   "source": [
    "# Original dataset"
   ]
  },
  {
   "cell_type": "code",
   "execution_count": 2,
   "metadata": {},
   "outputs": [
    {
     "name": "stdout",
     "output_type": "stream",
     "text": [
      "<class 'pandas.core.frame.DataFrame'>\n",
      "Int64Index: 30000 entries, 1 to 30000\n",
      "Data columns (total 24 columns):\n",
      "credit_amount     30000 non-null float64\n",
      "sex               30000 non-null object\n",
      "education         30000 non-null object\n",
      "marital_status    30000 non-null object\n",
      "age               30000 non-null int64\n",
      "pay_sept          30000 non-null int64\n",
      "pay_aug           30000 non-null int64\n",
      "pay_jul           30000 non-null int64\n",
      "pay_jun           30000 non-null int64\n",
      "pay_may           30000 non-null int64\n",
      "pay_apr           30000 non-null int64\n",
      "bill_amt_sept     30000 non-null float64\n",
      "bill_amt_aug      30000 non-null float64\n",
      "bill_amt_jul      30000 non-null float64\n",
      "bill_amt_jun      30000 non-null float64\n",
      "bill_amt_may      30000 non-null float64\n",
      "bill_amt_apr      30000 non-null float64\n",
      "pay_amt_sept      30000 non-null float64\n",
      "pay_amt_aug       30000 non-null float64\n",
      "pay_amt_jul       30000 non-null float64\n",
      "pay_amt_jun       30000 non-null float64\n",
      "pay_amt_may       30000 non-null float64\n",
      "pay_amt_apr       30000 non-null float64\n",
      "default           30000 non-null int64\n",
      "dtypes: float64(13), int64(8), object(3)\n",
      "memory usage: 5.7+ MB\n"
     ]
    }
   ],
   "source": [
    "df.info()"
   ]
  },
  {
   "cell_type": "code",
   "execution_count": 3,
   "metadata": {},
   "outputs": [
    {
     "data": {
      "text/plain": [
       "Index(['credit_amount', 'sex', 'education', 'marital_status', 'age',\n",
       "       'pay_sept', 'pay_aug', 'pay_jul', 'pay_jun', 'pay_may', 'pay_apr',\n",
       "       'bill_amt_sept', 'bill_amt_aug', 'bill_amt_jul', 'bill_amt_jun',\n",
       "       'bill_amt_may', 'bill_amt_apr', 'pay_amt_sept', 'pay_amt_aug',\n",
       "       'pay_amt_jul', 'pay_amt_jun', 'pay_amt_may', 'pay_amt_apr', 'default'],\n",
       "      dtype='object')"
      ]
     },
     "execution_count": 3,
     "metadata": {},
     "output_type": "execute_result"
    }
   ],
   "source": [
    "df.columns"
   ]
  },
  {
   "cell_type": "markdown",
   "metadata": {},
   "source": [
    "# Applying random oversampling, as we are dealing with imbalanced dataset."
   ]
  },
  {
   "cell_type": "code",
   "execution_count": 4,
   "metadata": {
    "collapsed": true
   },
   "outputs": [],
   "source": [
    "ros = RandomOverSampler(random_state=0)"
   ]
  },
  {
   "cell_type": "code",
   "execution_count": 5,
   "metadata": {
    "collapsed": true
   },
   "outputs": [],
   "source": [
    "X_columns = df.drop(['default'], axis = 1).columns\n",
    "X = df.drop(['default'], axis = 1).values\n",
    "y = df[['default']].values.ravel()\n",
    "\n",
    "X_resampled, y_resampled = ros.fit_resample(X, y)"
   ]
  },
  {
   "cell_type": "code",
   "execution_count": 6,
   "metadata": {},
   "outputs": [
    {
     "name": "stdout",
     "output_type": "stream",
     "text": [
      "[(0, 23364), (1, 23364)]\n"
     ]
    }
   ],
   "source": [
    "from collections import Counter\n",
    "print(sorted(Counter(y_resampled).items()))"
   ]
  },
  {
   "cell_type": "markdown",
   "metadata": {},
   "source": [
    "# Train - test split."
   ]
  },
  {
   "cell_type": "code",
   "execution_count": 7,
   "metadata": {
    "collapsed": true
   },
   "outputs": [],
   "source": [
    "X_train, X_test, y_train, y_test = \\\n",
    "        train_test_split(X_resampled, y_resampled, stratify = y_resampled, test_size=0.3, random_state=1)"
   ]
  },
  {
   "cell_type": "code",
   "execution_count": 8,
   "metadata": {},
   "outputs": [
    {
     "name": "stdout",
     "output_type": "stream",
     "text": [
      "[(0, 16355), (1, 16354)]\n"
     ]
    }
   ],
   "source": [
    "print(sorted(Counter(y_train).items()))"
   ]
  },
  {
   "cell_type": "code",
   "execution_count": 9,
   "metadata": {},
   "outputs": [
    {
     "name": "stdout",
     "output_type": "stream",
     "text": [
      "[(0, 7009), (1, 7010)]\n"
     ]
    }
   ],
   "source": [
    "print(sorted(Counter(y_test).items()))"
   ]
  },
  {
   "cell_type": "code",
   "execution_count": 10,
   "metadata": {
    "collapsed": true
   },
   "outputs": [],
   "source": [
    "X_train = pd.DataFrame(X_train, columns = X_columns)\n",
    "X_test = pd.DataFrame(X_test, columns = X_columns)"
   ]
  },
  {
   "cell_type": "code",
   "execution_count": 11,
   "metadata": {
    "collapsed": true
   },
   "outputs": [],
   "source": [
    "X_train['credit_amount'] = X_train['credit_amount'].astype('int64')\n",
    "X_train.loc[:, 'age':'pay_apr'] = X_train.loc[:, 'age':'pay_apr'].astype('int64')\n",
    "X_train.loc[:, 'bill_amt_sept':'pay_amt_apr'] = X_train.loc[:, 'bill_amt_sept':'pay_amt_apr'].astype('float64')\n",
    "\n",
    "X_test['credit_amount'] = X_test['credit_amount'].astype('int64')\n",
    "X_test.loc[:, 'age':'pay_apr'] = X_test.loc[:, 'age':'pay_apr'].astype('int64')\n",
    "X_test.loc[:, 'bill_amt_sept':'pay_amt_apr'] = X_test.loc[:, 'bill_amt_sept':'pay_amt_apr'].astype('float64')"
   ]
  },
  {
   "cell_type": "code",
   "execution_count": 12,
   "metadata": {},
   "outputs": [
    {
     "name": "stdout",
     "output_type": "stream",
     "text": [
      "<class 'pandas.core.frame.DataFrame'>\n",
      "RangeIndex: 32709 entries, 0 to 32708\n",
      "Data columns (total 23 columns):\n",
      "credit_amount     32709 non-null int64\n",
      "sex               32709 non-null object\n",
      "education         32709 non-null object\n",
      "marital_status    32709 non-null object\n",
      "age               32709 non-null int64\n",
      "pay_sept          32709 non-null int64\n",
      "pay_aug           32709 non-null int64\n",
      "pay_jul           32709 non-null int64\n",
      "pay_jun           32709 non-null int64\n",
      "pay_may           32709 non-null int64\n",
      "pay_apr           32709 non-null int64\n",
      "bill_amt_sept     32709 non-null float64\n",
      "bill_amt_aug      32709 non-null float64\n",
      "bill_amt_jul      32709 non-null float64\n",
      "bill_amt_jun      32709 non-null float64\n",
      "bill_amt_may      32709 non-null float64\n",
      "bill_amt_apr      32709 non-null float64\n",
      "pay_amt_sept      32709 non-null float64\n",
      "pay_amt_aug       32709 non-null float64\n",
      "pay_amt_jul       32709 non-null float64\n",
      "pay_amt_jun       32709 non-null float64\n",
      "pay_amt_may       32709 non-null float64\n",
      "pay_amt_apr       32709 non-null float64\n",
      "dtypes: float64(12), int64(8), object(3)\n",
      "memory usage: 5.7+ MB\n"
     ]
    }
   ],
   "source": [
    "X_train.info()"
   ]
  },
  {
   "cell_type": "code",
   "execution_count": 13,
   "metadata": {},
   "outputs": [
    {
     "data": {
      "image/png": "[encoded data removed]",
      "text/plain": [
       "<Figure size 432x288 with 1 Axes>"
      ]
     },
     "metadata": {},
     "output_type": "display_data"
    }
   ],
   "source": [
    "_ = sns.boxplot(X_train['pay_amt_apr'])  \n",
    "plt.show()"
   ]
  },
  {
   "cell_type": "code",
   "execution_count": 14,
   "metadata": {
    "collapsed": true
   },
   "outputs": [],
   "source": [
    "float_columns = X_train.select_dtypes(include=['float64']).columns\n",
    "int_columns=X_train.select_dtypes(include=['int64']).columns\n",
    "\n",
    "numeric_columns=float_columns.union(int_columns)\n",
    "\n",
    "categorical_columns = X_train.select_dtypes(include=['object']).columns"
   ]
  },
  {
   "cell_type": "code",
   "execution_count": 15,
   "metadata": {},
   "outputs": [
    {
     "data": {
      "text/plain": [
       "Index(['sex', 'education', 'marital_status'], dtype='object')"
      ]
     },
     "execution_count": 15,
     "metadata": {},
     "output_type": "execute_result"
    }
   ],
   "source": [
    "categorical_columns"
   ]
  },
  {
   "cell_type": "code",
   "execution_count": 16,
   "metadata": {},
   "outputs": [
    {
     "data": {
      "text/plain": [
       "Index(['age', 'bill_amt_apr', 'bill_amt_aug', 'bill_amt_jul', 'bill_amt_jun',\n",
       "       'bill_amt_may', 'bill_amt_sept', 'credit_amount', 'pay_amt_apr',\n",
       "       'pay_amt_aug', 'pay_amt_jul', 'pay_amt_jun', 'pay_amt_may',\n",
       "       'pay_amt_sept', 'pay_apr', 'pay_aug', 'pay_jul', 'pay_jun', 'pay_may',\n",
       "       'pay_sept'],\n",
       "      dtype='object')"
      ]
     },
     "execution_count": 16,
     "metadata": {},
     "output_type": "execute_result"
    }
   ],
   "source": [
    "numeric_columns"
   ]
  },
  {
   "cell_type": "markdown",
   "metadata": {},
   "source": [
    "# Replacing outliers, imputing missing numerical and categorical values."
   ]
  },
  {
   "cell_type": "code",
   "execution_count": 17,
   "metadata": {
    "collapsed": true
   },
   "outputs": [],
   "source": [
    "def outlier_replace(data,train,column):\n",
    "    quartile_1, quartile_3 = np.percentile(train[column], [25, 75])\n",
    "    iqr = quartile_3 - quartile_1\n",
    "    lower_bound = quartile_1 - (float(iqr) * 1.5)\n",
    "    upper_bound = quartile_3 + (float(iqr) * 1.5)\n",
    "    data.loc[(data[column]<lower_bound) | (data[column] > upper_bound),[column]] = train[column].median()\n",
    "    return data[column]"
   ]
  },
  {
   "cell_type": "code",
   "execution_count": 18,
   "metadata": {
    "collapsed": true
   },
   "outputs": [],
   "source": [
    "def imputation_missing_numerical(data,train,column):\n",
    "    data[column] = data[column].fillna(train[column].median())\n",
    "    return data[column]"
   ]
  },
  {
   "cell_type": "code",
   "execution_count": 19,
   "metadata": {
    "collapsed": true
   },
   "outputs": [],
   "source": [
    "def imputation_missing_categorical(data,column):\n",
    "    data[column] = data[column].fillna('other')\n",
    "    return data[column]   "
   ]
  },
  {
   "cell_type": "code",
   "execution_count": 20,
   "metadata": {
    "collapsed": true
   },
   "outputs": [],
   "source": [
    "for numeric in numeric_columns:\n",
    "    X_train[numeric] = outlier_replace(X_train,X_train,numeric)\n",
    "    #X_train[numeric] = imputation_missing_numerical(train_x,train_x,numeric)\n",
    "    \n",
    "    X_test[numeric] = outlier_replace(X_test,X_train,numeric)\n",
    "    #X_test[numeric] = imputation_missing_numerical(X_test,X_train,numeric)   \n",
    "    \n",
    "#for categorical in categorical_columns:\n",
    "#    X_train[categorical] = imputation_missing_categorical(X_train,categorical)\n",
    "#    X_test[categorical] = imputation_missing_categorical(X_test,categorical)   "
   ]
  },
  {
   "cell_type": "code",
   "execution_count": 21,
   "metadata": {
    "collapsed": true
   },
   "outputs": [],
   "source": [
    "def dummies(data,col):\n",
    "    y = pd.get_dummies(data[col],prefix=col)\n",
    "    data.drop([col],axis=1,inplace=True)\n",
    "    return y   "
   ]
  },
  {
   "cell_type": "code",
   "execution_count": 22,
   "metadata": {
    "collapsed": true
   },
   "outputs": [],
   "source": [
    "X_train_dummies  = pd.concat([dummies(X_train,col) for col in categorical_columns], axis=1)\n",
    "X_test_dummies  = pd.concat([dummies(X_test,col) for col in categorical_columns], axis=1) "
   ]
  },
  {
   "cell_type": "code",
   "execution_count": 23,
   "metadata": {},
   "outputs": [
    {
     "name": "stdout",
     "output_type": "stream",
     "text": [
      "set()\n"
     ]
    }
   ],
   "source": [
    "# Get missing columns in the training vs test set\n",
    "missing_cols = set(X_train_dummies.columns) - set(X_test_dummies.columns )\n",
    "print(missing_cols)\n",
    "\n",
    "# Add a missing column in the test set with default values equal to 0\n",
    "for col in missing_cols:\n",
    "    X_test_dummies[col] = 0\n",
    "\n",
    "X_test_dummies=X_test_dummies[X_train_dummies.columns]"
   ]
  },
  {
   "cell_type": "code",
   "execution_count": 24,
   "metadata": {
    "collapsed": true
   },
   "outputs": [],
   "source": [
    "scaler = StandardScaler()\n",
    "X_train[numeric_columns] = scaler.fit_transform(X_train[numeric_columns])\n",
    "X_test[numeric_columns] = scaler.transform(X_test[numeric_columns])"
   ]
  },
  {
   "cell_type": "code",
   "execution_count": 25,
   "metadata": {
    "collapsed": true
   },
   "outputs": [],
   "source": [
    "X_train = pd.concat([X_train[numeric_columns],X_train_dummies],axis=1)\n",
    "X_test = pd.concat([X_test[numeric_columns],X_test_dummies],axis=1)"
   ]
  },
  {
   "cell_type": "code",
   "execution_count": 26,
   "metadata": {},
   "outputs": [
    {
     "name": "stdout",
     "output_type": "stream",
     "text": [
      "<class 'pandas.core.frame.DataFrame'>\n",
      "RangeIndex: 32709 entries, 0 to 32708\n",
      "Data columns (total 30 columns):\n",
      "age                        32709 non-null float64\n",
      "bill_amt_apr               32709 non-null float64\n",
      "bill_amt_aug               32709 non-null float64\n",
      "bill_amt_jul               32709 non-null float64\n",
      "bill_amt_jun               32709 non-null float64\n",
      "bill_amt_may               32709 non-null float64\n",
      "bill_amt_sept              32709 non-null float64\n",
      "credit_amount              32709 non-null float64\n",
      "pay_amt_apr                32709 non-null float64\n",
      "pay_amt_aug                32709 non-null float64\n",
      "pay_amt_jul                32709 non-null float64\n",
      "pay_amt_jun                32709 non-null float64\n",
      "pay_amt_may                32709 non-null float64\n",
      "pay_amt_sept               32709 non-null float64\n",
      "pay_apr                    32709 non-null float64\n",
      "pay_aug                    32709 non-null float64\n",
      "pay_jul                    32709 non-null float64\n",
      "pay_jun                    32709 non-null float64\n",
      "pay_may                    32709 non-null float64\n",
      "pay_sept                   32709 non-null float64\n",
      "sex_female                 32709 non-null uint8\n",
      "sex_male                   32709 non-null uint8\n",
      "education_bachelors        32709 non-null uint8\n",
      "education_grad_school      32709 non-null uint8\n",
      "education_high_school      32709 non-null uint8\n",
      "education_other            32709 non-null uint8\n",
      "marital_status_divorced    32709 non-null uint8\n",
      "marital_status_married     32709 non-null uint8\n",
      "marital_status_other       32709 non-null uint8\n",
      "marital_status_single      32709 non-null uint8\n",
      "dtypes: float64(20), uint8(10)\n",
      "memory usage: 5.3 MB\n"
     ]
    }
   ],
   "source": [
    "X_train.info()"
   ]
  },
  {
   "cell_type": "code",
   "execution_count": 27,
   "metadata": {},
   "outputs": [
    {
     "data": {
      "text/plain": [
       "((32709, 30), (14019, 30))"
      ]
     },
     "execution_count": 27,
     "metadata": {},
     "output_type": "execute_result"
    }
   ],
   "source": [
    "X_train.shape, X_test.shape"
   ]
  },
  {
   "cell_type": "markdown",
   "metadata": {},
   "source": [
    "# Learning curve plotting function"
   ]
  },
  {
   "cell_type": "code",
   "execution_count": 28,
   "metadata": {
    "collapsed": true
   },
   "outputs": [],
   "source": [
    "def learning_curve_plot(X_train, y_train, clf, clf_name):\n",
    "    train_sizes, train_scores, test_scores =\\\n",
    "                    learning_curve(estimator=clf, \n",
    "                    X=X_train, \n",
    "                    y=y_train,\n",
    "                    train_sizes=np.linspace(0.1, 1.0, 5),\n",
    "                    cv=5,\n",
    "                    n_jobs=-1)\n",
    "\n",
    "    train_mean = np.mean(train_scores, axis=1)\n",
    "    train_std = np.std(train_scores, axis=1)\n",
    "    test_mean = np.mean(test_scores, axis=1)\n",
    "    test_std = np.std(test_scores, axis=1)\n",
    "\n",
    "    plt.plot(train_sizes, train_mean, \n",
    "             color='blue', marker='o', \n",
    "             markersize=5, label='training accuracy')\n",
    "\n",
    "    plt.fill_between(train_sizes, \n",
    "                     train_mean + train_std,\n",
    "                     train_mean - train_std, \n",
    "                     alpha=0.15, color='blue')\n",
    "\n",
    "    plt.plot(train_sizes, test_mean, \n",
    "             color='green', linestyle='--', \n",
    "             marker='s', markersize=5, \n",
    "             label='validation accuracy')\n",
    "\n",
    "    plt.fill_between(train_sizes, \n",
    "                     test_mean + test_std,\n",
    "                     test_mean - test_std, \n",
    "                     alpha=0.15, color='green')\n",
    "\n",
    "    plt.grid()\n",
    "    plt.title('Learning curve for ' + str(clf_name))\n",
    "    plt.xlabel('Number of training samples')\n",
    "    plt.ylabel('Accuracy')\n",
    "    plt.legend(loc='lower right')\n",
    "    plt.ylim([min(test_mean) - 0.025, max(train_mean) + 0.025])\n",
    "    plt.tight_layout()\n",
    "    return plt"
   ]
  },
  {
   "cell_type": "markdown",
   "metadata": {},
   "source": [
    "# Validation curves plotting function"
   ]
  },
  {
   "cell_type": "code",
   "execution_count": 29,
   "metadata": {
    "collapsed": true
   },
   "outputs": [],
   "source": [
    "def validation_curve_plot(X_train, y_train, clf, param_range, param_name, clf_name):\n",
    "\n",
    "    train_scores, test_scores = validation_curve(\n",
    "                    estimator=clf, \n",
    "                    X=X_train, \n",
    "                    y=y_train, \n",
    "                    param_name=param_name, \n",
    "                    param_range=param_range,\n",
    "                    cv=5,\n",
    "                    n_jobs = -1)\n",
    "\n",
    "    train_mean = np.mean(train_scores, axis=1)\n",
    "    train_std = np.std(train_scores, axis=1)\n",
    "    test_mean = np.mean(test_scores, axis=1)\n",
    "    test_std = np.std(test_scores, axis=1)\n",
    "\n",
    "    plt.plot(param_range, train_mean, \n",
    "             color='blue', marker='o', \n",
    "             markersize=5, label='training accuracy')\n",
    "\n",
    "    plt.fill_between(param_range, train_mean + train_std,\n",
    "                     train_mean - train_std, alpha=0.15,\n",
    "                     color='blue')\n",
    "\n",
    "    plt.plot(param_range, test_mean, \n",
    "             color='green', linestyle='--', \n",
    "             marker='s', markersize=5, \n",
    "             label='validation accuracy')\n",
    "\n",
    "    plt.fill_between(param_range, \n",
    "                     test_mean + test_std,\n",
    "                     test_mean - test_std, \n",
    "                     alpha=0.15, color='green')\n",
    "\n",
    "    plt.grid()\n",
    "    plt.xscale('log')\n",
    "    plt.legend(loc='lower right')\n",
    "    plt.xlabel('Parameter ' + str(param_name))\n",
    "    plt.ylabel('Accuracy')\n",
    "    plt.title('Validation curve for ' + str(clf_name) + ':' + str(param_name))\n",
    "    plt.ylim([min(test_mean) - 0.025, max(train_mean) + 0.025])\n",
    "    plt.tight_layout()\n",
    "    return plt"
   ]
  },
  {
   "cell_type": "markdown",
   "metadata": {},
   "source": [
    "# Logistic regression"
   ]
  },
  {
   "cell_type": "code",
   "execution_count": 30,
   "metadata": {},
   "outputs": [
    {
     "name": "stdout",
     "output_type": "stream",
     "text": [
      "Training accuracy: 0.675379864869\n",
      "Test accuracy: 0.675797132463\n",
      "AUC score for the test data: 0.726086330007\n"
     ]
    }
   ],
   "source": [
    "from sklearn.metrics import roc_auc_score\n",
    "\n",
    "clf = LogisticRegression(solver = 'lbfgs', penalty = 'l2', n_jobs = -1, max_iter = 150)\n",
    "\n",
    "# Fit the model on the trainng data.\n",
    "clf.fit(X_train, y_train)\n",
    "\n",
    "y_pred_train = clf.predict(X_train)\n",
    "y_pred_test = clf.predict(X_test)\n",
    "\n",
    "print('Training accuracy:', accuracy_score(y_true = y_train, y_pred = y_pred_train))\n",
    "print('Test accuracy:', accuracy_score(y_true = y_test, y_pred = y_pred_test))\n",
    "print('AUC score for the test data:', roc_auc_score(y_true = y_test, y_score = clf.predict_proba(X_test)[:,1]))"
   ]
  },
  {
   "cell_type": "markdown",
   "metadata": {},
   "source": [
    "# Stratified K-fold cross-validation (logistic regression)."
   ]
  },
  {
   "cell_type": "code",
   "execution_count": 31,
   "metadata": {},
   "outputs": [
    {
     "name": "stdout",
     "output_type": "stream",
     "text": [
      "Fold: 1, Class dist.: [13084 13083], Train accuracy: 0.674\n",
      "Fold: 2, Class dist.: [13084 13083], Train accuracy: 0.666\n",
      "Fold: 3, Class dist.: [13084 13083], Train accuracy: 0.674\n",
      "Fold: 4, Class dist.: [13084 13083], Train accuracy: 0.677\n",
      "Fold: 5, Class dist.: [13084 13084], Train accuracy: 0.682\n",
      "\n",
      "CV accuracy: 0.674 +/- 0.005\n"
     ]
    }
   ],
   "source": [
    "kfold = StratifiedKFold(n_splits=5, shuffle=True, random_state=1)\n",
    "\n",
    "scores = []\n",
    "for k, (train_fold, test_fold) in enumerate(kfold.split(X_train.values, y_train)):\n",
    "    clf.fit(X_train.values[train_fold], y_train[train_fold])\n",
    "    score = clf.score(X_train.values[test_fold], y_train[test_fold])\n",
    "    scores.append(score)\n",
    "    print('Fold: %s, Class dist.: %s, Train accuracy: %.3f' % (k+1, np.bincount(y_train[train_fold]), score))\n",
    "    \n",
    "print('\\nCV accuracy: %.3f +/- %.3f' % (np.mean(scores), np.std(scores)))"
   ]
  },
  {
   "cell_type": "markdown",
   "metadata": {},
   "source": [
    "# Validation curve (logistic regression)"
   ]
  },
  {
   "cell_type": "code",
   "execution_count": 32,
   "metadata": {},
   "outputs": [
    {
     "data": {
      "image/png": "[encoded data removed]",
      "text/plain": [
       "<Figure size 432x288 with 1 Axes>"
      ]
     },
     "metadata": {},
     "output_type": "display_data"
    }
   ],
   "source": [
    "clf_param_range = [0.001, 0.01, 0.1, 1.0, 10.0, 100.0]\n",
    "\n",
    "validation_curve_plot(X_train.values, y_train, clf, clf_param_range, 'C', 'logistic regression').show()"
   ]
  },
  {
   "cell_type": "markdown",
   "metadata": {},
   "source": [
    "# Hyperparameter tuning using grid search (logistic regression)"
   ]
  },
  {
   "cell_type": "code",
   "execution_count": 33,
   "metadata": {},
   "outputs": [
    {
     "name": "stdout",
     "output_type": "stream",
     "text": [
      "0.674829557614\n",
      "{'C': 0.01, 'solver': 'lbfgs'}\n"
     ]
    }
   ],
   "source": [
    "C_range = [0.0001, 0.001, 0.01, 0.1, 1.0, 10.0, 100.0, 1000.0]\n",
    "solvers = ['newton-cg', 'lbfgs', 'liblinear', 'sag', 'saga']\n",
    "\n",
    "param_grid = [{'C': C_range, 'solver': solvers}]\n",
    "\n",
    "gs = GridSearchCV(estimator=clf, \n",
    "                  param_grid=param_grid, \n",
    "                  scoring='accuracy', \n",
    "                  cv=5,\n",
    "                  n_jobs=-1)\n",
    "gs = gs.fit(X_train, y_train)\n",
    "print(gs.best_score_)\n",
    "print(gs.best_params_)"
   ]
  },
  {
   "cell_type": "code",
   "execution_count": 34,
   "metadata": {},
   "outputs": [
    {
     "name": "stdout",
     "output_type": "stream",
     "text": [
      "Test accuracy: 0.675\n"
     ]
    }
   ],
   "source": [
    "best_clf = gs.best_estimator_\n",
    "best_clf.fit(X_train, y_train)\n",
    "print('Test accuracy: %.3f' % best_clf.score(X_test, y_test))"
   ]
  },
  {
   "cell_type": "markdown",
   "metadata": {},
   "source": [
    "# Learning curve (logistic regression)"
   ]
  },
  {
   "cell_type": "code",
   "execution_count": 35,
   "metadata": {},
   "outputs": [
    {
     "data": {
      "image/png": "[encoded data removed]",
      "text/plain": [
       "<Figure size 432x288 with 1 Axes>"
      ]
     },
     "metadata": {},
     "output_type": "display_data"
    }
   ],
   "source": [
    "learning_curve_plot(X_train.values, y_train, best_clf, 'logistic regression').show()"
   ]
  },
  {
   "cell_type": "markdown",
   "metadata": {},
   "source": [
    "# Confusion matrix (logistic regression)"
   ]
  },
  {
   "cell_type": "code",
   "execution_count": 36,
   "metadata": {},
   "outputs": [
    {
     "name": "stdout",
     "output_type": "stream",
     "text": [
      "[[5051 1958]\n",
      " [2601 4409]]\n"
     ]
    }
   ],
   "source": [
    "y_pred = best_clf.predict(X_test)\n",
    "confmat = confusion_matrix(y_true=y_test, y_pred=y_pred)\n",
    "print(confmat)"
   ]
  },
  {
   "cell_type": "code",
   "execution_count": 37,
   "metadata": {},
   "outputs": [
    {
     "data": {
      "image/png": "[encoded data removed]",
      "text/plain": [
       "<Figure size 180x180 with 1 Axes>"
      ]
     },
     "metadata": {},
     "output_type": "display_data"
    }
   ],
   "source": [
    "fig, ax = plt.subplots(figsize=(2.5, 2.5))\n",
    "ax.matshow(confmat, cmap=plt.cm.Blues, alpha=0.3)\n",
    "for i in range(confmat.shape[0]):\n",
    "    for j in range(confmat.shape[1]):\n",
    "        ax.text(x=j, y=i, s=confmat[i, j], va='center', ha='center')\n",
    "\n",
    "plt.xlabel('predicted label')\n",
    "plt.ylabel('true label')\n",
    "\n",
    "plt.tight_layout()\n",
    "# plt.savefig('./figures/confusion_matrix.png', dpi=300)\n",
    "plt.show()"
   ]
  },
  {
   "cell_type": "markdown",
   "metadata": {},
   "source": [
    "**We want to have 1 as a positive class in the confusion matric in the top left corner, therefore we need to swap labels in the confusion matrix.**\n",
    "\n",
    "**1 - default**\n",
    "**0 - no default**"
   ]
  },
  {
   "cell_type": "code",
   "execution_count": 38,
   "metadata": {},
   "outputs": [
    {
     "name": "stdout",
     "output_type": "stream",
     "text": [
      "[[4409 2601]\n",
      " [1958 5051]]\n"
     ]
    }
   ],
   "source": [
    "y_pred = best_clf.predict(X_test)\n",
    "confmat = confusion_matrix(y_true=y_test, y_pred=y_pred, labels = [1,0])\n",
    "print(confmat)"
   ]
  },
  {
   "cell_type": "code",
   "execution_count": 39,
   "metadata": {},
   "outputs": [
    {
     "name": "stdout",
     "output_type": "stream",
     "text": [
      "Precisoin from the above matrix = 0.692476833674\n"
     ]
    }
   ],
   "source": [
    "print('Precisoin from the above matrix = ' + str(confmat[0][0]/(confmat[0][0] + confmat[1][0])))"
   ]
  },
  {
   "cell_type": "markdown",
   "metadata": {},
   "source": [
    "**Metrics using sklearn precision_score() function**"
   ]
  },
  {
   "cell_type": "code",
   "execution_count": 40,
   "metadata": {},
   "outputs": [
    {
     "name": "stdout",
     "output_type": "stream",
     "text": [
      "Precision: 0.692\n",
      "Recall: 0.629\n",
      "F1: 0.659\n"
     ]
    }
   ],
   "source": [
    "print('Precision: %.3f' % precision_score(y_true=y_test, y_pred=y_pred))\n",
    "print('Recall: %.3f' % recall_score(y_true=y_test, y_pred=y_pred))\n",
    "print('F1: %.3f' % f1_score(y_true=y_test, y_pred=y_pred))"
   ]
  },
  {
   "cell_type": "code",
   "execution_count": 52,
   "metadata": {},
   "outputs": [
    {
     "name": "stdout",
     "output_type": "stream",
     "text": [
      "Test accuracy: 0.674798487767\n"
     ]
    }
   ],
   "source": [
    "print('Test accuracy:', accuracy_score(y_true = y_test, y_pred = y_pred))"
   ]
  },
  {
   "cell_type": "markdown",
   "metadata": {
    "collapsed": true
   },
   "source": [
    "# Random Forest classifier"
   ]
  },
  {
   "cell_type": "code",
   "execution_count": 42,
   "metadata": {},
   "outputs": [
    {
     "name": "stderr",
     "output_type": "stream",
     "text": [
      "//anaconda/envs/python3/lib/python3.6/site-packages/sklearn/ensemble/forest.py:245: FutureWarning: The default value of n_estimators will change from 10 in version 0.20 to 100 in 0.22.\n",
      "  \"10 in version 0.20 to 100 in 0.22.\", FutureWarning)\n"
     ]
    },
    {
     "name": "stdout",
     "output_type": "stream",
     "text": [
      "Training accuracy (default random forest): 0.995597541961\n",
      "Test accuracy (default random forest): 0.875597403524\n"
     ]
    }
   ],
   "source": [
    "rand_forest = RandomForestClassifier(n_jobs = -1)\n",
    "\n",
    "# Fit the model on the trainng data.\n",
    "rand_forest.fit(X_train, y_train)\n",
    "\n",
    "print('Training accuracy (default random forest):', \n",
    "      accuracy_score(rand_forest.predict(X_train), y_train))\n",
    "print('Test accuracy (default random forest):', \n",
    "      accuracy_score(rand_forest.predict(X_test), y_test))"
   ]
  },
  {
   "cell_type": "markdown",
   "metadata": {},
   "source": [
    "# Validation curve (random forest)"
   ]
  },
  {
   "cell_type": "code",
   "execution_count": 44,
   "metadata": {},
   "outputs": [
    {
     "data": {
      "image/png": "[encoded data removed]",
      "text/plain": [
       "<Figure size 432x288 with 1 Axes>"
      ]
     },
     "metadata": {},
     "output_type": "display_data"
    }
   ],
   "source": [
    "max_depth = [4, 6, 10, 14, 18, 22, 26]\n",
    "\n",
    "validation_curve_plot(X_train.values, y_train, rand_forest, max_depth, \n",
    "                      'max_depth', 'Random Forest').show()"
   ]
  },
  {
   "cell_type": "code",
   "execution_count": 46,
   "metadata": {},
   "outputs": [
    {
     "data": {
      "image/png": "[encoded data removed]",
      "text/plain": [
       "<Figure size 432x288 with 1 Axes>"
      ]
     },
     "metadata": {},
     "output_type": "display_data"
    }
   ],
   "source": [
    "n_estimators = [3, 5, 7, 9, 11, 13, 15, 20]\n",
    "\n",
    "rand_forest_upd = RandomForestClassifier(n_jobs = -1, max_depth = 10)\n",
    "\n",
    "validation_curve_plot(X_train.values, y_train, rand_forest_upd, n_estimators, \n",
    "                      'n_estimators', 'Random Forest').show()"
   ]
  },
  {
   "cell_type": "markdown",
   "metadata": {},
   "source": [
    "# Stratified K-fold cross-validation (random forest)."
   ]
  },
  {
   "cell_type": "code",
   "execution_count": 47,
   "metadata": {},
   "outputs": [
    {
     "name": "stdout",
     "output_type": "stream",
     "text": [
      "Fold: 1, Class dist.: [13084 13083], Train accuracy: 0.752\n",
      "Fold: 2, Class dist.: [13084 13083], Train accuracy: 0.755\n",
      "Fold: 3, Class dist.: [13084 13083], Train accuracy: 0.759\n",
      "Fold: 4, Class dist.: [13084 13083], Train accuracy: 0.761\n",
      "Fold: 5, Class dist.: [13084 13084], Train accuracy: 0.758\n",
      "\n",
      "CV accuracy: 0.757 +/- 0.003\n"
     ]
    }
   ],
   "source": [
    "rand_forest_best = RandomForestClassifier(n_jobs = -1, max_depth = 10, n_estimators = 15)\n",
    "\n",
    "scores_rf = []\n",
    "for k, (train_fold, test_fold) in enumerate(kfold.split(X_train.values, y_train)):\n",
    "    rand_forest_best.fit(X_train.values[train_fold], y_train[train_fold])\n",
    "    score = rand_forest_best.score(X_train.values[test_fold], y_train[test_fold])\n",
    "    scores_rf.append(score)\n",
    "    print('Fold: %s, Class dist.: %s, Train accuracy: %.3f' % (k+1, np.bincount(y_train[train_fold]), score))\n",
    "    \n",
    "print('\\nCV accuracy: %.3f +/- %.3f' % (np.mean(scores_rf), np.std(scores_rf)))"
   ]
  },
  {
   "cell_type": "markdown",
   "metadata": {},
   "source": [
    "# Confusion matrix (optimized random forest)"
   ]
  },
  {
   "cell_type": "code",
   "execution_count": 48,
   "metadata": {},
   "outputs": [
    {
     "name": "stdout",
     "output_type": "stream",
     "text": [
      "[[4857 2153]\n",
      " [1292 5717]]\n"
     ]
    }
   ],
   "source": [
    "rand_forest_best.fit(X_train, y_train)\n",
    "y_pred_rf = rand_forest_best.predict(X_test)\n",
    "confmat_rf = confusion_matrix(y_true=y_test, y_pred=y_pred_rf, labels = [1,0])\n",
    "print(confmat_rf)"
   ]
  },
  {
   "cell_type": "code",
   "execution_count": 50,
   "metadata": {},
   "outputs": [
    {
     "name": "stdout",
     "output_type": "stream",
     "text": [
      "Precision (optimized random forest): 0.790\n",
      "Recall (optimized random forest): 0.693\n",
      "F1 (optimized random forest): 0.738\n"
     ]
    }
   ],
   "source": [
    "print('Precision (optimized random forest): %.3f' % precision_score(y_true=y_test, y_pred=y_pred_rf))\n",
    "print('Recall (optimized random forest): %.3f' % recall_score(y_true=y_test, y_pred=y_pred_rf))\n",
    "print('F1 (optimized random forest): %.3f' % f1_score(y_true=y_test, y_pred=y_pred_rf))"
   ]
  },
  {
   "cell_type": "code",
   "execution_count": 51,
   "metadata": {},
   "outputs": [
    {
     "name": "stdout",
     "output_type": "stream",
     "text": [
      "Training accuracy (optimized random forest): 0.796936622948\n",
      "Test accuracy (optimized random forest): 0.754262072901\n"
     ]
    }
   ],
   "source": [
    "print('Training accuracy (optimized random forest):', \n",
    "      accuracy_score(rand_forest_best.predict(X_train), y_train))\n",
    "print('Test accuracy (optimized random forest):', \n",
    "      accuracy_score(rand_forest_best.predict(X_test), y_test))"
   ]
  },
  {
   "cell_type": "code",
   "execution_count": 55,
   "metadata": {},
   "outputs": [
    {
     "data": {
      "image/png": "[encoded data removed]",
      "text/plain": [
       "<Figure size 720x576 with 1 Axes>"
      ]
     },
     "metadata": {},
     "output_type": "display_data"
    }
   ],
   "source": [
    "def plot_feature_importances(model):\n",
    "    n_features = X_train.shape[1]\n",
    "    _ = plt.figure(figsize=(10,8))\n",
    "    _ = plt.barh(np.arange(n_features), model.feature_importances_, align='center')\n",
    "    _ = plt.yticks(np.arange(n_features), X_train.columns)\n",
    "    _ = plt.xlabel(\"Feature importance\")\n",
    "    _ = plt.ylabel(\"Feature\")\n",
    "    _ = plt.ylim(-1, n_features)\n",
    "    return plt\n",
    "\n",
    "plot_feature_importances(rand_forest_best).show()"
   ]
  },
  {
   "cell_type": "markdown",
   "metadata": {},
   "source": [
    "# SVM"
   ]
  },
  {
   "cell_type": "code",
   "execution_count": 57,
   "metadata": {},
   "outputs": [
    {
     "name": "stderr",
     "output_type": "stream",
     "text": [
      "//anaconda/envs/python3/lib/python3.6/site-packages/sklearn/svm/base.py:193: FutureWarning: The default value of gamma will change from 'auto' to 'scale' in version 0.22 to account better for unscaled features. Set gamma explicitly to 'auto' or 'scale' to avoid this warning.\n",
      "  \"avoid this warning.\", FutureWarning)\n"
     ]
    },
    {
     "name": "stdout",
     "output_type": "stream",
     "text": [
      "Training accuracy (default SVM): 0.731052615488\n",
      "Test accuracy (default SVM): 0.711605678008\n"
     ]
    }
   ],
   "source": [
    "from sklearn.svm import SVC\n",
    "\n",
    "svm = SVC()\n",
    "\n",
    "# Fit the model on the trainng data.\n",
    "svm.fit(X_train, y_train)\n",
    "\n",
    "y_pred_svm_train = svm.predict(X_train)\n",
    "y_pred_svm_test = svm.predict(X_test)\n",
    "\n",
    "print('Training accuracy (default SVM):', accuracy_score(y_true = y_train, y_pred = y_pred_svm_train))\n",
    "print('Test accuracy (default SVM):', accuracy_score(y_true = y_test, y_pred = y_pred_svm_test))"
   ]
  },
  {
   "cell_type": "code",
   "execution_count": 58,
   "metadata": {},
   "outputs": [
    {
     "data": {
      "image/png": "[encoded data removed]",
      "text/plain": [
       "<Figure size 432x288 with 1 Axes>"
      ]
     },
     "metadata": {},
     "output_type": "display_data"
    }
   ],
   "source": [
    "C_range = [1, 5, 10, 50, 100, 200]\n",
    "\n",
    "validation_curve_plot(X_train.values, y_train, SVC(gamma = 'auto'), C_range, 'C', 'SVM').show()"
   ]
  },
  {
   "cell_type": "code",
   "execution_count": 59,
   "metadata": {},
   "outputs": [
    {
     "data": {
      "image/png": "[encoded data removed]",
      "text/plain": [
       "<Figure size 432x288 with 1 Axes>"
      ]
     },
     "metadata": {},
     "output_type": "display_data"
    }
   ],
   "source": [
    "gamma_range = [0.01, 0.033, 0.05, 0.1, 0.5]\n",
    "\n",
    "validation_curve_plot(X_train.values, y_train, svm, gamma_range, 'gamma', 'SVM').show()"
   ]
  },
  {
   "cell_type": "markdown",
   "metadata": {},
   "source": [
    "# Stratified K-fold cross-validation (SVM)."
   ]
  },
  {
   "cell_type": "code",
   "execution_count": 40,
   "metadata": {},
   "outputs": [
    {
     "name": "stdout",
     "output_type": "stream",
     "text": [
      "Fold: 1, Class dist.: [13084 13083], Train accuracy: 0.746\n",
      "Fold: 2, Class dist.: [13084 13083], Train accuracy: 0.749\n",
      "Fold: 3, Class dist.: [13084 13083], Train accuracy: 0.748\n",
      "Fold: 4, Class dist.: [13084 13083], Train accuracy: 0.755\n",
      "Fold: 5, Class dist.: [13084 13084], Train accuracy: 0.758\n",
      "\n",
      "CV accuracy: 0.751 +/- 0.005\n"
     ]
    }
   ],
   "source": [
    "from sklearn.svm import SVC\n",
    "kfold = StratifiedKFold(n_splits=5, shuffle=True, random_state=1)\n",
    "\n",
    "svm_best = SVC(C=5, gamma=0.05)\n",
    "\n",
    "scores_svm = []\n",
    "for k, (train_fold, test_fold) in enumerate(kfold.split(X_train.values, y_train)):\n",
    "    svm_best.fit(X_train.values[train_fold], y_train[train_fold])\n",
    "    score = svm_best.score(X_train.values[test_fold], y_train[test_fold])\n",
    "    scores_svm.append(score)\n",
    "    print('Fold: %s, Class dist.: %s, Train accuracy: %.3f' % (k+1, np.bincount(y_train[train_fold]), score))\n",
    "    \n",
    "print('\\nCV accuracy: %.3f +/- %.3f' % (np.mean(scores_svm), np.std(scores_svm)))"
   ]
  },
  {
   "cell_type": "markdown",
   "metadata": {
    "collapsed": true
   },
   "source": [
    "# Confusion matrix (optimized SVM)"
   ]
  },
  {
   "cell_type": "code",
   "execution_count": 41,
   "metadata": {},
   "outputs": [
    {
     "name": "stdout",
     "output_type": "stream",
     "text": [
      "[[4856 2154]\n",
      " [1585 5424]]\n"
     ]
    }
   ],
   "source": [
    "svm_best.fit(X_train, y_train)\n",
    "y_pred_best_svm_train = svm_best.predict(X_train)\n",
    "y_pred_best_svm_test = svm_best.predict(X_test)\n",
    "confmat_svm = confusion_matrix(y_true=y_test, y_pred=y_pred_best_svm_test, labels = [1,0])\n",
    "print(confmat_svm)"
   ]
  },
  {
   "cell_type": "code",
   "execution_count": 42,
   "metadata": {},
   "outputs": [
    {
     "name": "stdout",
     "output_type": "stream",
     "text": [
      "Precision (optimized SVM): 0.754\n",
      "Recall (optimized SVM): 0.693\n",
      "F1 (optimized SVM): 0.722\n"
     ]
    }
   ],
   "source": [
    "print('Precision (optimized SVM): %.3f' % precision_score(y_true=y_test, y_pred=y_pred_best_svm_test))\n",
    "print('Recall (optimized SVM): %.3f' % recall_score(y_true=y_test, y_pred=y_pred_best_svm_test))\n",
    "print('F1 (optimized SVM): %.3f' % f1_score(y_true=y_test, y_pred=y_pred_best_svm_test))"
   ]
  },
  {
   "cell_type": "code",
   "execution_count": 43,
   "metadata": {},
   "outputs": [
    {
     "name": "stdout",
     "output_type": "stream",
     "text": [
      "Training accuracy (optimized SVM): 0.802317404996\n",
      "Test accuracy (optimized SVM): 0.733290534275\n"
     ]
    }
   ],
   "source": [
    "print('Training accuracy (optimized SVM):', \n",
    "      accuracy_score(y_true = y_train, y_pred = y_pred_best_svm_train))\n",
    "print('Test accuracy (optimized SVM):', \n",
    "      accuracy_score(y_true = y_test, y_pred = y_pred_best_svm_test))"
   ]
  },
  {
   "cell_type": "code",
   "execution_count": null,
   "metadata": {
    "collapsed": true
   },
   "outputs": [],
   "source": []
  }
 ],
 "metadata": {
  "kernelspec": {
   "display_name": "Python 3",
   "language": "python",
   "name": "python3"
  },
  "language_info": {
   "codemirror_mode": {
    "name": "ipython",
    "version": 3
   },
   "file_extension": ".py",
   "mimetype": "text/x-python",
   "name": "python",
   "nbconvert_exporter": "python",
   "pygments_lexer": "ipython3",
   "version": "3.6.8"
  }
 },
 "nbformat": 4,
 "nbformat_minor": 2
}
