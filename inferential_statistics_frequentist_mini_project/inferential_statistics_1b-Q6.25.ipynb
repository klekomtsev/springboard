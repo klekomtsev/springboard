{
 "cells": [
  {
   "cell_type": "markdown",
   "metadata": {},
   "source": [
    "# Inferential Statistics Ib - Frequentism"
   ]
  },
  {
   "cell_type": "markdown",
   "metadata": {},
   "source": [
    "## Learning objectives"
   ]
  },
  {
   "cell_type": "markdown",
   "metadata": {},
   "source": [
    "Welcome to the second Frequentist inference mini-project! Over the course of working on this mini-project and the previous frequentist mini-project, you'll learn the fundamental concepts associated with frequentist inference. The following list includes the topics you will become familiar with as you work through these two mini-projects:\n",
    "* the _z_-statistic\n",
    "* the _t_-statistic\n",
    "* the difference and relationship between the two\n",
    "* the Central Limit Theorem, its assumptions and consequences\n",
    "* how to estimate the population mean and standard deviation from a sample\n",
    "* the concept of a sampling distribution of a test statistic, particularly for the mean\n",
    "* how to combine these concepts to calculate confidence intervals and p-values\n",
    "* how those confidence intervals and p-values allow you to perform hypothesis (or A/B) tests"
   ]
  },
  {
   "cell_type": "markdown",
   "metadata": {},
   "source": [
    "## Prerequisites"
   ]
  },
  {
   "cell_type": "markdown",
   "metadata": {},
   "source": [
    "* what a random variable is\n",
    "* what a probability density function (pdf) is\n",
    "* what the cumulative density function is\n",
    "* a high-level sense of what the Normal distribution\n",
    "\n",
    "If these concepts are new to you, please take a few moments to Google these topics in order to get a sense of what they are and how you might use them.\n",
    "\n",
    "These two notebooks were designed to bridge the gap between having a basic understanding of probability and random variables and being able to apply these concepts in Python. This second frequentist inference mini-project focuses on a real-world application of this type of inference to give you further practice using these concepts. "
   ]
  },
  {
   "cell_type": "markdown",
   "metadata": {},
   "source": [
    "In the previous notebook, we used only data from a known normal distribution. You'll now tackle real data, rather than simulated data, and answer some relevant real-world business problems using the data."
   ]
  },
  {
   "cell_type": "markdown",
   "metadata": {},
   "source": [
    "## Hospital medical charges"
   ]
  },
  {
   "cell_type": "markdown",
   "metadata": {},
   "source": [
    "Imagine that a hospital has hired you as their data analyst. An administrator is working on the hospital's business operations plan and needs you to help them answer some business questions. This mini-project, as well as the bootstrap and Bayesian inference mini-projects also found in this unit are designed to illustrate how each of the inferential statistics methods have their uses for different use cases. In this assignment notebook, you're going to use frequentist statistical inference on a data sample to answer the questions:\n",
    "* has the hospital's revenue stream fallen below a key threshold?\n",
    "* are patients with insurance really charged different amounts than those without?\n",
    "Answering that last question with a frequentist approach makes some assumptions, or requires some knowledge, about the two groups. In the next mini-project, you'll use bootstrapping to test that assumption. And in the final mini-project of the unit, you're going to create a model for simulating _individual_ charges (not a sampling distribution) that the hospital can use to model a range of scenarios."
   ]
  },
  {
   "cell_type": "markdown",
   "metadata": {},
   "source": [
    "We are going to use some data on medical charges obtained from [Kaggle](https://www.kaggle.com/easonlai/sample-insurance-claim-prediction-dataset). For the purposes of this exercise, assume the observations are the result of random sampling from our one hospital. Recall in the previous assignment, we introduced the Central Limit Theorem (CLT), and how it tells us that the distributions of sample statistics approach a normal distribution as $n$ increases. The amazing thing about this is that it applies to the sampling distributions of statistics that have been calculated from even highly non-normal distributions of data. Remember, also, that hypothesis testing is very much based on making inferences about such sample statistics. You're going to rely heavily on the CLT to apply frequentist (parametric) tests to answer the questions in this notebook."
   ]
  },
  {
   "cell_type": "code",
   "execution_count": 184,
   "metadata": {},
   "outputs": [],
   "source": [
    "import pandas as pd\n",
    "import numpy as np\n",
    "import matplotlib.pyplot as plt\n",
    "from scipy.stats import t\n",
    "from numpy.random import seed\n",
    "import seaborn as sns\n",
    "import math\n",
    "from scipy.stats import norm\n",
    "from scipy.stats import ttest_ind\n",
    "medical = pd.read_csv('data/insurance2.csv')"
   ]
  },
  {
   "cell_type": "code",
   "execution_count": 185,
   "metadata": {},
   "outputs": [
    {
     "data": {
      "text/plain": [
       "(1338, 8)"
      ]
     },
     "execution_count": 185,
     "metadata": {},
     "output_type": "execute_result"
    }
   ],
   "source": [
    "medical.shape"
   ]
  },
  {
   "cell_type": "code",
   "execution_count": 186,
   "metadata": {},
   "outputs": [
    {
     "data": {
      "text/html": [
       "<div>\n",
       "<style>\n",
       "    .dataframe thead tr:only-child th {\n",
       "        text-align: right;\n",
       "    }\n",
       "\n",
       "    .dataframe thead th {\n",
       "        text-align: left;\n",
       "    }\n",
       "\n",
       "    .dataframe tbody tr th {\n",
       "        vertical-align: top;\n",
       "    }\n",
       "</style>\n",
       "<table border=\"1\" class=\"dataframe\">\n",
       "  <thead>\n",
       "    <tr style=\"text-align: right;\">\n",
       "      <th></th>\n",
       "      <th>age</th>\n",
       "      <th>sex</th>\n",
       "      <th>bmi</th>\n",
       "      <th>children</th>\n",
       "      <th>smoker</th>\n",
       "      <th>region</th>\n",
       "      <th>charges</th>\n",
       "      <th>insuranceclaim</th>\n",
       "    </tr>\n",
       "  </thead>\n",
       "  <tbody>\n",
       "    <tr>\n",
       "      <th>0</th>\n",
       "      <td>19</td>\n",
       "      <td>0</td>\n",
       "      <td>27.900</td>\n",
       "      <td>0</td>\n",
       "      <td>1</td>\n",
       "      <td>3</td>\n",
       "      <td>16884.92400</td>\n",
       "      <td>1</td>\n",
       "    </tr>\n",
       "    <tr>\n",
       "      <th>1</th>\n",
       "      <td>18</td>\n",
       "      <td>1</td>\n",
       "      <td>33.770</td>\n",
       "      <td>1</td>\n",
       "      <td>0</td>\n",
       "      <td>2</td>\n",
       "      <td>1725.55230</td>\n",
       "      <td>1</td>\n",
       "    </tr>\n",
       "    <tr>\n",
       "      <th>2</th>\n",
       "      <td>28</td>\n",
       "      <td>1</td>\n",
       "      <td>33.000</td>\n",
       "      <td>3</td>\n",
       "      <td>0</td>\n",
       "      <td>2</td>\n",
       "      <td>4449.46200</td>\n",
       "      <td>0</td>\n",
       "    </tr>\n",
       "    <tr>\n",
       "      <th>3</th>\n",
       "      <td>33</td>\n",
       "      <td>1</td>\n",
       "      <td>22.705</td>\n",
       "      <td>0</td>\n",
       "      <td>0</td>\n",
       "      <td>1</td>\n",
       "      <td>21984.47061</td>\n",
       "      <td>0</td>\n",
       "    </tr>\n",
       "    <tr>\n",
       "      <th>4</th>\n",
       "      <td>32</td>\n",
       "      <td>1</td>\n",
       "      <td>28.880</td>\n",
       "      <td>0</td>\n",
       "      <td>0</td>\n",
       "      <td>1</td>\n",
       "      <td>3866.85520</td>\n",
       "      <td>1</td>\n",
       "    </tr>\n",
       "  </tbody>\n",
       "</table>\n",
       "</div>"
      ],
      "text/plain": [
       "   age  sex     bmi  children  smoker  region      charges  insuranceclaim\n",
       "0   19    0  27.900         0       1       3  16884.92400               1\n",
       "1   18    1  33.770         1       0       2   1725.55230               1\n",
       "2   28    1  33.000         3       0       2   4449.46200               0\n",
       "3   33    1  22.705         0       0       1  21984.47061               0\n",
       "4   32    1  28.880         0       0       1   3866.85520               1"
      ]
     },
     "execution_count": 186,
     "metadata": {},
     "output_type": "execute_result"
    }
   ],
   "source": [
    "medical.head()"
   ]
  },
  {
   "cell_type": "markdown",
   "metadata": {},
   "source": [
    "__Q:__ Plot the histogram of charges and calculate the mean and standard deviation. Comment on the appropriateness of these statistics for the data."
   ]
  },
  {
   "cell_type": "markdown",
   "metadata": {},
   "source": [
    "__A:__ The distribution of charges is skewed to the right, so the mean statistic is not very representative of the majority of data. Standard deviation is good statistic if the distribution is close to a bell shape, which is not the case here."
   ]
  },
  {
   "cell_type": "code",
   "execution_count": 187,
   "metadata": {},
   "outputs": [
    {
     "data": {
      "image/png": "[encoded data removed]",
      "text/plain": [
       "<Figure size 432x288 with 1 Axes>"
      ]
     },
     "metadata": {},
     "output_type": "display_data"
    }
   ],
   "source": [
    "g = sns.distplot(medical['charges'], bins=int(np.sqrt(len(medical))), kde=False)\n",
    "g.set(xlabel='medical charges', ylabel='counts of charges')\n",
    "plt.show()"
   ]
  },
  {
   "cell_type": "code",
   "execution_count": 188,
   "metadata": {},
   "outputs": [
    {
     "name": "stdout",
     "output_type": "stream",
     "text": [
      "Medical charges mean is 13270.4222651 and standard deviation is 12105.4849756\n"
     ]
    }
   ],
   "source": [
    "charges = medical['charges']\n",
    "charges_mean = np.mean(charges)\n",
    "charges_std = np.std(charges)\n",
    "\n",
    "print('Medical charges mean is %s and standard deviation is %s' %(charges_mean, charges_std))"
   ]
  },
  {
   "cell_type": "markdown",
   "metadata": {},
   "source": [
    "__Q:__ The administrator is concerned that the actual average charge has fallen below 12000, threatening the hospital's operational model. On the assumption that these data represent a random sample of charges, how would you justify that these data allow you to answer that question? And what would be the most appropriate frequentist test, of the ones discussed so far, to apply?"
   ]
  },
  {
   "cell_type": "markdown",
   "metadata": {},
   "source": [
    "__A:__ \n",
    "\n",
    "By choosing random samples of data and repeating this \"experiment\" multiple times, we can obtain a histogram of means that follows roughly a normal distribution according to CLT. After that we can calculate a probability of observing mean charge to be less than 12000. We can also calculate 95% confidence interval which will show the range of expected average charges, correspdonding to 95% confidence level. \n",
    "\n",
    "The probability of observing 12000 or less: 0.210963797593"
   ]
  },
  {
   "cell_type": "markdown",
   "metadata": {},
   "source": [
    "__Q:__ Given the nature of the administrator's concern, what is the appropriate confidence interval in this case? A one-sided or two-sided interval? Calculate the critical value and the relevant 95% confidence interval for the mean and comment on whether the administrator should be concerned?"
   ]
  },
  {
   "cell_type": "markdown",
   "metadata": {},
   "source": [
    "__A:__\n",
    "\n",
    "95% confidence interval using z-score and two tail test: [9981.13616312,16821.6756221], z_score = 1.96\n",
    "\n",
    "95% confidence interval using z-score and two tail test: [9094.373847,16271.7339894], z_score = 1.645\n",
    "\n",
    "Considering the above 95% confidence intervals and the probability of average charge being less than 12000 we can conclude that at this point of time and for a given dataset the administrator should not be concerned as probablity of this event is relatively small."
   ]
  },
  {
   "cell_type": "code",
   "execution_count": 189,
   "metadata": {},
   "outputs": [
    {
     "data": {
      "image/png": "[encoded data removed]",
      "text/plain": [
       "<Figure size 432x288 with 1 Axes>"
      ]
     },
     "metadata": {},
     "output_type": "display_data"
    }
   ],
   "source": [
    "def charges_sampler(n):\n",
    "    return np.random.choice(charges, n, replace = True)\n",
    "\n",
    "def sampling(n_samples, experiment_length):\n",
    "    # Seed random number generator\n",
    "    seed(47) \n",
    "    \n",
    "    # Initialize the numpy array of sample_means\n",
    "    sample_means = np.empty(experiment_length)\n",
    "\n",
    "    # Repeat mean measurement with a sample of n_samples 365 times\n",
    "    for i in range(experiment_length):\n",
    "        sample_means[i] = np.mean(charges_sampler(n_samples))\n",
    "    return sample_means\n",
    "\n",
    "samples = sampling(50, 300)\n",
    "\n",
    "# Plot the histogram of mean charges\n",
    "_ = plt.hist(samples, bins = int(math.sqrt(len(samples))), density=True)\n",
    "_ = plt.xlabel('mean charges')\n",
    "_ = plt.ylabel('probability')\n",
    "_ = plt.title('Sampling distribution of means. 50 samples per experiment')\n",
    "\n",
    "# Show the plot\n",
    "plt.show()"
   ]
  },
  {
   "cell_type": "code",
   "execution_count": 190,
   "metadata": {},
   "outputs": [
    {
     "name": "stdout",
     "output_type": "stream",
     "text": [
      "The distribution mean for 50 samples and 300 experiemnts is: 13401.4058926\n"
     ]
    }
   ],
   "source": [
    "distr_mean = np.mean(samples)\n",
    "print('The distribution mean for 50 samples and 300 experiemnts is: ' + str(distr_mean))"
   ]
  },
  {
   "cell_type": "code",
   "execution_count": 191,
   "metadata": {},
   "outputs": [
    {
     "name": "stdout",
     "output_type": "stream",
     "text": [
      "The distribution std for 50 samples and 300 experiments is: 1745.03557628\n"
     ]
    }
   ],
   "source": [
    "distr_std = np.std(samples)\n",
    "print('The distribution std for 50 samples and 300 experiments is: ' + str(distr_std))"
   ]
  },
  {
   "cell_type": "code",
   "execution_count": 192,
   "metadata": {},
   "outputs": [
    {
     "name": "stdout",
     "output_type": "stream",
     "text": [
      "-0.803081559867 standard deviations from the mean: \n"
     ]
    }
   ],
   "source": [
    "# In order to calculate probability of mean charge being less than 12000\n",
    "# First how many standard deviations is the value 12000 from the calculated mean\n",
    "target_mean = 12000.0\n",
    "num_of_std = (target_mean - distr_mean)/distr_std\n",
    "print('%s standard deviations from the mean: ' %num_of_std)"
   ]
  },
  {
   "cell_type": "code",
   "execution_count": 193,
   "metadata": {},
   "outputs": [
    {
     "name": "stdout",
     "output_type": "stream",
     "text": [
      "The probability of observing 12000 or less: 0.210963797593\n"
     ]
    }
   ],
   "source": [
    "print('The probability of observing 12000 or less: ' + str(norm.cdf(num_of_std, loc=0, scale=1)))"
   ]
  },
  {
   "cell_type": "code",
   "execution_count": 194,
   "metadata": {},
   "outputs": [
    {
     "name": "stdout",
     "output_type": "stream",
     "text": [
      "95% confidence interval using z-score and two tail test: [9981.13616312,16821.6756221]\n",
      "95% confidence interval using z-score and two tail test: [9094.373847,16271.7339894]\n"
     ]
    }
   ],
   "source": [
    "# 95% confidence interval using z_score and two tail test\n",
    "conf_interval_left = distr_mean - distr_std*1.96\n",
    "conf_interval_right = distr_mean + distr_std*1.96\n",
    "print('95% confidence interval using z-score and two tail test: ' + '[' + str(conf_interval_left) + ',' \n",
    "      + str(conf_interval_right) + ']')\n",
    "\n",
    "# 95% confidence interval using z_score and one tail test\n",
    "conf_interval_left = min(samples)\n",
    "conf_interval_right = distr_mean + distr_std*norm.ppf(0.95, loc=0, scale=1)\n",
    "print('95% confidence interval using z-score and two tail test: ' + '[' + str(conf_interval_left) + ',' \n",
    "      + str(conf_interval_right) + ']')"
   ]
  },
  {
   "cell_type": "markdown",
   "metadata": {},
   "source": [
    "The administrator then wants to know whether people with insurance really are charged a different amount to those without.\n",
    "\n",
    "__Q:__ State the null and alternative hypothesis here. Use the _t_-test for the difference between means where the pooled standard deviation of the two groups is given by\n",
    "\\begin{equation}\n",
    "s_p = \\sqrt{\\frac{(n_0 - 1)s^2_0 + (n_1 - 1)s^2_1}{n_0 + n_1 - 2}}\n",
    "\\end{equation}\n",
    "\n",
    "and the *t* test statistic is then given by\n",
    "\n",
    "\\begin{equation}\n",
    "t = \\frac{\\bar{x}_0 - \\bar{x}_1}{s_p \\sqrt{1/n_0 + 1/n_1}}.\n",
    "\\end{equation}\n",
    "\n",
    "What assumption about the variances of the two groups are we making here?"
   ]
  },
  {
   "cell_type": "markdown",
   "metadata": {},
   "source": [
    "__A:__\n",
    "\n",
    "The equal variance (pooled) t-test is used when the number of samples in each group is the same, or the variance of the two data sets is similar."
   ]
  },
  {
   "cell_type": "markdown",
   "metadata": {},
   "source": [
    "__Q:__ Perform this hypothesis test both manually, using the above formulae, and then using the appropriate function from [scipy.stats](https://docs.scipy.org/doc/scipy/reference/stats.html#statistical-tests) (hint, you're looking for a function to perform a _t_-test on two independent samples). For the manual approach, calculate the value of the test statistic and then its probability (the p-value). Verify you get the same results from both."
   ]
  },
  {
   "cell_type": "markdown",
   "metadata": {},
   "source": [
    "__A:__ \n",
    "\n",
    "For 100 experiments and 30 samples per experiment.\n",
    "\n",
    "The statistic calculated by hand: 26.1510553657, the p value calculated by hand: 0.0\n",
    "\n",
    "Ttest_indResult(statistic = 26.01997155591885, \n",
    "                pvalue = 8.2656579908622323e-66)"
   ]
  },
  {
   "cell_type": "code",
   "execution_count": 195,
   "metadata": {},
   "outputs": [],
   "source": [
    "charges_no_insurance = medical.loc[medical['insuranceclaim'] == 0]['charges']\n",
    "charges_insurance = medical.loc[medical['insuranceclaim'] == 1]['charges']"
   ]
  },
  {
   "cell_type": "code",
   "execution_count": 196,
   "metadata": {
    "collapsed": true
   },
   "outputs": [],
   "source": [
    "def charges_sampler_by_cat(n, series):\n",
    "    return np.random.choice(series, n, replace = True)\n",
    "\n",
    "def sampling_by_cat(n_samples, experiment_length, series):\n",
    "    # Seed random number generator\n",
    "    seed(47) \n",
    "    \n",
    "    # Initialize the numpy array of sample_means\n",
    "    sample_means = np.empty(experiment_length)\n",
    "\n",
    "    # Repeat mean measurement with a sample of n_samples 365 times\n",
    "    for i in range(experiment_length):\n",
    "        sample_means[i] = np.mean(charges_sampler_by_cat(n_samples, series))\n",
    "    return sample_means"
   ]
  },
  {
   "cell_type": "code",
   "execution_count": 197,
   "metadata": {},
   "outputs": [
    {
     "data": {
      "image/png": "[encoded data removed]",
      "text/plain": [
       "<Figure size 432x288 with 1 Axes>"
      ]
     },
     "metadata": {},
     "output_type": "display_data"
    }
   ],
   "source": [
    "samples_no_insurance = sampling_by_cat(30, 100, charges_no_insurance)\n",
    "\n",
    "# Plot the histogram of mean charges without insurance\n",
    "_ = plt.hist(samples_no_insurance, \n",
    "             bins = int(math.sqrt(len(samples_no_insurance))), \n",
    "             density=False)\n",
    "_ = plt.xlabel('mean charges')\n",
    "_ = plt.ylabel('counts of charges')\n",
    "_ = plt.title('Sampling distribution of means, without insurance. 30 samples per experiment')\n",
    "\n",
    "# Show the plot\n",
    "plt.show()"
   ]
  },
  {
   "cell_type": "code",
   "execution_count": 198,
   "metadata": {},
   "outputs": [
    {
     "name": "stdout",
     "output_type": "stream",
     "text": [
      "Without insurance, the distribution mean for 30 samples and 100 experiemnts is: 8766.59348813\n",
      "Witout insurance, the distribution std for 30 samples and 100 experiments is: 1226.60042297\n"
     ]
    }
   ],
   "source": [
    "distr_mean_no_insurance = np.mean(samples_no_insurance)\n",
    "distr_std_no_insurance = np.std(samples_no_insurance)\n",
    "\n",
    "print('Without insurance, the distribution mean for 30 samples and 100 experiemnts is: ' + \n",
    "      str(distr_mean_no_insurance))\n",
    "print('Witout insurance, the distribution std for 30 samples and 100 experiments is: ' + \n",
    "      str(distr_std_no_insurance))"
   ]
  },
  {
   "cell_type": "code",
   "execution_count": 199,
   "metadata": {},
   "outputs": [
    {
     "data": {
      "image/png": "[encoded data removed]",
      "text/plain": [
       "<Figure size 432x288 with 1 Axes>"
      ]
     },
     "metadata": {},
     "output_type": "display_data"
    }
   ],
   "source": [
    "samples_insurance = sampling_by_cat(30, 100, charges_insurance)\n",
    "\n",
    "# Plot the histogram of mean charges with insurance\n",
    "_ = plt.hist(samples_insurance, \n",
    "             bins = int(math.sqrt(len(samples_insurance))), \n",
    "             density=False)\n",
    "_ = plt.xlabel('mean charges')\n",
    "_ = plt.ylabel('counts of charges')\n",
    "_ = plt.title('Sampling distribution of means, with insurance. 30 samples per experiment')\n",
    "\n",
    "# Show the plot\n",
    "plt.show()"
   ]
  },
  {
   "cell_type": "code",
   "execution_count": 200,
   "metadata": {},
   "outputs": [
    {
     "name": "stdout",
     "output_type": "stream",
     "text": [
      "With insurance, the distribution mean for 30 samples and 100 experiemnts is: 16586.1566259\n",
      "With insurance, the distribution std for 30 samples and 100 experiments is: 2726.98745602\n"
     ]
    }
   ],
   "source": [
    "distr_mean_insurance = np.mean(samples_insurance)\n",
    "distr_std_insurance = np.std(samples_insurance)\n",
    "\n",
    "print('With insurance, the distribution mean for 30 samples and 100 experiemnts is: ' + \n",
    "      str(distr_mean_insurance))\n",
    "print('With insurance, the distribution std for 30 samples and 100 experiments is: ' + \n",
    "      str(distr_std_insurance))"
   ]
  },
  {
   "cell_type": "code",
   "execution_count": 201,
   "metadata": {},
   "outputs": [
    {
     "name": "stdout",
     "output_type": "stream",
     "text": [
      "The statistic calculated by hand: 26.1510553657\n",
      "The p value calculated by hand: 0.0\n"
     ]
    }
   ],
   "source": [
    "pooled_std = math.sqrt(((len(samples_insurance)-1)*distr_std_insurance**2 +\n",
    "                       (len(samples_no_insurance)-1)*distr_std_no_insurance**2)\n",
    "                       /(len(samples_insurance) + len(samples_no_insurance) - 2))\n",
    "\n",
    "t_score = (distr_mean_insurance - \n",
    "           distr_mean_no_insurance)/(pooled_std * \n",
    "                                     math.sqrt((1/len(samples_insurance)) + \n",
    "                                               (1/len(samples_no_insurance))))\n",
    "print('The statistic calculated by hand: ' + str(t_score))\n",
    "print('The p value calculated by hand: ' + \n",
    "      str(1 - t.cdf(t_score, 198, loc=0, scale=1)))"
   ]
  },
  {
   "cell_type": "code",
   "execution_count": 202,
   "metadata": {},
   "outputs": [
    {
     "data": {
      "text/plain": [
       "Ttest_indResult(statistic=26.01997155591885, pvalue=8.2656579908622323e-66)"
      ]
     },
     "execution_count": 202,
     "metadata": {},
     "output_type": "execute_result"
    }
   ],
   "source": [
    "ttest_ind(samples_insurance,samples_no_insurance)"
   ]
  },
  {
   "cell_type": "markdown",
   "metadata": {},
   "source": [
    "Congratulations! Hopefully you got the exact same numerical results. This shows that you correctly calculated the numbers by hand. Secondly, you used the correct function and saw that it's much easier to use. All you need to do pass your data to it."
   ]
  },
  {
   "cell_type": "markdown",
   "metadata": {},
   "source": [
    "__Q:__ In the above calculations, we assumed the sample variances were equal. We may well suspect they are not (we'll explore this in another assignment). The calculation becomes a little more complicated to do by hand in this case, but we now know of a helpful function. Check the documentation for the function to tell it not to assume equal variances and perform the test again."
   ]
  },
  {
   "cell_type": "markdown",
   "metadata": {},
   "source": [
    "__A:__ we can set paramater equal_var to False"
   ]
  },
  {
   "cell_type": "code",
   "execution_count": 203,
   "metadata": {},
   "outputs": [
    {
     "data": {
      "text/plain": [
       "Ttest_indResult(statistic=26.01997155591885, pvalue=5.7268902367726103e-55)"
      ]
     },
     "execution_count": 203,
     "metadata": {},
     "output_type": "execute_result"
    }
   ],
   "source": [
    "ttest_ind(samples_insurance,samples_no_insurance, equal_var = False)"
   ]
  },
  {
   "cell_type": "markdown",
   "metadata": {},
   "source": [
    "__Q:__ Conceptual question: look through the documentation for statistical test functions in scipy.stats. You'll see the above _t_-test for a sample, but can you see an equivalent one for performing a *z*-test from a sample? Comment on your answer."
   ]
  },
  {
   "cell_type": "markdown",
   "metadata": {},
   "source": [
    "__A:__ \n",
    "\n",
    "statsmodels.stats.weightstats.CompareMeans.ztest_ind -> for distributions with different stadandard deviations\n",
    "\n",
    "statsmodels.stats.weightstats.ztest -> for distributions that are independent and have the same standard deviation"
   ]
  },
  {
   "cell_type": "markdown",
   "metadata": {},
   "source": [
    "## Learning outcomes"
   ]
  },
  {
   "cell_type": "markdown",
   "metadata": {},
   "source": [
    "Having completed this project notebook, you now have good hands-on experience:\n",
    "* using the central limit theorem to help you apply frequentist techniques to answer questions that pertain to very non-normally distributed data from the real world\n",
    "* performing inference using such data to answer business questions\n",
    "* forming a hypothesis and framing the null and alternative hypotheses\n",
    "* testing this using a _t_-test"
   ]
  }
 ],
 "metadata": {
  "kernelspec": {
   "display_name": "Python 3",
   "language": "python",
   "name": "python3"
  },
  "language_info": {
   "codemirror_mode": {
    "name": "ipython",
    "version": 3
   },
   "file_extension": ".py",
   "mimetype": "text/x-python",
   "name": "python",
   "nbconvert_exporter": "python",
   "pygments_lexer": "ipython3",
   "version": "3.6.8"
  }
 },
 "nbformat": 4,
 "nbformat_minor": 2
}
