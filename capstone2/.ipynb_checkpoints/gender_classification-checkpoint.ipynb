{
 "cells": [
  {
   "cell_type": "code",
   "execution_count": 1,
   "metadata": {},
   "outputs": [],
   "source": [
    "import pandas as pd\n",
    "import numpy as np\n",
    "import matplotlib.pyplot as plt\n",
    "%matplotlib inline\n",
    "\n",
    "# Load dataset\n",
    "names = pd.read_csv('names.csv')\n",
    "names['Name'] = names['Name'].str.lower()\n",
    "names['Name'] = names['Name'].str.strip()\n",
    "names['FirstLetter'] = names['FirstLetter'].str.lower()"
   ]
  },
  {
   "cell_type": "code",
   "execution_count": 2,
   "metadata": {},
   "outputs": [
    {
     "data": {
      "text/html": [
       "<div>\n",
       "<style scoped>\n",
       "    .dataframe tbody tr th:only-of-type {\n",
       "        vertical-align: middle;\n",
       "    }\n",
       "\n",
       "    .dataframe tbody tr th {\n",
       "        vertical-align: top;\n",
       "    }\n",
       "\n",
       "    .dataframe thead th {\n",
       "        text-align: right;\n",
       "    }\n",
       "</style>\n",
       "<table border=\"1\" class=\"dataframe\">\n",
       "  <thead>\n",
       "    <tr style=\"text-align: right;\">\n",
       "      <th></th>\n",
       "      <th>Name</th>\n",
       "      <th>Gender</th>\n",
       "      <th>LastLetter</th>\n",
       "      <th>LastTwoLetter</th>\n",
       "      <th>FirstLetter</th>\n",
       "    </tr>\n",
       "  </thead>\n",
       "  <tbody>\n",
       "    <tr>\n",
       "      <th>0</th>\n",
       "      <td>ashutosh</td>\n",
       "      <td>1</td>\n",
       "      <td>h</td>\n",
       "      <td>sh</td>\n",
       "      <td>a</td>\n",
       "    </tr>\n",
       "    <tr>\n",
       "      <th>1</th>\n",
       "      <td>meghamala</td>\n",
       "      <td>2</td>\n",
       "      <td>a</td>\n",
       "      <td>la</td>\n",
       "      <td>m</td>\n",
       "    </tr>\n",
       "    <tr>\n",
       "      <th>2</th>\n",
       "      <td>sahib</td>\n",
       "      <td>1</td>\n",
       "      <td>b</td>\n",
       "      <td>ib</td>\n",
       "      <td>s</td>\n",
       "    </tr>\n",
       "    <tr>\n",
       "      <th>3</th>\n",
       "      <td>pragya</td>\n",
       "      <td>2</td>\n",
       "      <td>a</td>\n",
       "      <td>ya</td>\n",
       "      <td>p</td>\n",
       "    </tr>\n",
       "    <tr>\n",
       "      <th>4</th>\n",
       "      <td>kranti</td>\n",
       "      <td>2</td>\n",
       "      <td>i</td>\n",
       "      <td>ti</td>\n",
       "      <td>k</td>\n",
       "    </tr>\n",
       "  </tbody>\n",
       "</table>\n",
       "</div>"
      ],
      "text/plain": [
       "        Name  Gender LastLetter LastTwoLetter FirstLetter\n",
       "0   ashutosh       1          h            sh           a\n",
       "1  meghamala       2          a            la           m\n",
       "2      sahib       1          b            ib           s\n",
       "3     pragya       2          a            ya           p\n",
       "4     kranti       2          i            ti           k"
      ]
     },
     "execution_count": 2,
     "metadata": {},
     "output_type": "execute_result"
    }
   ],
   "source": [
    "names.head(5)"
   ]
  },
  {
   "cell_type": "markdown",
   "metadata": {},
   "source": [
    "# Naive Bayes on the last letter"
   ]
  },
  {
   "cell_type": "code",
   "execution_count": 3,
   "metadata": {},
   "outputs": [],
   "source": [
    "from sklearn.preprocessing import OneHotEncoder\n",
    "\n",
    "last_letter = names.LastLetter.values\n",
    "encoder = OneHotEncoder()\n",
    "last_letter_encoded = encoder.fit_transform(last_letter.reshape(-1, 1)).toarray()"
   ]
  },
  {
   "cell_type": "code",
   "execution_count": 4,
   "metadata": {},
   "outputs": [
    {
     "data": {
      "text/plain": [
       "array([[0., 0., 0., ..., 0., 0., 0.],\n",
       "       [1., 0., 0., ..., 0., 0., 0.],\n",
       "       [0., 1., 0., ..., 0., 0., 0.],\n",
       "       ...,\n",
       "       [0., 0., 0., ..., 0., 0., 0.],\n",
       "       [0., 0., 0., ..., 0., 0., 0.],\n",
       "       [1., 0., 0., ..., 0., 0., 0.]])"
      ]
     },
     "execution_count": 4,
     "metadata": {},
     "output_type": "execute_result"
    }
   ],
   "source": [
    "last_letter_encoded"
   ]
  },
  {
   "cell_type": "code",
   "execution_count": 5,
   "metadata": {},
   "outputs": [
    {
     "data": {
      "text/plain": [
       "(5027, 23)"
      ]
     },
     "execution_count": 5,
     "metadata": {},
     "output_type": "execute_result"
    }
   ],
   "source": [
    "np.shape(last_letter_encoded)"
   ]
  },
  {
   "cell_type": "code",
   "execution_count": 6,
   "metadata": {},
   "outputs": [],
   "source": [
    "labels = names.Gender.values"
   ]
  },
  {
   "cell_type": "code",
   "execution_count": 7,
   "metadata": {},
   "outputs": [
    {
     "data": {
      "text/plain": [
       "array([1, 2, 1, ..., 2, 2, 2])"
      ]
     },
     "execution_count": 7,
     "metadata": {},
     "output_type": "execute_result"
    }
   ],
   "source": [
    "labels"
   ]
  },
  {
   "cell_type": "code",
   "execution_count": 8,
   "metadata": {},
   "outputs": [
    {
     "data": {
      "text/plain": [
       "(5027,)"
      ]
     },
     "execution_count": 8,
     "metadata": {},
     "output_type": "execute_result"
    }
   ],
   "source": [
    "np.shape(labels)"
   ]
  },
  {
   "cell_type": "code",
   "execution_count": 9,
   "metadata": {},
   "outputs": [
    {
     "name": "stdout",
     "output_type": "stream",
     "text": [
      "The mean accuracy on the given train data and labels = 0.8135304150085275\n",
      "The mean accuracy on the given test data and labels = 0.8349900596421471\n",
      "Precision: 0.901\n",
      "Recall: 0.773\n",
      "F1: 0.832\n"
     ]
    }
   ],
   "source": [
    "from sklearn.naive_bayes import MultinomialNB\n",
    "from sklearn.model_selection import train_test_split\n",
    "from sklearn.metrics import precision_score, recall_score, f1_score\n",
    "\n",
    "# Split the data into a training and test set.\n",
    "X_train, X_test, y_train, y_test = train_test_split(last_letter_encoded, \n",
    "                                                    labels, \n",
    "                                                    test_size = 0.3,\n",
    "                                                    stratify = labels)\n",
    "\n",
    "nb_clf = MultinomialNB()\n",
    "\n",
    "# Fit the model on the trainng data.\n",
    "nb_clf.fit(X_train, y_train)\n",
    "\n",
    "# Print the accuracy from the training data.\n",
    "print('The mean accuracy on the given train data and labels = ' + \n",
    "      str(nb_clf.score(X_train, y_train)))\n",
    "\n",
    "# Print the accuracy from the testing data.\n",
    "print('The mean accuracy on the given test data and labels = ' + \n",
    "      str(nb_clf.score(X_test, y_test)))\n",
    "\n",
    "print('Precision: %.3f' % precision_score(y_true=y_test, \n",
    "                                          y_pred=nb_clf.predict(X_test)))\n",
    "print('Recall: %.3f' % recall_score(y_true=y_test, \n",
    "                                    y_pred=nb_clf.predict(X_test)))\n",
    "print('F1: %.3f' % f1_score(y_true=y_test, \n",
    "                            y_pred=nb_clf.predict(X_test)))"
   ]
  },
  {
   "cell_type": "markdown",
   "metadata": {},
   "source": [
    "# Naive Bayes on the last two letters"
   ]
  },
  {
   "cell_type": "code",
   "execution_count": 10,
   "metadata": {},
   "outputs": [],
   "source": [
    "last_two_letters = names.LastTwoLetter.values\n",
    "last_two_letters_enc = encoder.fit_transform(last_two_letters.reshape(-1, 1)).toarray()"
   ]
  },
  {
   "cell_type": "code",
   "execution_count": 11,
   "metadata": {},
   "outputs": [
    {
     "data": {
      "text/plain": [
       "array([[0., 0., 0., ..., 0., 0., 0.],\n",
       "       [0., 0., 0., ..., 0., 0., 0.],\n",
       "       [0., 0., 0., ..., 0., 0., 0.],\n",
       "       ...,\n",
       "       [0., 0., 0., ..., 0., 0., 0.],\n",
       "       [0., 0., 0., ..., 0., 0., 0.],\n",
       "       [0., 0., 0., ..., 0., 0., 0.]])"
      ]
     },
     "execution_count": 11,
     "metadata": {},
     "output_type": "execute_result"
    }
   ],
   "source": [
    "last_two_letters_enc"
   ]
  },
  {
   "cell_type": "code",
   "execution_count": 12,
   "metadata": {},
   "outputs": [
    {
     "data": {
      "text/plain": [
       "(5027, 172)"
      ]
     },
     "execution_count": 12,
     "metadata": {},
     "output_type": "execute_result"
    }
   ],
   "source": [
    "np.shape(last_two_letters_enc)"
   ]
  },
  {
   "cell_type": "code",
   "execution_count": 13,
   "metadata": {},
   "outputs": [
    {
     "name": "stdout",
     "output_type": "stream",
     "text": [
      "The mean accuracy on the given train data and labels = 0.8339965889710063\n",
      "The mean accuracy on the given test data and labels = 0.8349900596421471\n",
      "Precision: 0.880\n",
      "Recall: 0.797\n",
      "F1: 0.837\n"
     ]
    }
   ],
   "source": [
    "# Split the data into a training and test set.\n",
    "X_train, X_test, y_train, y_test = train_test_split(last_two_letters_enc, \n",
    "                                                    labels, \n",
    "                                                    test_size = 0.3,\n",
    "                                                    stratify = labels)\n",
    "\n",
    "# Fit the model on the trainng data.\n",
    "nb_clf.fit(X_train, y_train)\n",
    "\n",
    "# Print the accuracy from the training data.\n",
    "print('The mean accuracy on the given train data and labels = ' + \n",
    "      str(nb_clf.score(X_train, y_train)))\n",
    "\n",
    "# Print the accuracy from the testing data.\n",
    "print('The mean accuracy on the given test data and labels = ' + \n",
    "      str(nb_clf.score(X_test, y_test)))\n",
    "\n",
    "print('Precision: %.3f' % precision_score(y_true=y_test, \n",
    "                                          y_pred=nb_clf.predict(X_test)))\n",
    "print('Recall: %.3f' % recall_score(y_true=y_test, \n",
    "                                    y_pred=nb_clf.predict(X_test)))\n",
    "print('F1: %.3f' % f1_score(y_true=y_test, \n",
    "                            y_pred=nb_clf.predict(X_test)))"
   ]
  },
  {
   "cell_type": "markdown",
   "metadata": {},
   "source": [
    "# Naive Bayes on the first letter"
   ]
  },
  {
   "cell_type": "code",
   "execution_count": 14,
   "metadata": {},
   "outputs": [],
   "source": [
    "first_letter = names.FirstLetter.values\n",
    "first_letter_enc = encoder.fit_transform(first_letter.reshape(-1, 1)).toarray()"
   ]
  },
  {
   "cell_type": "code",
   "execution_count": 15,
   "metadata": {},
   "outputs": [
    {
     "data": {
      "text/plain": [
       "(5027, 26)"
      ]
     },
     "execution_count": 15,
     "metadata": {},
     "output_type": "execute_result"
    }
   ],
   "source": [
    "np.shape(first_letter_enc)"
   ]
  },
  {
   "cell_type": "code",
   "execution_count": 16,
   "metadata": {},
   "outputs": [
    {
     "name": "stdout",
     "output_type": "stream",
     "text": [
      "The mean accuracy on the given train data and labels = 0.5562819783968164\n",
      "The mean accuracy on the given test data and labels = 0.5241882041086813\n",
      "Precision: 0.541\n",
      "Recall: 0.663\n",
      "F1: 0.596\n"
     ]
    }
   ],
   "source": [
    "# Split the data into a training and test set.\n",
    "X_train, X_test, y_train, y_test = train_test_split(first_letter_enc, \n",
    "                                                    labels, \n",
    "                                                    test_size = 0.3,\n",
    "                                                    stratify = labels)\n",
    "\n",
    "# Fit the model on the trainng data.\n",
    "nb_clf.fit(X_train, y_train)\n",
    "\n",
    "# Print the accuracy from the training data.\n",
    "print('The mean accuracy on the given train data and labels = ' + \n",
    "      str(nb_clf.score(X_train, y_train)))\n",
    "\n",
    "# Print the accuracy from the testing data.\n",
    "print('The mean accuracy on the given test data and labels = ' + \n",
    "      str(nb_clf.score(X_test, y_test)))\n",
    "\n",
    "print('Precision: %.3f' % precision_score(y_true=y_test, \n",
    "                                          y_pred=nb_clf.predict(X_test)))\n",
    "print('Recall: %.3f' % recall_score(y_true=y_test, \n",
    "                                    y_pred=nb_clf.predict(X_test)))\n",
    "print('F1: %.3f' % f1_score(y_true=y_test, \n",
    "                            y_pred=nb_clf.predict(X_test)))"
   ]
  },
  {
   "cell_type": "markdown",
   "metadata": {},
   "source": [
    "# Multilayer perceptron"
   ]
  },
  {
   "cell_type": "code",
   "execution_count": 17,
   "metadata": {},
   "outputs": [
    {
     "name": "stdout",
     "output_type": "stream",
     "text": [
      "2.0.0-beta1\n"
     ]
    }
   ],
   "source": [
    "import tensorflow as tf\n",
    "print(tf.__version__)"
   ]
  },
  {
   "cell_type": "markdown",
   "metadata": {},
   "source": [
    "**Create new features using TfidfVectorizer** "
   ]
  },
  {
   "cell_type": "code",
   "execution_count": 18,
   "metadata": {},
   "outputs": [],
   "source": [
    "from sklearn.feature_extraction.text import TfidfVectorizer\n",
    "\n",
    "def make_xy(df, vectorizer=None):    \n",
    "    if vectorizer is None:\n",
    "        vectorizer = TfidfVectorizer(min_df=0.0, \n",
    "                                     analyzer='char',\n",
    "                                     max_features=26)\n",
    "    X = vectorizer.fit_transform(df.Name).toarray()\n",
    "    y = (df.Gender == 1).values.astype(np.int)\n",
    "    return X, y"
   ]
  },
  {
   "cell_type": "code",
   "execution_count": 19,
   "metadata": {},
   "outputs": [],
   "source": [
    "X, y = make_xy(names)"
   ]
  },
  {
   "cell_type": "code",
   "execution_count": 20,
   "metadata": {},
   "outputs": [
    {
     "data": {
      "text/plain": [
       "(5027, 26)"
      ]
     },
     "execution_count": 20,
     "metadata": {},
     "output_type": "execute_result"
    }
   ],
   "source": [
    "np.shape(X)"
   ]
  },
  {
   "cell_type": "code",
   "execution_count": 21,
   "metadata": {},
   "outputs": [
    {
     "data": {
      "text/plain": [
       "array([1, 0, 1, ..., 0, 0, 0])"
      ]
     },
     "execution_count": 21,
     "metadata": {},
     "output_type": "execute_result"
    }
   ],
   "source": [
    "y"
   ]
  },
  {
   "cell_type": "markdown",
   "metadata": {},
   "source": [
    "# Creating tensors from numpy arrays and combining them in one dataset"
   ]
  },
  {
   "cell_type": "code",
   "execution_count": 22,
   "metadata": {},
   "outputs": [],
   "source": [
    "t_x = tf.data.Dataset.from_tensor_slices(X)\n",
    "t_y = tf.data.Dataset.from_tensor_slices(y)\n",
    "\n",
    "t_joint = tf.data.Dataset.zip((t_x, t_y))"
   ]
  },
  {
   "cell_type": "code",
   "execution_count": 23,
   "metadata": {},
   "outputs": [
    {
     "data": {
      "text/plain": [
       "<TensorSliceDataset shapes: (26,), types: tf.float64>"
      ]
     },
     "execution_count": 23,
     "metadata": {},
     "output_type": "execute_result"
    }
   ],
   "source": [
    "t_x"
   ]
  },
  {
   "cell_type": "code",
   "execution_count": 24,
   "metadata": {},
   "outputs": [
    {
     "data": {
      "text/plain": [
       "<ZipDataset shapes: ((26,), ()), types: (tf.float64, tf.int64)>"
      ]
     },
     "execution_count": 24,
     "metadata": {},
     "output_type": "execute_result"
    }
   ],
   "source": [
    "t_joint"
   ]
  },
  {
   "cell_type": "code",
   "execution_count": 25,
   "metadata": {},
   "outputs": [],
   "source": [
    "ds_orig = t_joint.shuffle(len(X), reshuffle_each_iteration=False)\n",
    "\n",
    "ds_train_orig = ds_orig.take(int(len(X)*0.7))\n",
    "ds_test = ds_orig.skip(int(len(X)*0.7))"
   ]
  },
  {
   "cell_type": "code",
   "execution_count": 26,
   "metadata": {},
   "outputs": [
    {
     "name": "stdout",
     "output_type": "stream",
     "text": [
      "3518\n",
      "1509\n"
     ]
    }
   ],
   "source": [
    "n = 0\n",
    "for example in ds_train_orig:\n",
    "    n += 1\n",
    "print(n)\n",
    "\n",
    "\n",
    "n = 0\n",
    "for example in ds_test:\n",
    "    n += 1\n",
    "print(n)"
   ]
  },
  {
   "cell_type": "code",
   "execution_count": 27,
   "metadata": {},
   "outputs": [
    {
     "name": "stdout",
     "output_type": "stream",
     "text": [
      "Model: \"sequential\"\n",
      "_________________________________________________________________\n",
      "Layer (type)                 Output Shape              Param #   \n",
      "=================================================================\n",
      "fully_connected1 (Dense)     (None, 26)                702       \n",
      "_________________________________________________________________\n",
      "fully_connected2 (Dense)     (None, 2)                 54        \n",
      "=================================================================\n",
      "Total params: 756\n",
      "Trainable params: 756\n",
      "Non-trainable params: 0\n",
      "_________________________________________________________________\n"
     ]
    }
   ],
   "source": [
    "mlp_model = tf.keras.Sequential([\n",
    "    tf.keras.layers.Dense(26, \n",
    "                          activation='sigmoid', \n",
    "                          name='fully_connected1', \n",
    "                          input_shape=(26,)),\n",
    "    tf.keras.layers.Dense(2, \n",
    "                          name='fully_connected2', \n",
    "                          activation='softmax')])\n",
    "\n",
    "mlp_model.summary()"
   ]
  },
  {
   "cell_type": "code",
   "execution_count": 28,
   "metadata": {},
   "outputs": [],
   "source": [
    "mlp_model.compile(optimizer='adam',\n",
    "                  loss='sparse_categorical_crossentropy',\n",
    "                  metrics=['accuracy'])"
   ]
  },
  {
   "cell_type": "code",
   "execution_count": 29,
   "metadata": {},
   "outputs": [
    {
     "name": "stdout",
     "output_type": "stream",
     "text": [
      "Epoch 1/100\n",
      "WARNING:tensorflow:From /opt/anaconda3/envs/deep_learn/lib/python3.6/site-packages/tensorflow/python/ops/math_grad.py:1250: add_dispatch_support.<locals>.wrapper (from tensorflow.python.ops.array_ops) is deprecated and will be removed in a future version.\n",
      "Instructions for updating:\n",
      "Use tf.where in 2.0, which has the same broadcast rule as np.where\n",
      "1759/1759 [==============================] - 4s 2ms/step - loss: 0.6823 - accuracy: 0.5617\n",
      "Epoch 2/100\n",
      "1759/1759 [==============================] - 4s 2ms/step - loss: 0.6589 - accuracy: 0.6074\n",
      "Epoch 3/100\n",
      "1759/1759 [==============================] - 4s 2ms/step - loss: 0.6454 - accuracy: 0.6234\n",
      "Epoch 4/100\n",
      "1759/1759 [==============================] - 4s 2ms/step - loss: 0.6351 - accuracy: 0.6475\n",
      "Epoch 5/100\n",
      "1759/1759 [==============================] - 3s 2ms/step - loss: 0.6301 - accuracy: 0.6526\n",
      "Epoch 6/100\n",
      "1759/1759 [==============================] - 4s 2ms/step - loss: 0.6249 - accuracy: 0.6455\n",
      "Epoch 7/100\n",
      "1759/1759 [==============================] - 4s 2ms/step - loss: 0.6190 - accuracy: 0.6566\n",
      "Epoch 8/100\n",
      "1759/1759 [==============================] - 4s 2ms/step - loss: 0.6155 - accuracy: 0.6663\n",
      "Epoch 9/100\n",
      "1759/1759 [==============================] - 4s 2ms/step - loss: 0.6146 - accuracy: 0.6669\n",
      "Epoch 10/100\n",
      "1759/1759 [==============================] - 4s 2ms/step - loss: 0.6123 - accuracy: 0.6671\n",
      "Epoch 11/100\n",
      "1759/1759 [==============================] - 4s 2ms/step - loss: 0.6120 - accuracy: 0.6688\n",
      "Epoch 12/100\n",
      "1759/1759 [==============================] - 4s 2ms/step - loss: 0.6108 - accuracy: 0.6691\n",
      "Epoch 13/100\n",
      "1759/1759 [==============================] - 4s 2ms/step - loss: 0.6112 - accuracy: 0.6740\n",
      "Epoch 14/100\n",
      "1759/1759 [==============================] - 4s 2ms/step - loss: 0.6101 - accuracy: 0.6711\n",
      "Epoch 15/100\n",
      "1759/1759 [==============================] - 4s 2ms/step - loss: 0.6092 - accuracy: 0.6711\n",
      "Epoch 16/100\n",
      "1759/1759 [==============================] - 4s 2ms/step - loss: 0.6097 - accuracy: 0.6677\n",
      "Epoch 17/100\n",
      "1759/1759 [==============================] - 4s 2ms/step - loss: 0.6081 - accuracy: 0.6762\n",
      "Epoch 18/100\n",
      "1759/1759 [==============================] - 4s 2ms/step - loss: 0.6091 - accuracy: 0.6720\n",
      "Epoch 19/100\n",
      "1759/1759 [==============================] - 4s 2ms/step - loss: 0.6081 - accuracy: 0.6686\n",
      "Epoch 20/100\n",
      "1759/1759 [==============================] - 4s 2ms/step - loss: 0.6090 - accuracy: 0.6714\n",
      "Epoch 21/100\n",
      "1759/1759 [==============================] - 4s 2ms/step - loss: 0.6094 - accuracy: 0.6697\n",
      "Epoch 22/100\n",
      "1759/1759 [==============================] - 5s 3ms/step - loss: 0.6089 - accuracy: 0.6703\n",
      "Epoch 23/100\n",
      "1759/1759 [==============================] - 4s 2ms/step - loss: 0.6090 - accuracy: 0.6745\n",
      "Epoch 24/100\n",
      "1759/1759 [==============================] - 4s 2ms/step - loss: 0.6077 - accuracy: 0.6734\n",
      "Epoch 25/100\n",
      "1759/1759 [==============================] - 4s 2ms/step - loss: 0.6077 - accuracy: 0.6762\n",
      "Epoch 26/100\n",
      "1759/1759 [==============================] - 4s 2ms/step - loss: 0.6092 - accuracy: 0.6697\n",
      "Epoch 27/100\n",
      "1759/1759 [==============================] - 6s 3ms/step - loss: 0.6079 - accuracy: 0.6742\n",
      "Epoch 28/100\n",
      "1759/1759 [==============================] - 6s 3ms/step - loss: 0.6083 - accuracy: 0.6754\n",
      "Epoch 29/100\n",
      "1759/1759 [==============================] - 6s 3ms/step - loss: 0.6081 - accuracy: 0.6771\n",
      "Epoch 30/100\n",
      "1759/1759 [==============================] - 4s 2ms/step - loss: 0.6093 - accuracy: 0.6779\n",
      "Epoch 31/100\n",
      "1759/1759 [==============================] - 4s 2ms/step - loss: 0.6089 - accuracy: 0.6708\n",
      "Epoch 32/100\n",
      "1759/1759 [==============================] - 4s 2ms/step - loss: 0.6078 - accuracy: 0.6762\n",
      "Epoch 33/100\n",
      "1759/1759 [==============================] - ETA: 0s - loss: 0.6091 - accuracy: 0.67 - 4s 2ms/step - loss: 0.6093 - accuracy: 0.6723\n",
      "Epoch 34/100\n",
      "1759/1759 [==============================] - 4s 2ms/step - loss: 0.6076 - accuracy: 0.6757\n",
      "Epoch 35/100\n",
      "1759/1759 [==============================] - 4s 2ms/step - loss: 0.6086 - accuracy: 0.6751\n",
      "Epoch 36/100\n",
      "1759/1759 [==============================] - 4s 2ms/step - loss: 0.6085 - accuracy: 0.6794\n",
      "Epoch 37/100\n",
      "1759/1759 [==============================] - 4s 3ms/step - loss: 0.6071 - accuracy: 0.6731\n",
      "Epoch 38/100\n",
      "1759/1759 [==============================] - 4s 3ms/step - loss: 0.6079 - accuracy: 0.6740\n",
      "Epoch 39/100\n",
      "1759/1759 [==============================] - 4s 2ms/step - loss: 0.6071 - accuracy: 0.6725\n",
      "Epoch 40/100\n",
      "1759/1759 [==============================] - 4s 2ms/step - loss: 0.6068 - accuracy: 0.6762\n",
      "Epoch 41/100\n",
      "1759/1759 [==============================] - 4s 2ms/step - loss: 0.6071 - accuracy: 0.6754\n",
      "Epoch 42/100\n",
      "1759/1759 [==============================] - 4s 2ms/step - loss: 0.6071 - accuracy: 0.6745\n",
      "Epoch 43/100\n",
      "1759/1759 [==============================] - 4s 3ms/step - loss: 0.6071 - accuracy: 0.6708\n",
      "Epoch 44/100\n",
      "1759/1759 [==============================] - 4s 3ms/step - loss: 0.6084 - accuracy: 0.6777\n",
      "Epoch 45/100\n",
      "1759/1759 [==============================] - 4s 2ms/step - loss: 0.6082 - accuracy: 0.6734\n",
      "Epoch 46/100\n",
      "1759/1759 [==============================] - 5s 3ms/step - loss: 0.6078 - accuracy: 0.6725\n",
      "Epoch 47/100\n",
      "1759/1759 [==============================] - 4s 2ms/step - loss: 0.6069 - accuracy: 0.6765\n",
      "Epoch 48/100\n",
      "1759/1759 [==============================] - 4s 2ms/step - loss: 0.6066 - accuracy: 0.6731\n",
      "Epoch 49/100\n",
      "1759/1759 [==============================] - 5s 3ms/step - loss: 0.6073 - accuracy: 0.6697\n",
      "Epoch 50/100\n",
      "1759/1759 [==============================] - 4s 2ms/step - loss: 0.6078 - accuracy: 0.6720\n",
      "Epoch 51/100\n",
      "1759/1759 [==============================] - 4s 2ms/step - loss: 0.6067 - accuracy: 0.6760\n",
      "Epoch 52/100\n",
      "1759/1759 [==============================] - 4s 2ms/step - loss: 0.6073 - accuracy: 0.6785\n",
      "Epoch 53/100\n",
      "1759/1759 [==============================] - 4s 2ms/step - loss: 0.6076 - accuracy: 0.6777\n",
      "Epoch 54/100\n",
      "1759/1759 [==============================] - 5s 3ms/step - loss: 0.6069 - accuracy: 0.6691\n",
      "Epoch 55/100\n",
      "1759/1759 [==============================] - 7s 4ms/step - loss: 0.6079 - accuracy: 0.6731\n",
      "Epoch 56/100\n",
      "1759/1759 [==============================] - 4s 2ms/step - loss: 0.6068 - accuracy: 0.6754\n",
      "Epoch 57/100\n",
      "1759/1759 [==============================] - 4s 2ms/step - loss: 0.6068 - accuracy: 0.6833\n",
      "Epoch 58/100\n",
      "1759/1759 [==============================] - 4s 2ms/step - loss: 0.6071 - accuracy: 0.6723\n",
      "Epoch 59/100\n",
      "1759/1759 [==============================] - 4s 3ms/step - loss: 0.6070 - accuracy: 0.6754\n",
      "Epoch 60/100\n",
      "1759/1759 [==============================] - 6s 3ms/step - loss: 0.6053 - accuracy: 0.6737\n",
      "Epoch 61/100\n",
      "1759/1759 [==============================] - 4s 2ms/step - loss: 0.6064 - accuracy: 0.6751\n",
      "Epoch 62/100\n",
      "1759/1759 [==============================] - 5s 3ms/step - loss: 0.6073 - accuracy: 0.6754\n",
      "Epoch 63/100\n",
      "1759/1759 [==============================] - 4s 2ms/step - loss: 0.6059 - accuracy: 0.6760\n",
      "Epoch 64/100\n",
      "1759/1759 [==============================] - 4s 2ms/step - loss: 0.6058 - accuracy: 0.6799\n",
      "Epoch 65/100\n",
      "1759/1759 [==============================] - 3s 2ms/step - loss: 0.6054 - accuracy: 0.6748\n",
      "Epoch 66/100\n",
      "1759/1759 [==============================] - 4s 2ms/step - loss: 0.6058 - accuracy: 0.6740\n",
      "Epoch 67/100\n",
      "1759/1759 [==============================] - 4s 2ms/step - loss: 0.6038 - accuracy: 0.6825\n",
      "Epoch 68/100\n",
      "1759/1759 [==============================] - 4s 2ms/step - loss: 0.6051 - accuracy: 0.6714\n",
      "Epoch 69/100\n",
      "1759/1759 [==============================] - 5s 3ms/step - loss: 0.6048 - accuracy: 0.6785\n",
      "Epoch 70/100\n",
      "1759/1759 [==============================] - 4s 2ms/step - loss: 0.6066 - accuracy: 0.6714\n",
      "Epoch 71/100\n",
      "1759/1759 [==============================] - 4s 2ms/step - loss: 0.6045 - accuracy: 0.6725\n",
      "Epoch 72/100\n",
      "1759/1759 [==============================] - 4s 2ms/step - loss: 0.6062 - accuracy: 0.6720\n",
      "Epoch 73/100\n",
      "1759/1759 [==============================] - 5s 3ms/step - loss: 0.6055 - accuracy: 0.6760\n",
      "Epoch 74/100\n",
      "1759/1759 [==============================] - 4s 2ms/step - loss: 0.6043 - accuracy: 0.6799\n",
      "Epoch 75/100\n",
      "1759/1759 [==============================] - 4s 2ms/step - loss: 0.6040 - accuracy: 0.6833\n",
      "Epoch 76/100\n"
     ]
    },
    {
     "name": "stdout",
     "output_type": "stream",
     "text": [
      "1759/1759 [==============================] - 4s 2ms/step - loss: 0.6043 - accuracy: 0.6794\n",
      "Epoch 77/100\n",
      "1759/1759 [==============================] - 4s 2ms/step - loss: 0.6046 - accuracy: 0.6754\n",
      "Epoch 78/100\n",
      "1759/1759 [==============================] - 4s 2ms/step - loss: 0.6041 - accuracy: 0.6777\n",
      "Epoch 79/100\n",
      "1759/1759 [==============================] - 5s 3ms/step - loss: 0.6047 - accuracy: 0.6757\n",
      "Epoch 80/100\n",
      "1759/1759 [==============================] - 5s 3ms/step - loss: 0.6031 - accuracy: 0.6748\n",
      "Epoch 81/100\n",
      "1759/1759 [==============================] - 4s 2ms/step - loss: 0.6040 - accuracy: 0.6791\n",
      "Epoch 82/100\n",
      "1759/1759 [==============================] - 4s 3ms/step - loss: 0.6039 - accuracy: 0.6725\n",
      "Epoch 83/100\n",
      "1759/1759 [==============================] - 4s 2ms/step - loss: 0.6031 - accuracy: 0.6762\n",
      "Epoch 84/100\n",
      "1759/1759 [==============================] - 4s 2ms/step - loss: 0.6042 - accuracy: 0.6774\n",
      "Epoch 85/100\n",
      "1759/1759 [==============================] - 4s 2ms/step - loss: 0.6034 - accuracy: 0.6751\n",
      "Epoch 86/100\n",
      "1759/1759 [==============================] - 5s 3ms/step - loss: 0.6024 - accuracy: 0.6762\n",
      "Epoch 87/100\n",
      "1759/1759 [==============================] - 5s 3ms/step - loss: 0.6025 - accuracy: 0.6765\n",
      "Epoch 88/100\n",
      "1759/1759 [==============================] - 3s 2ms/step - loss: 0.6025 - accuracy: 0.6816\n",
      "Epoch 89/100\n",
      "1759/1759 [==============================] - 3s 2ms/step - loss: 0.6027 - accuracy: 0.6799\n",
      "Epoch 90/100\n",
      "1759/1759 [==============================] - 3s 2ms/step - loss: 0.6026 - accuracy: 0.6782\n",
      "Epoch 91/100\n",
      "1759/1759 [==============================] - 3s 2ms/step - loss: 0.6013 - accuracy: 0.6802\n",
      "Epoch 92/100\n",
      "1759/1759 [==============================] - 3s 2ms/step - loss: 0.6009 - accuracy: 0.6757\n",
      "Epoch 93/100\n",
      "1759/1759 [==============================] - 3s 2ms/step - loss: 0.6006 - accuracy: 0.6785\n",
      "Epoch 94/100\n",
      "1759/1759 [==============================] - 3s 2ms/step - loss: 0.6010 - accuracy: 0.6774\n",
      "Epoch 95/100\n",
      "1759/1759 [==============================] - 3s 2ms/step - loss: 0.6004 - accuracy: 0.6808\n",
      "Epoch 96/100\n",
      "1759/1759 [==============================] - 3s 2ms/step - loss: 0.5989 - accuracy: 0.6822\n",
      "Epoch 97/100\n",
      "1759/1759 [==============================] - 3s 2ms/step - loss: 0.5987 - accuracy: 0.6779\n",
      "Epoch 98/100\n",
      "1759/1759 [==============================] - 3s 2ms/step - loss: 0.6002 - accuracy: 0.6779\n",
      "Epoch 99/100\n",
      "1759/1759 [==============================] - 3s 2ms/step - loss: 0.5996 - accuracy: 0.6808\n",
      "Epoch 100/100\n",
      "1759/1759 [==============================] - 3s 2ms/step - loss: 0.5983 - accuracy: 0.6862\n"
     ]
    }
   ],
   "source": [
    "num_epochs = 100\n",
    "training_size = int(len(X)*0.7)\n",
    "batch_size = 2\n",
    "steps_per_epoch = np.ceil(training_size / batch_size)\n",
    "\n",
    "ds_train = ds_train_orig.shuffle(buffer_size=training_size)\n",
    "ds_train = ds_train.repeat()\n",
    "ds_train = ds_train.batch(batch_size=batch_size)\n",
    "ds_train = ds_train.prefetch(buffer_size=1000)\n",
    "\n",
    "history = mlp_model.fit(ds_train, \n",
    "                         epochs=num_epochs,\n",
    "                         steps_per_epoch=steps_per_epoch)"
   ]
  },
  {
   "cell_type": "code",
   "execution_count": 30,
   "metadata": {},
   "outputs": [
    {
     "data": {
      "image/png": "[encoded data removed]",
      "text/plain": [
       "<Figure size 864x360 with 2 Axes>"
      ]
     },
     "metadata": {
      "needs_background": "light"
     },
     "output_type": "display_data"
    }
   ],
   "source": [
    "hist = history.history\n",
    "\n",
    "fig = plt.figure(figsize=(12, 5))\n",
    "ax = fig.add_subplot(1, 2, 1)\n",
    "ax.plot(hist['loss'], lw=3)\n",
    "ax.set_title('Training loss', size=15)\n",
    "ax.set_xlabel('Epoch', size=15)\n",
    "ax.tick_params(axis='both', which='major', labelsize=15)\n",
    "\n",
    "ax = fig.add_subplot(1, 2, 2)\n",
    "ax.plot(hist['accuracy'], lw=3)\n",
    "ax.set_title('Training accuracy', size=15)\n",
    "ax.set_xlabel('Epoch', size=15)\n",
    "ax.tick_params(axis='both', which='major', labelsize=15)\n",
    "plt.tight_layout()\n",
    "\n",
    "plt.show()"
   ]
  },
  {
   "cell_type": "code",
   "execution_count": null,
   "metadata": {},
   "outputs": [],
   "source": []
  }
 ],
 "metadata": {
  "kernelspec": {
   "display_name": "Python 3",
   "language": "python",
   "name": "python3"
  },
  "language_info": {
   "codemirror_mode": {
    "name": "ipython",
    "version": 3
   },
   "file_extension": ".py",
   "mimetype": "text/x-python",
   "name": "python",
   "nbconvert_exporter": "python",
   "pygments_lexer": "ipython3",
   "version": "3.6.10"
  }
 },
 "nbformat": 4,
 "nbformat_minor": 2
}
